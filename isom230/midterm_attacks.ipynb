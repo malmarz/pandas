{
 "cells": [
  {
   "cell_type": "markdown",
   "metadata": {},
   "source": [
    "# Student Name:\n",
    "# Student ID:\n",
    "\n",
    "## Exploratory Data Analysis\n",
    "\n",
    "Signup and join kaggle.com to download the following dataset:\n",
    "- [Kickstarter Projects](https://www.kaggle.com/kemical/kickstarter-projects/data)\n",
    "\n",
    "Then perform an exploratory analysis to find some initial insights and prepare a report.\n",
    "\n",
    "Remember, that you are approaching the data with no specific question, only to get some general insights on it, so you can be able to ask the right questions in future analysis.\n",
    "\n",
    "Be sure to perform the following steps:\n",
    "\n",
    "1. Identify the variables in the data set and prepare a table describing what each variable represents. See [table markdown](https://github.com/adam-p/markdown-here/wiki/Markdown-Cheatsheet#tables) to see how to write create markdown tables in your report. Description should include:\n",
    " - Variable definition\n",
    " - Data type\n",
    " - Missing data report\n",
    " - Report on the distribution of the data\n",
    " - level of analysis\n",
    " \n",
    "2. Include table or list of all transformed variables/aggregations that were used in the study and include:\n",
    " - Variable description\n",
    " - Steps in transformation\n",
    " - Distribution if applicable\n",
    " - level of analysis\n",
    " \n",
    "3. Start exploring relationships and groups to identify insights. Under every graph, write the main insights derived from the graph, and then compile a list of insights at the top of the report\n",
    "\n",
    "4. Prepare a list of possible questions that come to mind after discovering these insights, and explain whether the question can be answered with the current data, or will require more data?\n",
    "\n",
    "\n",
    "Note: Include responses to these 4 items in the top 4 cells of the report using mardown. the analysis should be at the bottom of the report in a section labeled **Analysis**\n",
    "\n",
    "You will be evaluated on following the instructions in this notebook, and how well you use the plots.\n",
    "\n"
   ]
  },
  {
   "cell_type": "code",
   "execution_count": null,
   "metadata": {
    "collapsed": true
   },
   "outputs": [],
   "source": []
  }
 ],
 "metadata": {
  "kernelspec": {
   "display_name": "Python 3",
   "language": "python",
   "name": "python3"
  },
  "language_info": {
   "codemirror_mode": {
    "name": "ipython",
    "version": 3
   },
   "file_extension": ".py",
   "mimetype": "text/x-python",
   "name": "python",
   "nbconvert_exporter": "python",
   "pygments_lexer": "ipython3",
   "version": "3.7.0"
  }
 },
 "nbformat": 4,
 "nbformat_minor": 2
}

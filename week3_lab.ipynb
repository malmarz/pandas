{
 "cells": [
  {
   "cell_type": "markdown",
   "metadata": {},
   "source": [
    "# Name:\n",
    "# ID:\n",
    "\n",
    "Load the [cars.json](\"https://github.com/vega/vega-datasets/raw/gh-pages/data/cars.json\") data set using:\n",
    "```python\n",
    "pd.read_json(url)\n",
    "```\n",
    "Then perform the proper steps to answer the questions in the cells"
   ]
  },
  {
   "cell_type": "code",
   "execution_count": 1,
   "metadata": {},
   "outputs": [],
   "source": [
    "# What columns are there? and how does the data look like?"
   ]
  },
  {
   "cell_type": "code",
   "execution_count": 3,
   "metadata": {},
   "outputs": [],
   "source": [
    "# What are the data types for the columns?\n",
    "# are there any columns with a data type that needs fixing?\n",
    "# explain what is the best way to fix the column?\n",
    "# is there another way to fix that column? explain it"
   ]
  },
  {
   "cell_type": "code",
   "execution_count": 4,
   "metadata": {},
   "outputs": [],
   "source": [
    "# fix the column with the problematic data type"
   ]
  },
  {
   "cell_type": "code",
   "execution_count": 5,
   "metadata": {},
   "outputs": [],
   "source": [
    "# Examine the columns Cylinders, Acceleriation, Origin, and Horsepower separatly, \n",
    "# and give the following information:\n",
    "# 1- Which column are you examining?\n",
    "# 2- Is the variable descrete or continuous?\n",
    "# 3- Give descriptive statistics or frequencies\n",
    "# 4- Plot histogram and line graph, and explain why not if not possible\n",
    "# 5- Are there are missing values in that column? (NaN or NA?)\n",
    "# 6- Describe the distribution of the column for continuous variables\n",
    "\n",
    "# Create a separate cell for each column"
   ]
  },
  {
   "cell_type": "code",
   "execution_count": 6,
   "metadata": {},
   "outputs": [],
   "source": [
    "# Find the top 5 cars that have the highest weight"
   ]
  },
  {
   "cell_type": "code",
   "execution_count": 7,
   "metadata": {},
   "outputs": [],
   "source": [
    "# Find the top5 cars with the most cylinders, but the least horse power"
   ]
  },
  {
   "cell_type": "code",
   "execution_count": 8,
   "metadata": {},
   "outputs": [],
   "source": [
    "# List all the cars that have above average miles_per_galons which are made in the USA\n",
    "# then calculate the frequencies for the Cylinder column"
   ]
  },
  {
   "cell_type": "code",
   "execution_count": 9,
   "metadata": {},
   "outputs": [],
   "source": [
    "# List all the cars that have below average miles_per_galons which are made in the USA\n",
    "# then calculate the frequencies for the Cylinder column"
   ]
  },
  {
   "cell_type": "code",
   "execution_count": 10,
   "metadata": {},
   "outputs": [],
   "source": [
    "# Compare the frequencies for the number of cylinders between abover average \n",
    "# and below average miles per gallon cars, what do you notice?\n",
    "# are there any interesting observations or findings? let us know what they are"
   ]
  },
  {
   "cell_type": "markdown",
   "metadata": {},
   "source": [
    "# Creating a pdf report and presentation\n",
    "\n",
    "Here you will learn how to create a pdf report and presentation slides from your notebook.\n",
    "\n",
    "## Create PDF document\n",
    "\n",
    "1. Download and install [pandoc](https://pandoc.org/installing.html)\n",
    "2. run the following command in the command line, in the same directory as your notebook:\n",
    "\n",
    "```bash\n",
    "jupyter nbconvert --to pdf week3_lab.ipynb\n",
    "```\n",
    "3. Look for week3_lab.pdf, open it to examine the output, then **send it to your instructor instead of the notebook**.\n",
    "\n",
    "**Note:** week3_lab.ipynb is the name of the notebook file, in the future replace it with the same of the file you want to convert.\n",
    "\n",
    "## Creating slides\n",
    "\n",
    "1. Install the slides plug in to make it easier to run slides, type the following in the command line:\n",
    "```bash\n",
    "conda install -c damianavila82 rise\n",
    "```\n",
    "2. The slides use reveal.js, you can learn more about it [here](http://lab.hakim.se/reveal-js/). To use the slides you need to download reveal.js and place it in the same directory as the notebook.\n",
    "\n",
    "    Download [reveal.js](https://github.com/hakimel/reveal.js/releases) and unzip it into the same directory as your python notebook\n",
    "\n",
    "3. Restart your notebook, and look up top at the menu in jupyer notebook. Select View -> Cell tool bar -> Slideshows\n",
    "\n",
    "    This will allow you to set which cells are made into slides and which ones to hide. \n",
    "\n",
    "4. To start the slideshow simply click on the **Enter/Exit Live Reveal Slideshow** button up top."
   ]
  },
  {
   "cell_type": "code",
   "execution_count": null,
   "metadata": {},
   "outputs": [],
   "source": []
  }
 ],
 "metadata": {
  "kernelspec": {
   "display_name": "Python 3",
   "language": "python",
   "name": "python3"
  },
  "language_info": {
   "codemirror_mode": {
    "name": "ipython",
    "version": 3
   },
   "file_extension": ".py",
   "mimetype": "text/x-python",
   "name": "python",
   "nbconvert_exporter": "python",
   "pygments_lexer": "ipython3",
   "version": "3.5.2"
  }
 },
 "nbformat": 4,
 "nbformat_minor": 1
}

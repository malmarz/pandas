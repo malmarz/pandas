{
 "cells": [
  {
   "cell_type": "markdown",
   "metadata": {
    "slideshow": {
     "slide_type": "slide"
    }
   },
   "source": [
    "## CBA Marathon Courses Fall 2018\n",
    "# Data Analysis and Visualization Using Python\n",
    "## Module 3 - Pandas\n",
    "\n",
    "### Dr. Mohammad AlMarzouq\n",
    "\n"
   ]
  },
  {
   "cell_type": "markdown",
   "metadata": {
    "slideshow": {
     "slide_type": "slide"
    }
   },
   "source": [
    "# Introduction to Pandas\n",
    "\n",
    "- It is a python [3rd party library](https://pandas.pydata.org)\n",
    "- Used for data analysis and visualization\n",
    "- Part of Anaconda python distribution\n",
    "- Best used with Jupyter notebook, can be used with regular python programs\n",
    "- Main feature is the Data Frame"
   ]
  },
  {
   "cell_type": "code",
   "execution_count": 1,
   "metadata": {},
   "outputs": [],
   "source": [
    "# Load the pandas library to let python know you will use it\n",
    "import pandas as pd"
   ]
  },
  {
   "cell_type": "markdown",
   "metadata": {
    "slideshow": {
     "slide_type": "slide"
    }
   },
   "source": [
    "# What is a Data Frame?\n",
    "- Its a data structure, like lists and dictionaries\n",
    "- Consists of rows and columns, similar to SQL tables and excel spreadsheets\n",
    "  - Columns are attributes or variables\n",
    "  - Rows are records or single observations\n",
    "- Operations are typically performed on columns\n",
    "- Has both numeric and named indexing"
   ]
  },
  {
   "cell_type": "markdown",
   "metadata": {
    "slideshow": {
     "slide_type": "slide"
    }
   },
   "source": [
    "# Tidy Data\n",
    "- Standard form of organizing data in dataframe such that:\n",
    "    - Each variable forms a column\n",
    "    - Each row forms a row\n",
    "    - Each table is an observational unit (level of analysis)\n",
    "- Required reading: [Tidy Data, by Hadley Wickham](http://vita.had.co.nz/papers/tidy-data.pdf)"
   ]
  },
  {
   "cell_type": "markdown",
   "metadata": {
    "collapsed": true,
    "slideshow": {
     "slide_type": "slide"
    }
   },
   "source": [
    "# Untidy/messy data can have\n",
    "- Missing column names\n",
    "- Aggregate/duplicate data\n",
    "- Values for different variables in same column\n",
    "- Data that should be on multiple tables is fitted into a single table\n",
    "- ...more"
   ]
  },
  {
   "cell_type": "markdown",
   "metadata": {
    "slideshow": {
     "slide_type": "slide"
    }
   },
   "source": [
    "# Example of untidy/messy data\n",
    "| ID | Variable Name  | Value  |\n",
    "|:-:|:-:|:-:|\n",
    "| 1 | width | 10 |\n",
    "| 1 | length | 12 |\n",
    "| 1 | color | red |\n",
    "| 2 | width |  3|  |\n",
    "| 2 | length | 5 |  |\n",
    "| 2 | color |  green |"
   ]
  },
  {
   "cell_type": "markdown",
   "metadata": {
    "slideshow": {
     "slide_type": "slide"
    }
   },
   "source": [
    "# Example of tidy data\n",
    "| ID | width  | length  | color |\n",
    "|:-:|:-:|:-:| :-: |\n",
    "| 1 | 10 | 12 | red |\n",
    "| 2 | 3 | 5 |  green |"
   ]
  },
  {
   "cell_type": "markdown",
   "metadata": {
    "slideshow": {
     "slide_type": "slide"
    }
   },
   "source": [
    "# Importance of Tidy Data\n",
    "- Most tools we will use assume that data is tidy\n",
    "- Collected data is likely messy or non-tidy, need to learn how to reshape it\n",
    "- We will start with tidy data in our analysis\n",
    "    - Will learn how to reshape when we start data collection\n"
   ]
  },
  {
   "cell_type": "markdown",
   "metadata": {
    "slideshow": {
     "slide_type": "slide"
    }
   },
   "source": [
    "# Loading data into a data frame\n",
    "\n",
    "- Data is usually loaded/collected from an external source, like an api, website, csv, or excel file, and might not be well organized. \n",
    "    - We will start with well organized and behaved data to get to know how to use Pandas\n",
    "- Download the weather data set from [vega-dataset](https://raw.githubusercontent.com/vega/vega-datasets/gh-pages/data/weather.csv) (**right click and save as**)\n",
    "- Place it in the same directory as the jupyter notbook you are working on"
   ]
  },
  {
   "cell_type": "code",
   "execution_count": 5,
   "metadata": {
    "slideshow": {
     "slide_type": "slide"
    }
   },
   "outputs": [
    {
     "data": {
      "text/html": [
       "<div>\n",
       "<table border=\"1\" class=\"dataframe\">\n",
       "  <thead>\n",
       "    <tr style=\"text-align: right;\">\n",
       "      <th></th>\n",
       "      <th>location</th>\n",
       "      <th>date</th>\n",
       "      <th>precipitation</th>\n",
       "      <th>temp_max</th>\n",
       "      <th>temp_min</th>\n",
       "      <th>wind</th>\n",
       "      <th>weather</th>\n",
       "    </tr>\n",
       "  </thead>\n",
       "  <tbody>\n",
       "    <tr>\n",
       "      <th>0</th>\n",
       "      <td>Seattle</td>\n",
       "      <td>2012-01-01 00:00</td>\n",
       "      <td>0.0</td>\n",
       "      <td>12.8</td>\n",
       "      <td>5.0</td>\n",
       "      <td>4.7</td>\n",
       "      <td>drizzle</td>\n",
       "    </tr>\n",
       "    <tr>\n",
       "      <th>1</th>\n",
       "      <td>Seattle</td>\n",
       "      <td>2012-01-02 00:00</td>\n",
       "      <td>10.9</td>\n",
       "      <td>10.6</td>\n",
       "      <td>2.8</td>\n",
       "      <td>4.5</td>\n",
       "      <td>rain</td>\n",
       "    </tr>\n",
       "    <tr>\n",
       "      <th>2</th>\n",
       "      <td>Seattle</td>\n",
       "      <td>2012-01-03 00:00</td>\n",
       "      <td>0.8</td>\n",
       "      <td>11.7</td>\n",
       "      <td>7.2</td>\n",
       "      <td>2.3</td>\n",
       "      <td>rain</td>\n",
       "    </tr>\n",
       "    <tr>\n",
       "      <th>3</th>\n",
       "      <td>Seattle</td>\n",
       "      <td>2012-01-04 00:00</td>\n",
       "      <td>20.3</td>\n",
       "      <td>12.2</td>\n",
       "      <td>5.6</td>\n",
       "      <td>4.7</td>\n",
       "      <td>rain</td>\n",
       "    </tr>\n",
       "    <tr>\n",
       "      <th>4</th>\n",
       "      <td>Seattle</td>\n",
       "      <td>2012-01-05 00:00</td>\n",
       "      <td>1.3</td>\n",
       "      <td>8.9</td>\n",
       "      <td>2.8</td>\n",
       "      <td>6.1</td>\n",
       "      <td>rain</td>\n",
       "    </tr>\n",
       "    <tr>\n",
       "      <th>5</th>\n",
       "      <td>Seattle</td>\n",
       "      <td>2012-01-06 00:00</td>\n",
       "      <td>2.5</td>\n",
       "      <td>4.4</td>\n",
       "      <td>2.2</td>\n",
       "      <td>2.2</td>\n",
       "      <td>rain</td>\n",
       "    </tr>\n",
       "    <tr>\n",
       "      <th>6</th>\n",
       "      <td>Seattle</td>\n",
       "      <td>2012-01-07 00:00</td>\n",
       "      <td>0.0</td>\n",
       "      <td>7.2</td>\n",
       "      <td>2.8</td>\n",
       "      <td>2.3</td>\n",
       "      <td>rain</td>\n",
       "    </tr>\n",
       "    <tr>\n",
       "      <th>7</th>\n",
       "      <td>Seattle</td>\n",
       "      <td>2012-01-08 00:00</td>\n",
       "      <td>0.0</td>\n",
       "      <td>10.0</td>\n",
       "      <td>2.8</td>\n",
       "      <td>2.0</td>\n",
       "      <td>sun</td>\n",
       "    </tr>\n",
       "    <tr>\n",
       "      <th>8</th>\n",
       "      <td>Seattle</td>\n",
       "      <td>2012-01-09 00:00</td>\n",
       "      <td>4.3</td>\n",
       "      <td>9.4</td>\n",
       "      <td>5.0</td>\n",
       "      <td>3.4</td>\n",
       "      <td>rain</td>\n",
       "    </tr>\n",
       "    <tr>\n",
       "      <th>9</th>\n",
       "      <td>Seattle</td>\n",
       "      <td>2012-01-10 00:00</td>\n",
       "      <td>1.0</td>\n",
       "      <td>6.1</td>\n",
       "      <td>0.6</td>\n",
       "      <td>3.4</td>\n",
       "      <td>rain</td>\n",
       "    </tr>\n",
       "    <tr>\n",
       "      <th>10</th>\n",
       "      <td>Seattle</td>\n",
       "      <td>2012-01-11 00:00</td>\n",
       "      <td>0.0</td>\n",
       "      <td>6.1</td>\n",
       "      <td>-1.1</td>\n",
       "      <td>5.1</td>\n",
       "      <td>sun</td>\n",
       "    </tr>\n",
       "    <tr>\n",
       "      <th>11</th>\n",
       "      <td>Seattle</td>\n",
       "      <td>2012-01-12 00:00</td>\n",
       "      <td>0.0</td>\n",
       "      <td>6.1</td>\n",
       "      <td>-1.7</td>\n",
       "      <td>1.9</td>\n",
       "      <td>sun</td>\n",
       "    </tr>\n",
       "    <tr>\n",
       "      <th>12</th>\n",
       "      <td>Seattle</td>\n",
       "      <td>2012-01-13 00:00</td>\n",
       "      <td>0.0</td>\n",
       "      <td>5.0</td>\n",
       "      <td>-2.8</td>\n",
       "      <td>1.3</td>\n",
       "      <td>sun</td>\n",
       "    </tr>\n",
       "    <tr>\n",
       "      <th>13</th>\n",
       "      <td>Seattle</td>\n",
       "      <td>2012-01-14 00:00</td>\n",
       "      <td>4.1</td>\n",
       "      <td>4.4</td>\n",
       "      <td>0.6</td>\n",
       "      <td>5.3</td>\n",
       "      <td>snow</td>\n",
       "    </tr>\n",
       "    <tr>\n",
       "      <th>14</th>\n",
       "      <td>Seattle</td>\n",
       "      <td>2012-01-15 00:00</td>\n",
       "      <td>5.3</td>\n",
       "      <td>1.1</td>\n",
       "      <td>-3.3</td>\n",
       "      <td>3.2</td>\n",
       "      <td>snow</td>\n",
       "    </tr>\n",
       "    <tr>\n",
       "      <th>15</th>\n",
       "      <td>Seattle</td>\n",
       "      <td>2012-01-16 00:00</td>\n",
       "      <td>2.5</td>\n",
       "      <td>1.7</td>\n",
       "      <td>-2.8</td>\n",
       "      <td>5.0</td>\n",
       "      <td>snow</td>\n",
       "    </tr>\n",
       "    <tr>\n",
       "      <th>16</th>\n",
       "      <td>Seattle</td>\n",
       "      <td>2012-01-17 00:00</td>\n",
       "      <td>8.1</td>\n",
       "      <td>3.3</td>\n",
       "      <td>0.0</td>\n",
       "      <td>5.6</td>\n",
       "      <td>snow</td>\n",
       "    </tr>\n",
       "    <tr>\n",
       "      <th>17</th>\n",
       "      <td>Seattle</td>\n",
       "      <td>2012-01-18 00:00</td>\n",
       "      <td>19.8</td>\n",
       "      <td>0.0</td>\n",
       "      <td>-2.8</td>\n",
       "      <td>5.0</td>\n",
       "      <td>snow</td>\n",
       "    </tr>\n",
       "    <tr>\n",
       "      <th>18</th>\n",
       "      <td>Seattle</td>\n",
       "      <td>2012-01-19 00:00</td>\n",
       "      <td>15.2</td>\n",
       "      <td>-1.1</td>\n",
       "      <td>-2.8</td>\n",
       "      <td>1.6</td>\n",
       "      <td>snow</td>\n",
       "    </tr>\n",
       "    <tr>\n",
       "      <th>19</th>\n",
       "      <td>Seattle</td>\n",
       "      <td>2012-01-20 00:00</td>\n",
       "      <td>13.5</td>\n",
       "      <td>7.2</td>\n",
       "      <td>-1.1</td>\n",
       "      <td>2.3</td>\n",
       "      <td>snow</td>\n",
       "    </tr>\n",
       "    <tr>\n",
       "      <th>20</th>\n",
       "      <td>Seattle</td>\n",
       "      <td>2012-01-21 00:00</td>\n",
       "      <td>3.0</td>\n",
       "      <td>8.3</td>\n",
       "      <td>3.3</td>\n",
       "      <td>8.2</td>\n",
       "      <td>rain</td>\n",
       "    </tr>\n",
       "    <tr>\n",
       "      <th>21</th>\n",
       "      <td>Seattle</td>\n",
       "      <td>2012-01-22 00:00</td>\n",
       "      <td>6.1</td>\n",
       "      <td>6.7</td>\n",
       "      <td>2.2</td>\n",
       "      <td>4.8</td>\n",
       "      <td>rain</td>\n",
       "    </tr>\n",
       "    <tr>\n",
       "      <th>22</th>\n",
       "      <td>Seattle</td>\n",
       "      <td>2012-01-23 00:00</td>\n",
       "      <td>0.0</td>\n",
       "      <td>8.3</td>\n",
       "      <td>1.1</td>\n",
       "      <td>3.6</td>\n",
       "      <td>rain</td>\n",
       "    </tr>\n",
       "    <tr>\n",
       "      <th>23</th>\n",
       "      <td>Seattle</td>\n",
       "      <td>2012-01-24 00:00</td>\n",
       "      <td>8.6</td>\n",
       "      <td>10.0</td>\n",
       "      <td>2.2</td>\n",
       "      <td>5.1</td>\n",
       "      <td>rain</td>\n",
       "    </tr>\n",
       "    <tr>\n",
       "      <th>24</th>\n",
       "      <td>Seattle</td>\n",
       "      <td>2012-01-25 00:00</td>\n",
       "      <td>8.1</td>\n",
       "      <td>8.9</td>\n",
       "      <td>4.4</td>\n",
       "      <td>5.4</td>\n",
       "      <td>rain</td>\n",
       "    </tr>\n",
       "    <tr>\n",
       "      <th>25</th>\n",
       "      <td>Seattle</td>\n",
       "      <td>2012-01-26 00:00</td>\n",
       "      <td>4.8</td>\n",
       "      <td>8.9</td>\n",
       "      <td>1.1</td>\n",
       "      <td>4.8</td>\n",
       "      <td>rain</td>\n",
       "    </tr>\n",
       "    <tr>\n",
       "      <th>26</th>\n",
       "      <td>Seattle</td>\n",
       "      <td>2012-01-27 00:00</td>\n",
       "      <td>0.0</td>\n",
       "      <td>6.7</td>\n",
       "      <td>-2.2</td>\n",
       "      <td>1.4</td>\n",
       "      <td>drizzle</td>\n",
       "    </tr>\n",
       "    <tr>\n",
       "      <th>27</th>\n",
       "      <td>Seattle</td>\n",
       "      <td>2012-01-28 00:00</td>\n",
       "      <td>0.0</td>\n",
       "      <td>6.7</td>\n",
       "      <td>0.6</td>\n",
       "      <td>2.2</td>\n",
       "      <td>rain</td>\n",
       "    </tr>\n",
       "    <tr>\n",
       "      <th>28</th>\n",
       "      <td>Seattle</td>\n",
       "      <td>2012-01-29 00:00</td>\n",
       "      <td>27.7</td>\n",
       "      <td>9.4</td>\n",
       "      <td>3.9</td>\n",
       "      <td>4.5</td>\n",
       "      <td>rain</td>\n",
       "    </tr>\n",
       "    <tr>\n",
       "      <th>29</th>\n",
       "      <td>Seattle</td>\n",
       "      <td>2012-01-30 00:00</td>\n",
       "      <td>3.6</td>\n",
       "      <td>8.3</td>\n",
       "      <td>6.1</td>\n",
       "      <td>5.1</td>\n",
       "      <td>rain</td>\n",
       "    </tr>\n",
       "    <tr>\n",
       "      <th>...</th>\n",
       "      <td>...</td>\n",
       "      <td>...</td>\n",
       "      <td>...</td>\n",
       "      <td>...</td>\n",
       "      <td>...</td>\n",
       "      <td>...</td>\n",
       "      <td>...</td>\n",
       "    </tr>\n",
       "    <tr>\n",
       "      <th>2892</th>\n",
       "      <td>New York</td>\n",
       "      <td>2015-12-02 00:00</td>\n",
       "      <td>3.0</td>\n",
       "      <td>13.9</td>\n",
       "      <td>8.3</td>\n",
       "      <td>2.0</td>\n",
       "      <td>fog</td>\n",
       "    </tr>\n",
       "    <tr>\n",
       "      <th>2893</th>\n",
       "      <td>New York</td>\n",
       "      <td>2015-12-03 00:00</td>\n",
       "      <td>0.0</td>\n",
       "      <td>13.3</td>\n",
       "      <td>7.2</td>\n",
       "      <td>7.2</td>\n",
       "      <td>sun</td>\n",
       "    </tr>\n",
       "    <tr>\n",
       "      <th>2894</th>\n",
       "      <td>New York</td>\n",
       "      <td>2015-12-04 00:00</td>\n",
       "      <td>0.0</td>\n",
       "      <td>11.7</td>\n",
       "      <td>5.0</td>\n",
       "      <td>4.7</td>\n",
       "      <td>sun</td>\n",
       "    </tr>\n",
       "    <tr>\n",
       "      <th>2895</th>\n",
       "      <td>New York</td>\n",
       "      <td>2015-12-05 00:00</td>\n",
       "      <td>0.0</td>\n",
       "      <td>11.7</td>\n",
       "      <td>1.7</td>\n",
       "      <td>2.4</td>\n",
       "      <td>sun</td>\n",
       "    </tr>\n",
       "    <tr>\n",
       "      <th>2896</th>\n",
       "      <td>New York</td>\n",
       "      <td>2015-12-06 00:00</td>\n",
       "      <td>0.0</td>\n",
       "      <td>10.6</td>\n",
       "      <td>3.3</td>\n",
       "      <td>2.9</td>\n",
       "      <td>sun</td>\n",
       "    </tr>\n",
       "    <tr>\n",
       "      <th>2897</th>\n",
       "      <td>New York</td>\n",
       "      <td>2015-12-07 00:00</td>\n",
       "      <td>0.0</td>\n",
       "      <td>12.8</td>\n",
       "      <td>4.4</td>\n",
       "      <td>3.4</td>\n",
       "      <td>drizzle</td>\n",
       "    </tr>\n",
       "    <tr>\n",
       "      <th>2898</th>\n",
       "      <td>New York</td>\n",
       "      <td>2015-12-08 00:00</td>\n",
       "      <td>0.0</td>\n",
       "      <td>10.6</td>\n",
       "      <td>4.4</td>\n",
       "      <td>3.5</td>\n",
       "      <td>sun</td>\n",
       "    </tr>\n",
       "    <tr>\n",
       "      <th>2899</th>\n",
       "      <td>New York</td>\n",
       "      <td>2015-12-09 00:00</td>\n",
       "      <td>0.0</td>\n",
       "      <td>12.8</td>\n",
       "      <td>1.1</td>\n",
       "      <td>3.4</td>\n",
       "      <td>sun</td>\n",
       "    </tr>\n",
       "    <tr>\n",
       "      <th>2900</th>\n",
       "      <td>New York</td>\n",
       "      <td>2015-12-10 00:00</td>\n",
       "      <td>0.0</td>\n",
       "      <td>15.0</td>\n",
       "      <td>8.9</td>\n",
       "      <td>3.0</td>\n",
       "      <td>drizzle</td>\n",
       "    </tr>\n",
       "    <tr>\n",
       "      <th>2901</th>\n",
       "      <td>New York</td>\n",
       "      <td>2015-12-11 00:00</td>\n",
       "      <td>0.0</td>\n",
       "      <td>14.4</td>\n",
       "      <td>7.8</td>\n",
       "      <td>2.7</td>\n",
       "      <td>drizzle</td>\n",
       "    </tr>\n",
       "    <tr>\n",
       "      <th>2902</th>\n",
       "      <td>New York</td>\n",
       "      <td>2015-12-12 00:00</td>\n",
       "      <td>0.0</td>\n",
       "      <td>17.8</td>\n",
       "      <td>9.4</td>\n",
       "      <td>1.9</td>\n",
       "      <td>fog</td>\n",
       "    </tr>\n",
       "    <tr>\n",
       "      <th>2903</th>\n",
       "      <td>New York</td>\n",
       "      <td>2015-12-13 00:00</td>\n",
       "      <td>0.0</td>\n",
       "      <td>21.1</td>\n",
       "      <td>11.7</td>\n",
       "      <td>3.1</td>\n",
       "      <td>drizzle</td>\n",
       "    </tr>\n",
       "    <tr>\n",
       "      <th>2904</th>\n",
       "      <td>New York</td>\n",
       "      <td>2015-12-14 00:00</td>\n",
       "      <td>9.1</td>\n",
       "      <td>16.1</td>\n",
       "      <td>11.7</td>\n",
       "      <td>4.8</td>\n",
       "      <td>fog</td>\n",
       "    </tr>\n",
       "    <tr>\n",
       "      <th>2905</th>\n",
       "      <td>New York</td>\n",
       "      <td>2015-12-15 00:00</td>\n",
       "      <td>2.3</td>\n",
       "      <td>17.8</td>\n",
       "      <td>11.7</td>\n",
       "      <td>8.2</td>\n",
       "      <td>fog</td>\n",
       "    </tr>\n",
       "    <tr>\n",
       "      <th>2906</th>\n",
       "      <td>New York</td>\n",
       "      <td>2015-12-16 00:00</td>\n",
       "      <td>1.3</td>\n",
       "      <td>11.7</td>\n",
       "      <td>7.2</td>\n",
       "      <td>4.1</td>\n",
       "      <td>fog</td>\n",
       "    </tr>\n",
       "    <tr>\n",
       "      <th>2907</th>\n",
       "      <td>New York</td>\n",
       "      <td>2015-12-17 00:00</td>\n",
       "      <td>29.7</td>\n",
       "      <td>15.0</td>\n",
       "      <td>10.0</td>\n",
       "      <td>4.1</td>\n",
       "      <td>fog</td>\n",
       "    </tr>\n",
       "    <tr>\n",
       "      <th>2908</th>\n",
       "      <td>New York</td>\n",
       "      <td>2015-12-18 00:00</td>\n",
       "      <td>0.3</td>\n",
       "      <td>14.4</td>\n",
       "      <td>3.9</td>\n",
       "      <td>6.1</td>\n",
       "      <td>sun</td>\n",
       "    </tr>\n",
       "    <tr>\n",
       "      <th>2909</th>\n",
       "      <td>New York</td>\n",
       "      <td>2015-12-19 00:00</td>\n",
       "      <td>0.0</td>\n",
       "      <td>5.0</td>\n",
       "      <td>2.2</td>\n",
       "      <td>9.0</td>\n",
       "      <td>sun</td>\n",
       "    </tr>\n",
       "    <tr>\n",
       "      <th>2910</th>\n",
       "      <td>New York</td>\n",
       "      <td>2015-12-20 00:00</td>\n",
       "      <td>0.0</td>\n",
       "      <td>6.7</td>\n",
       "      <td>1.7</td>\n",
       "      <td>5.1</td>\n",
       "      <td>sun</td>\n",
       "    </tr>\n",
       "    <tr>\n",
       "      <th>2911</th>\n",
       "      <td>New York</td>\n",
       "      <td>2015-12-21 00:00</td>\n",
       "      <td>0.0</td>\n",
       "      <td>12.8</td>\n",
       "      <td>3.3</td>\n",
       "      <td>5.3</td>\n",
       "      <td>sun</td>\n",
       "    </tr>\n",
       "    <tr>\n",
       "      <th>2912</th>\n",
       "      <td>New York</td>\n",
       "      <td>2015-12-22 00:00</td>\n",
       "      <td>4.8</td>\n",
       "      <td>15.6</td>\n",
       "      <td>11.1</td>\n",
       "      <td>3.8</td>\n",
       "      <td>fog</td>\n",
       "    </tr>\n",
       "    <tr>\n",
       "      <th>2913</th>\n",
       "      <td>New York</td>\n",
       "      <td>2015-12-23 00:00</td>\n",
       "      <td>29.5</td>\n",
       "      <td>17.2</td>\n",
       "      <td>8.9</td>\n",
       "      <td>4.5</td>\n",
       "      <td>fog</td>\n",
       "    </tr>\n",
       "    <tr>\n",
       "      <th>2914</th>\n",
       "      <td>New York</td>\n",
       "      <td>2015-12-24 00:00</td>\n",
       "      <td>0.5</td>\n",
       "      <td>20.6</td>\n",
       "      <td>13.9</td>\n",
       "      <td>4.9</td>\n",
       "      <td>fog</td>\n",
       "    </tr>\n",
       "    <tr>\n",
       "      <th>2915</th>\n",
       "      <td>New York</td>\n",
       "      <td>2015-12-25 00:00</td>\n",
       "      <td>2.5</td>\n",
       "      <td>17.8</td>\n",
       "      <td>11.1</td>\n",
       "      <td>0.9</td>\n",
       "      <td>fog</td>\n",
       "    </tr>\n",
       "    <tr>\n",
       "      <th>2916</th>\n",
       "      <td>New York</td>\n",
       "      <td>2015-12-26 00:00</td>\n",
       "      <td>0.3</td>\n",
       "      <td>15.6</td>\n",
       "      <td>9.4</td>\n",
       "      <td>4.8</td>\n",
       "      <td>drizzle</td>\n",
       "    </tr>\n",
       "    <tr>\n",
       "      <th>2917</th>\n",
       "      <td>New York</td>\n",
       "      <td>2015-12-27 00:00</td>\n",
       "      <td>2.0</td>\n",
       "      <td>17.2</td>\n",
       "      <td>8.9</td>\n",
       "      <td>5.5</td>\n",
       "      <td>fog</td>\n",
       "    </tr>\n",
       "    <tr>\n",
       "      <th>2918</th>\n",
       "      <td>New York</td>\n",
       "      <td>2015-12-28 00:00</td>\n",
       "      <td>1.3</td>\n",
       "      <td>8.9</td>\n",
       "      <td>1.7</td>\n",
       "      <td>6.3</td>\n",
       "      <td>snow</td>\n",
       "    </tr>\n",
       "    <tr>\n",
       "      <th>2919</th>\n",
       "      <td>New York</td>\n",
       "      <td>2015-12-29 00:00</td>\n",
       "      <td>16.8</td>\n",
       "      <td>9.4</td>\n",
       "      <td>1.1</td>\n",
       "      <td>5.3</td>\n",
       "      <td>fog</td>\n",
       "    </tr>\n",
       "    <tr>\n",
       "      <th>2920</th>\n",
       "      <td>New York</td>\n",
       "      <td>2015-12-30 00:00</td>\n",
       "      <td>9.4</td>\n",
       "      <td>10.6</td>\n",
       "      <td>5.0</td>\n",
       "      <td>3.0</td>\n",
       "      <td>fog</td>\n",
       "    </tr>\n",
       "    <tr>\n",
       "      <th>2921</th>\n",
       "      <td>New York</td>\n",
       "      <td>2015-12-31 00:00</td>\n",
       "      <td>1.5</td>\n",
       "      <td>11.1</td>\n",
       "      <td>6.1</td>\n",
       "      <td>5.5</td>\n",
       "      <td>fog</td>\n",
       "    </tr>\n",
       "  </tbody>\n",
       "</table>\n",
       "<p>2922 rows × 7 columns</p>\n",
       "</div>"
      ],
      "text/plain": [
       "      location              date  precipitation  temp_max  temp_min  wind  \\\n",
       "0      Seattle  2012-01-01 00:00            0.0      12.8       5.0   4.7   \n",
       "1      Seattle  2012-01-02 00:00           10.9      10.6       2.8   4.5   \n",
       "2      Seattle  2012-01-03 00:00            0.8      11.7       7.2   2.3   \n",
       "3      Seattle  2012-01-04 00:00           20.3      12.2       5.6   4.7   \n",
       "4      Seattle  2012-01-05 00:00            1.3       8.9       2.8   6.1   \n",
       "5      Seattle  2012-01-06 00:00            2.5       4.4       2.2   2.2   \n",
       "6      Seattle  2012-01-07 00:00            0.0       7.2       2.8   2.3   \n",
       "7      Seattle  2012-01-08 00:00            0.0      10.0       2.8   2.0   \n",
       "8      Seattle  2012-01-09 00:00            4.3       9.4       5.0   3.4   \n",
       "9      Seattle  2012-01-10 00:00            1.0       6.1       0.6   3.4   \n",
       "10     Seattle  2012-01-11 00:00            0.0       6.1      -1.1   5.1   \n",
       "11     Seattle  2012-01-12 00:00            0.0       6.1      -1.7   1.9   \n",
       "12     Seattle  2012-01-13 00:00            0.0       5.0      -2.8   1.3   \n",
       "13     Seattle  2012-01-14 00:00            4.1       4.4       0.6   5.3   \n",
       "14     Seattle  2012-01-15 00:00            5.3       1.1      -3.3   3.2   \n",
       "15     Seattle  2012-01-16 00:00            2.5       1.7      -2.8   5.0   \n",
       "16     Seattle  2012-01-17 00:00            8.1       3.3       0.0   5.6   \n",
       "17     Seattle  2012-01-18 00:00           19.8       0.0      -2.8   5.0   \n",
       "18     Seattle  2012-01-19 00:00           15.2      -1.1      -2.8   1.6   \n",
       "19     Seattle  2012-01-20 00:00           13.5       7.2      -1.1   2.3   \n",
       "20     Seattle  2012-01-21 00:00            3.0       8.3       3.3   8.2   \n",
       "21     Seattle  2012-01-22 00:00            6.1       6.7       2.2   4.8   \n",
       "22     Seattle  2012-01-23 00:00            0.0       8.3       1.1   3.6   \n",
       "23     Seattle  2012-01-24 00:00            8.6      10.0       2.2   5.1   \n",
       "24     Seattle  2012-01-25 00:00            8.1       8.9       4.4   5.4   \n",
       "25     Seattle  2012-01-26 00:00            4.8       8.9       1.1   4.8   \n",
       "26     Seattle  2012-01-27 00:00            0.0       6.7      -2.2   1.4   \n",
       "27     Seattle  2012-01-28 00:00            0.0       6.7       0.6   2.2   \n",
       "28     Seattle  2012-01-29 00:00           27.7       9.4       3.9   4.5   \n",
       "29     Seattle  2012-01-30 00:00            3.6       8.3       6.1   5.1   \n",
       "...        ...               ...            ...       ...       ...   ...   \n",
       "2892  New York  2015-12-02 00:00            3.0      13.9       8.3   2.0   \n",
       "2893  New York  2015-12-03 00:00            0.0      13.3       7.2   7.2   \n",
       "2894  New York  2015-12-04 00:00            0.0      11.7       5.0   4.7   \n",
       "2895  New York  2015-12-05 00:00            0.0      11.7       1.7   2.4   \n",
       "2896  New York  2015-12-06 00:00            0.0      10.6       3.3   2.9   \n",
       "2897  New York  2015-12-07 00:00            0.0      12.8       4.4   3.4   \n",
       "2898  New York  2015-12-08 00:00            0.0      10.6       4.4   3.5   \n",
       "2899  New York  2015-12-09 00:00            0.0      12.8       1.1   3.4   \n",
       "2900  New York  2015-12-10 00:00            0.0      15.0       8.9   3.0   \n",
       "2901  New York  2015-12-11 00:00            0.0      14.4       7.8   2.7   \n",
       "2902  New York  2015-12-12 00:00            0.0      17.8       9.4   1.9   \n",
       "2903  New York  2015-12-13 00:00            0.0      21.1      11.7   3.1   \n",
       "2904  New York  2015-12-14 00:00            9.1      16.1      11.7   4.8   \n",
       "2905  New York  2015-12-15 00:00            2.3      17.8      11.7   8.2   \n",
       "2906  New York  2015-12-16 00:00            1.3      11.7       7.2   4.1   \n",
       "2907  New York  2015-12-17 00:00           29.7      15.0      10.0   4.1   \n",
       "2908  New York  2015-12-18 00:00            0.3      14.4       3.9   6.1   \n",
       "2909  New York  2015-12-19 00:00            0.0       5.0       2.2   9.0   \n",
       "2910  New York  2015-12-20 00:00            0.0       6.7       1.7   5.1   \n",
       "2911  New York  2015-12-21 00:00            0.0      12.8       3.3   5.3   \n",
       "2912  New York  2015-12-22 00:00            4.8      15.6      11.1   3.8   \n",
       "2913  New York  2015-12-23 00:00           29.5      17.2       8.9   4.5   \n",
       "2914  New York  2015-12-24 00:00            0.5      20.6      13.9   4.9   \n",
       "2915  New York  2015-12-25 00:00            2.5      17.8      11.1   0.9   \n",
       "2916  New York  2015-12-26 00:00            0.3      15.6       9.4   4.8   \n",
       "2917  New York  2015-12-27 00:00            2.0      17.2       8.9   5.5   \n",
       "2918  New York  2015-12-28 00:00            1.3       8.9       1.7   6.3   \n",
       "2919  New York  2015-12-29 00:00           16.8       9.4       1.1   5.3   \n",
       "2920  New York  2015-12-30 00:00            9.4      10.6       5.0   3.0   \n",
       "2921  New York  2015-12-31 00:00            1.5      11.1       6.1   5.5   \n",
       "\n",
       "      weather  \n",
       "0     drizzle  \n",
       "1        rain  \n",
       "2        rain  \n",
       "3        rain  \n",
       "4        rain  \n",
       "5        rain  \n",
       "6        rain  \n",
       "7         sun  \n",
       "8        rain  \n",
       "9        rain  \n",
       "10        sun  \n",
       "11        sun  \n",
       "12        sun  \n",
       "13       snow  \n",
       "14       snow  \n",
       "15       snow  \n",
       "16       snow  \n",
       "17       snow  \n",
       "18       snow  \n",
       "19       snow  \n",
       "20       rain  \n",
       "21       rain  \n",
       "22       rain  \n",
       "23       rain  \n",
       "24       rain  \n",
       "25       rain  \n",
       "26    drizzle  \n",
       "27       rain  \n",
       "28       rain  \n",
       "29       rain  \n",
       "...       ...  \n",
       "2892      fog  \n",
       "2893      sun  \n",
       "2894      sun  \n",
       "2895      sun  \n",
       "2896      sun  \n",
       "2897  drizzle  \n",
       "2898      sun  \n",
       "2899      sun  \n",
       "2900  drizzle  \n",
       "2901  drizzle  \n",
       "2902      fog  \n",
       "2903  drizzle  \n",
       "2904      fog  \n",
       "2905      fog  \n",
       "2906      fog  \n",
       "2907      fog  \n",
       "2908      sun  \n",
       "2909      sun  \n",
       "2910      sun  \n",
       "2911      sun  \n",
       "2912      fog  \n",
       "2913      fog  \n",
       "2914      fog  \n",
       "2915      fog  \n",
       "2916  drizzle  \n",
       "2917      fog  \n",
       "2918     snow  \n",
       "2919      fog  \n",
       "2920      fog  \n",
       "2921      fog  \n",
       "\n",
       "[2922 rows x 7 columns]"
      ]
     },
     "execution_count": 5,
     "metadata": {},
     "output_type": "execute_result"
    }
   ],
   "source": [
    "# load the data using pandas library\n",
    "# do you remember what was pd?\n",
    "pd.read_csv(\"weather.csv\")\n",
    "\n",
    "# Jupter notebook tip:\n",
    "# type: pd.\n",
    "# then hit tab, see what happens\n",
    "# try also: pd.read_ (then hit tab)"
   ]
  },
  {
   "cell_type": "markdown",
   "metadata": {
    "slideshow": {
     "slide_type": "slide"
    }
   },
   "source": [
    "# Loading File From URL\n",
    "If the CSV file is downloadable from a url, you can put the URL in place of the file name:"
   ]
  },
  {
   "cell_type": "code",
   "execution_count": 5,
   "metadata": {
    "slideshow": {
     "slide_type": "fragment"
    }
   },
   "outputs": [
    {
     "data": {
      "text/html": [
       "<div>\n",
       "<style scoped>\n",
       "    .dataframe tbody tr th:only-of-type {\n",
       "        vertical-align: middle;\n",
       "    }\n",
       "\n",
       "    .dataframe tbody tr th {\n",
       "        vertical-align: top;\n",
       "    }\n",
       "\n",
       "    .dataframe thead th {\n",
       "        text-align: right;\n",
       "    }\n",
       "</style>\n",
       "<table border=\"1\" class=\"dataframe\">\n",
       "  <thead>\n",
       "    <tr style=\"text-align: right;\">\n",
       "      <th></th>\n",
       "      <th>location</th>\n",
       "      <th>date</th>\n",
       "      <th>precipitation</th>\n",
       "      <th>temp_max</th>\n",
       "      <th>temp_min</th>\n",
       "      <th>wind</th>\n",
       "      <th>weather</th>\n",
       "    </tr>\n",
       "  </thead>\n",
       "  <tbody>\n",
       "    <tr>\n",
       "      <th>0</th>\n",
       "      <td>Seattle</td>\n",
       "      <td>2012-01-01</td>\n",
       "      <td>0.0</td>\n",
       "      <td>12.8</td>\n",
       "      <td>5.0</td>\n",
       "      <td>4.7</td>\n",
       "      <td>drizzle</td>\n",
       "    </tr>\n",
       "    <tr>\n",
       "      <th>1</th>\n",
       "      <td>Seattle</td>\n",
       "      <td>2012-01-02</td>\n",
       "      <td>10.9</td>\n",
       "      <td>10.6</td>\n",
       "      <td>2.8</td>\n",
       "      <td>4.5</td>\n",
       "      <td>rain</td>\n",
       "    </tr>\n",
       "    <tr>\n",
       "      <th>2</th>\n",
       "      <td>Seattle</td>\n",
       "      <td>2012-01-03</td>\n",
       "      <td>0.8</td>\n",
       "      <td>11.7</td>\n",
       "      <td>7.2</td>\n",
       "      <td>2.3</td>\n",
       "      <td>rain</td>\n",
       "    </tr>\n",
       "    <tr>\n",
       "      <th>3</th>\n",
       "      <td>Seattle</td>\n",
       "      <td>2012-01-04</td>\n",
       "      <td>20.3</td>\n",
       "      <td>12.2</td>\n",
       "      <td>5.6</td>\n",
       "      <td>4.7</td>\n",
       "      <td>rain</td>\n",
       "    </tr>\n",
       "    <tr>\n",
       "      <th>4</th>\n",
       "      <td>Seattle</td>\n",
       "      <td>2012-01-05</td>\n",
       "      <td>1.3</td>\n",
       "      <td>8.9</td>\n",
       "      <td>2.8</td>\n",
       "      <td>6.1</td>\n",
       "      <td>rain</td>\n",
       "    </tr>\n",
       "    <tr>\n",
       "      <th>5</th>\n",
       "      <td>Seattle</td>\n",
       "      <td>2012-01-06</td>\n",
       "      <td>2.5</td>\n",
       "      <td>4.4</td>\n",
       "      <td>2.2</td>\n",
       "      <td>2.2</td>\n",
       "      <td>rain</td>\n",
       "    </tr>\n",
       "    <tr>\n",
       "      <th>6</th>\n",
       "      <td>Seattle</td>\n",
       "      <td>2012-01-07</td>\n",
       "      <td>0.0</td>\n",
       "      <td>7.2</td>\n",
       "      <td>2.8</td>\n",
       "      <td>2.3</td>\n",
       "      <td>rain</td>\n",
       "    </tr>\n",
       "    <tr>\n",
       "      <th>7</th>\n",
       "      <td>Seattle</td>\n",
       "      <td>2012-01-08</td>\n",
       "      <td>0.0</td>\n",
       "      <td>10.0</td>\n",
       "      <td>2.8</td>\n",
       "      <td>2.0</td>\n",
       "      <td>sun</td>\n",
       "    </tr>\n",
       "    <tr>\n",
       "      <th>8</th>\n",
       "      <td>Seattle</td>\n",
       "      <td>2012-01-09</td>\n",
       "      <td>4.3</td>\n",
       "      <td>9.4</td>\n",
       "      <td>5.0</td>\n",
       "      <td>3.4</td>\n",
       "      <td>rain</td>\n",
       "    </tr>\n",
       "    <tr>\n",
       "      <th>9</th>\n",
       "      <td>Seattle</td>\n",
       "      <td>2012-01-10</td>\n",
       "      <td>1.0</td>\n",
       "      <td>6.1</td>\n",
       "      <td>0.6</td>\n",
       "      <td>3.4</td>\n",
       "      <td>rain</td>\n",
       "    </tr>\n",
       "    <tr>\n",
       "      <th>10</th>\n",
       "      <td>Seattle</td>\n",
       "      <td>2012-01-11</td>\n",
       "      <td>0.0</td>\n",
       "      <td>6.1</td>\n",
       "      <td>-1.1</td>\n",
       "      <td>5.1</td>\n",
       "      <td>sun</td>\n",
       "    </tr>\n",
       "    <tr>\n",
       "      <th>11</th>\n",
       "      <td>Seattle</td>\n",
       "      <td>2012-01-12</td>\n",
       "      <td>0.0</td>\n",
       "      <td>6.1</td>\n",
       "      <td>-1.7</td>\n",
       "      <td>1.9</td>\n",
       "      <td>sun</td>\n",
       "    </tr>\n",
       "    <tr>\n",
       "      <th>12</th>\n",
       "      <td>Seattle</td>\n",
       "      <td>2012-01-13</td>\n",
       "      <td>0.0</td>\n",
       "      <td>5.0</td>\n",
       "      <td>-2.8</td>\n",
       "      <td>1.3</td>\n",
       "      <td>sun</td>\n",
       "    </tr>\n",
       "    <tr>\n",
       "      <th>13</th>\n",
       "      <td>Seattle</td>\n",
       "      <td>2012-01-14</td>\n",
       "      <td>4.1</td>\n",
       "      <td>4.4</td>\n",
       "      <td>0.6</td>\n",
       "      <td>5.3</td>\n",
       "      <td>snow</td>\n",
       "    </tr>\n",
       "    <tr>\n",
       "      <th>14</th>\n",
       "      <td>Seattle</td>\n",
       "      <td>2012-01-15</td>\n",
       "      <td>5.3</td>\n",
       "      <td>1.1</td>\n",
       "      <td>-3.3</td>\n",
       "      <td>3.2</td>\n",
       "      <td>snow</td>\n",
       "    </tr>\n",
       "    <tr>\n",
       "      <th>15</th>\n",
       "      <td>Seattle</td>\n",
       "      <td>2012-01-16</td>\n",
       "      <td>2.5</td>\n",
       "      <td>1.7</td>\n",
       "      <td>-2.8</td>\n",
       "      <td>5.0</td>\n",
       "      <td>snow</td>\n",
       "    </tr>\n",
       "    <tr>\n",
       "      <th>16</th>\n",
       "      <td>Seattle</td>\n",
       "      <td>2012-01-17</td>\n",
       "      <td>8.1</td>\n",
       "      <td>3.3</td>\n",
       "      <td>0.0</td>\n",
       "      <td>5.6</td>\n",
       "      <td>snow</td>\n",
       "    </tr>\n",
       "    <tr>\n",
       "      <th>17</th>\n",
       "      <td>Seattle</td>\n",
       "      <td>2012-01-18</td>\n",
       "      <td>19.8</td>\n",
       "      <td>0.0</td>\n",
       "      <td>-2.8</td>\n",
       "      <td>5.0</td>\n",
       "      <td>snow</td>\n",
       "    </tr>\n",
       "    <tr>\n",
       "      <th>18</th>\n",
       "      <td>Seattle</td>\n",
       "      <td>2012-01-19</td>\n",
       "      <td>15.2</td>\n",
       "      <td>-1.1</td>\n",
       "      <td>-2.8</td>\n",
       "      <td>1.6</td>\n",
       "      <td>snow</td>\n",
       "    </tr>\n",
       "    <tr>\n",
       "      <th>19</th>\n",
       "      <td>Seattle</td>\n",
       "      <td>2012-01-20</td>\n",
       "      <td>13.5</td>\n",
       "      <td>7.2</td>\n",
       "      <td>-1.1</td>\n",
       "      <td>2.3</td>\n",
       "      <td>snow</td>\n",
       "    </tr>\n",
       "    <tr>\n",
       "      <th>20</th>\n",
       "      <td>Seattle</td>\n",
       "      <td>2012-01-21</td>\n",
       "      <td>3.0</td>\n",
       "      <td>8.3</td>\n",
       "      <td>3.3</td>\n",
       "      <td>8.2</td>\n",
       "      <td>rain</td>\n",
       "    </tr>\n",
       "    <tr>\n",
       "      <th>21</th>\n",
       "      <td>Seattle</td>\n",
       "      <td>2012-01-22</td>\n",
       "      <td>6.1</td>\n",
       "      <td>6.7</td>\n",
       "      <td>2.2</td>\n",
       "      <td>4.8</td>\n",
       "      <td>rain</td>\n",
       "    </tr>\n",
       "    <tr>\n",
       "      <th>22</th>\n",
       "      <td>Seattle</td>\n",
       "      <td>2012-01-23</td>\n",
       "      <td>0.0</td>\n",
       "      <td>8.3</td>\n",
       "      <td>1.1</td>\n",
       "      <td>3.6</td>\n",
       "      <td>rain</td>\n",
       "    </tr>\n",
       "    <tr>\n",
       "      <th>23</th>\n",
       "      <td>Seattle</td>\n",
       "      <td>2012-01-24</td>\n",
       "      <td>8.6</td>\n",
       "      <td>10.0</td>\n",
       "      <td>2.2</td>\n",
       "      <td>5.1</td>\n",
       "      <td>rain</td>\n",
       "    </tr>\n",
       "    <tr>\n",
       "      <th>24</th>\n",
       "      <td>Seattle</td>\n",
       "      <td>2012-01-25</td>\n",
       "      <td>8.1</td>\n",
       "      <td>8.9</td>\n",
       "      <td>4.4</td>\n",
       "      <td>5.4</td>\n",
       "      <td>rain</td>\n",
       "    </tr>\n",
       "    <tr>\n",
       "      <th>25</th>\n",
       "      <td>Seattle</td>\n",
       "      <td>2012-01-26</td>\n",
       "      <td>4.8</td>\n",
       "      <td>8.9</td>\n",
       "      <td>1.1</td>\n",
       "      <td>4.8</td>\n",
       "      <td>rain</td>\n",
       "    </tr>\n",
       "    <tr>\n",
       "      <th>26</th>\n",
       "      <td>Seattle</td>\n",
       "      <td>2012-01-27</td>\n",
       "      <td>0.0</td>\n",
       "      <td>6.7</td>\n",
       "      <td>-2.2</td>\n",
       "      <td>1.4</td>\n",
       "      <td>drizzle</td>\n",
       "    </tr>\n",
       "    <tr>\n",
       "      <th>27</th>\n",
       "      <td>Seattle</td>\n",
       "      <td>2012-01-28</td>\n",
       "      <td>0.0</td>\n",
       "      <td>6.7</td>\n",
       "      <td>0.6</td>\n",
       "      <td>2.2</td>\n",
       "      <td>rain</td>\n",
       "    </tr>\n",
       "    <tr>\n",
       "      <th>28</th>\n",
       "      <td>Seattle</td>\n",
       "      <td>2012-01-29</td>\n",
       "      <td>27.7</td>\n",
       "      <td>9.4</td>\n",
       "      <td>3.9</td>\n",
       "      <td>4.5</td>\n",
       "      <td>rain</td>\n",
       "    </tr>\n",
       "    <tr>\n",
       "      <th>29</th>\n",
       "      <td>Seattle</td>\n",
       "      <td>2012-01-30</td>\n",
       "      <td>3.6</td>\n",
       "      <td>8.3</td>\n",
       "      <td>6.1</td>\n",
       "      <td>5.1</td>\n",
       "      <td>rain</td>\n",
       "    </tr>\n",
       "    <tr>\n",
       "      <th>...</th>\n",
       "      <td>...</td>\n",
       "      <td>...</td>\n",
       "      <td>...</td>\n",
       "      <td>...</td>\n",
       "      <td>...</td>\n",
       "      <td>...</td>\n",
       "      <td>...</td>\n",
       "    </tr>\n",
       "    <tr>\n",
       "      <th>2892</th>\n",
       "      <td>New York</td>\n",
       "      <td>2015-12-02</td>\n",
       "      <td>3.0</td>\n",
       "      <td>13.9</td>\n",
       "      <td>8.3</td>\n",
       "      <td>2.0</td>\n",
       "      <td>fog</td>\n",
       "    </tr>\n",
       "    <tr>\n",
       "      <th>2893</th>\n",
       "      <td>New York</td>\n",
       "      <td>2015-12-03</td>\n",
       "      <td>0.0</td>\n",
       "      <td>13.3</td>\n",
       "      <td>7.2</td>\n",
       "      <td>7.2</td>\n",
       "      <td>sun</td>\n",
       "    </tr>\n",
       "    <tr>\n",
       "      <th>2894</th>\n",
       "      <td>New York</td>\n",
       "      <td>2015-12-04</td>\n",
       "      <td>0.0</td>\n",
       "      <td>11.7</td>\n",
       "      <td>5.0</td>\n",
       "      <td>4.7</td>\n",
       "      <td>sun</td>\n",
       "    </tr>\n",
       "    <tr>\n",
       "      <th>2895</th>\n",
       "      <td>New York</td>\n",
       "      <td>2015-12-05</td>\n",
       "      <td>0.0</td>\n",
       "      <td>11.7</td>\n",
       "      <td>1.7</td>\n",
       "      <td>2.4</td>\n",
       "      <td>sun</td>\n",
       "    </tr>\n",
       "    <tr>\n",
       "      <th>2896</th>\n",
       "      <td>New York</td>\n",
       "      <td>2015-12-06</td>\n",
       "      <td>0.0</td>\n",
       "      <td>10.6</td>\n",
       "      <td>3.3</td>\n",
       "      <td>2.9</td>\n",
       "      <td>sun</td>\n",
       "    </tr>\n",
       "    <tr>\n",
       "      <th>2897</th>\n",
       "      <td>New York</td>\n",
       "      <td>2015-12-07</td>\n",
       "      <td>0.0</td>\n",
       "      <td>12.8</td>\n",
       "      <td>4.4</td>\n",
       "      <td>3.4</td>\n",
       "      <td>drizzle</td>\n",
       "    </tr>\n",
       "    <tr>\n",
       "      <th>2898</th>\n",
       "      <td>New York</td>\n",
       "      <td>2015-12-08</td>\n",
       "      <td>0.0</td>\n",
       "      <td>10.6</td>\n",
       "      <td>4.4</td>\n",
       "      <td>3.5</td>\n",
       "      <td>sun</td>\n",
       "    </tr>\n",
       "    <tr>\n",
       "      <th>2899</th>\n",
       "      <td>New York</td>\n",
       "      <td>2015-12-09</td>\n",
       "      <td>0.0</td>\n",
       "      <td>12.8</td>\n",
       "      <td>1.1</td>\n",
       "      <td>3.4</td>\n",
       "      <td>sun</td>\n",
       "    </tr>\n",
       "    <tr>\n",
       "      <th>2900</th>\n",
       "      <td>New York</td>\n",
       "      <td>2015-12-10</td>\n",
       "      <td>0.0</td>\n",
       "      <td>15.0</td>\n",
       "      <td>8.9</td>\n",
       "      <td>3.0</td>\n",
       "      <td>drizzle</td>\n",
       "    </tr>\n",
       "    <tr>\n",
       "      <th>2901</th>\n",
       "      <td>New York</td>\n",
       "      <td>2015-12-11</td>\n",
       "      <td>0.0</td>\n",
       "      <td>14.4</td>\n",
       "      <td>7.8</td>\n",
       "      <td>2.7</td>\n",
       "      <td>drizzle</td>\n",
       "    </tr>\n",
       "    <tr>\n",
       "      <th>2902</th>\n",
       "      <td>New York</td>\n",
       "      <td>2015-12-12</td>\n",
       "      <td>0.0</td>\n",
       "      <td>17.8</td>\n",
       "      <td>9.4</td>\n",
       "      <td>1.9</td>\n",
       "      <td>fog</td>\n",
       "    </tr>\n",
       "    <tr>\n",
       "      <th>2903</th>\n",
       "      <td>New York</td>\n",
       "      <td>2015-12-13</td>\n",
       "      <td>0.0</td>\n",
       "      <td>21.1</td>\n",
       "      <td>11.7</td>\n",
       "      <td>3.1</td>\n",
       "      <td>drizzle</td>\n",
       "    </tr>\n",
       "    <tr>\n",
       "      <th>2904</th>\n",
       "      <td>New York</td>\n",
       "      <td>2015-12-14</td>\n",
       "      <td>9.1</td>\n",
       "      <td>16.1</td>\n",
       "      <td>11.7</td>\n",
       "      <td>4.8</td>\n",
       "      <td>fog</td>\n",
       "    </tr>\n",
       "    <tr>\n",
       "      <th>2905</th>\n",
       "      <td>New York</td>\n",
       "      <td>2015-12-15</td>\n",
       "      <td>2.3</td>\n",
       "      <td>17.8</td>\n",
       "      <td>11.7</td>\n",
       "      <td>8.2</td>\n",
       "      <td>fog</td>\n",
       "    </tr>\n",
       "    <tr>\n",
       "      <th>2906</th>\n",
       "      <td>New York</td>\n",
       "      <td>2015-12-16</td>\n",
       "      <td>1.3</td>\n",
       "      <td>11.7</td>\n",
       "      <td>7.2</td>\n",
       "      <td>4.1</td>\n",
       "      <td>fog</td>\n",
       "    </tr>\n",
       "    <tr>\n",
       "      <th>2907</th>\n",
       "      <td>New York</td>\n",
       "      <td>2015-12-17</td>\n",
       "      <td>29.7</td>\n",
       "      <td>15.0</td>\n",
       "      <td>10.0</td>\n",
       "      <td>4.1</td>\n",
       "      <td>fog</td>\n",
       "    </tr>\n",
       "    <tr>\n",
       "      <th>2908</th>\n",
       "      <td>New York</td>\n",
       "      <td>2015-12-18</td>\n",
       "      <td>0.3</td>\n",
       "      <td>14.4</td>\n",
       "      <td>3.9</td>\n",
       "      <td>6.1</td>\n",
       "      <td>sun</td>\n",
       "    </tr>\n",
       "    <tr>\n",
       "      <th>2909</th>\n",
       "      <td>New York</td>\n",
       "      <td>2015-12-19</td>\n",
       "      <td>0.0</td>\n",
       "      <td>5.0</td>\n",
       "      <td>2.2</td>\n",
       "      <td>9.0</td>\n",
       "      <td>sun</td>\n",
       "    </tr>\n",
       "    <tr>\n",
       "      <th>2910</th>\n",
       "      <td>New York</td>\n",
       "      <td>2015-12-20</td>\n",
       "      <td>0.0</td>\n",
       "      <td>6.7</td>\n",
       "      <td>1.7</td>\n",
       "      <td>5.1</td>\n",
       "      <td>sun</td>\n",
       "    </tr>\n",
       "    <tr>\n",
       "      <th>2911</th>\n",
       "      <td>New York</td>\n",
       "      <td>2015-12-21</td>\n",
       "      <td>0.0</td>\n",
       "      <td>12.8</td>\n",
       "      <td>3.3</td>\n",
       "      <td>5.3</td>\n",
       "      <td>sun</td>\n",
       "    </tr>\n",
       "    <tr>\n",
       "      <th>2912</th>\n",
       "      <td>New York</td>\n",
       "      <td>2015-12-22</td>\n",
       "      <td>4.8</td>\n",
       "      <td>15.6</td>\n",
       "      <td>11.1</td>\n",
       "      <td>3.8</td>\n",
       "      <td>fog</td>\n",
       "    </tr>\n",
       "    <tr>\n",
       "      <th>2913</th>\n",
       "      <td>New York</td>\n",
       "      <td>2015-12-23</td>\n",
       "      <td>29.5</td>\n",
       "      <td>17.2</td>\n",
       "      <td>8.9</td>\n",
       "      <td>4.5</td>\n",
       "      <td>fog</td>\n",
       "    </tr>\n",
       "    <tr>\n",
       "      <th>2914</th>\n",
       "      <td>New York</td>\n",
       "      <td>2015-12-24</td>\n",
       "      <td>0.5</td>\n",
       "      <td>20.6</td>\n",
       "      <td>13.9</td>\n",
       "      <td>4.9</td>\n",
       "      <td>fog</td>\n",
       "    </tr>\n",
       "    <tr>\n",
       "      <th>2915</th>\n",
       "      <td>New York</td>\n",
       "      <td>2015-12-25</td>\n",
       "      <td>2.5</td>\n",
       "      <td>17.8</td>\n",
       "      <td>11.1</td>\n",
       "      <td>0.9</td>\n",
       "      <td>fog</td>\n",
       "    </tr>\n",
       "    <tr>\n",
       "      <th>2916</th>\n",
       "      <td>New York</td>\n",
       "      <td>2015-12-26</td>\n",
       "      <td>0.3</td>\n",
       "      <td>15.6</td>\n",
       "      <td>9.4</td>\n",
       "      <td>4.8</td>\n",
       "      <td>drizzle</td>\n",
       "    </tr>\n",
       "    <tr>\n",
       "      <th>2917</th>\n",
       "      <td>New York</td>\n",
       "      <td>2015-12-27</td>\n",
       "      <td>2.0</td>\n",
       "      <td>17.2</td>\n",
       "      <td>8.9</td>\n",
       "      <td>5.5</td>\n",
       "      <td>fog</td>\n",
       "    </tr>\n",
       "    <tr>\n",
       "      <th>2918</th>\n",
       "      <td>New York</td>\n",
       "      <td>2015-12-28</td>\n",
       "      <td>1.3</td>\n",
       "      <td>8.9</td>\n",
       "      <td>1.7</td>\n",
       "      <td>6.3</td>\n",
       "      <td>snow</td>\n",
       "    </tr>\n",
       "    <tr>\n",
       "      <th>2919</th>\n",
       "      <td>New York</td>\n",
       "      <td>2015-12-29</td>\n",
       "      <td>16.8</td>\n",
       "      <td>9.4</td>\n",
       "      <td>1.1</td>\n",
       "      <td>5.3</td>\n",
       "      <td>fog</td>\n",
       "    </tr>\n",
       "    <tr>\n",
       "      <th>2920</th>\n",
       "      <td>New York</td>\n",
       "      <td>2015-12-30</td>\n",
       "      <td>9.4</td>\n",
       "      <td>10.6</td>\n",
       "      <td>5.0</td>\n",
       "      <td>3.0</td>\n",
       "      <td>fog</td>\n",
       "    </tr>\n",
       "    <tr>\n",
       "      <th>2921</th>\n",
       "      <td>New York</td>\n",
       "      <td>2015-12-31</td>\n",
       "      <td>1.5</td>\n",
       "      <td>11.1</td>\n",
       "      <td>6.1</td>\n",
       "      <td>5.5</td>\n",
       "      <td>fog</td>\n",
       "    </tr>\n",
       "  </tbody>\n",
       "</table>\n",
       "<p>2922 rows × 7 columns</p>\n",
       "</div>"
      ],
      "text/plain": [
       "      location        date  precipitation  temp_max  temp_min  wind  weather\n",
       "0      Seattle  2012-01-01            0.0      12.8       5.0   4.7  drizzle\n",
       "1      Seattle  2012-01-02           10.9      10.6       2.8   4.5     rain\n",
       "2      Seattle  2012-01-03            0.8      11.7       7.2   2.3     rain\n",
       "3      Seattle  2012-01-04           20.3      12.2       5.6   4.7     rain\n",
       "4      Seattle  2012-01-05            1.3       8.9       2.8   6.1     rain\n",
       "5      Seattle  2012-01-06            2.5       4.4       2.2   2.2     rain\n",
       "6      Seattle  2012-01-07            0.0       7.2       2.8   2.3     rain\n",
       "7      Seattle  2012-01-08            0.0      10.0       2.8   2.0      sun\n",
       "8      Seattle  2012-01-09            4.3       9.4       5.0   3.4     rain\n",
       "9      Seattle  2012-01-10            1.0       6.1       0.6   3.4     rain\n",
       "10     Seattle  2012-01-11            0.0       6.1      -1.1   5.1      sun\n",
       "11     Seattle  2012-01-12            0.0       6.1      -1.7   1.9      sun\n",
       "12     Seattle  2012-01-13            0.0       5.0      -2.8   1.3      sun\n",
       "13     Seattle  2012-01-14            4.1       4.4       0.6   5.3     snow\n",
       "14     Seattle  2012-01-15            5.3       1.1      -3.3   3.2     snow\n",
       "15     Seattle  2012-01-16            2.5       1.7      -2.8   5.0     snow\n",
       "16     Seattle  2012-01-17            8.1       3.3       0.0   5.6     snow\n",
       "17     Seattle  2012-01-18           19.8       0.0      -2.8   5.0     snow\n",
       "18     Seattle  2012-01-19           15.2      -1.1      -2.8   1.6     snow\n",
       "19     Seattle  2012-01-20           13.5       7.2      -1.1   2.3     snow\n",
       "20     Seattle  2012-01-21            3.0       8.3       3.3   8.2     rain\n",
       "21     Seattle  2012-01-22            6.1       6.7       2.2   4.8     rain\n",
       "22     Seattle  2012-01-23            0.0       8.3       1.1   3.6     rain\n",
       "23     Seattle  2012-01-24            8.6      10.0       2.2   5.1     rain\n",
       "24     Seattle  2012-01-25            8.1       8.9       4.4   5.4     rain\n",
       "25     Seattle  2012-01-26            4.8       8.9       1.1   4.8     rain\n",
       "26     Seattle  2012-01-27            0.0       6.7      -2.2   1.4  drizzle\n",
       "27     Seattle  2012-01-28            0.0       6.7       0.6   2.2     rain\n",
       "28     Seattle  2012-01-29           27.7       9.4       3.9   4.5     rain\n",
       "29     Seattle  2012-01-30            3.6       8.3       6.1   5.1     rain\n",
       "...        ...         ...            ...       ...       ...   ...      ...\n",
       "2892  New York  2015-12-02            3.0      13.9       8.3   2.0      fog\n",
       "2893  New York  2015-12-03            0.0      13.3       7.2   7.2      sun\n",
       "2894  New York  2015-12-04            0.0      11.7       5.0   4.7      sun\n",
       "2895  New York  2015-12-05            0.0      11.7       1.7   2.4      sun\n",
       "2896  New York  2015-12-06            0.0      10.6       3.3   2.9      sun\n",
       "2897  New York  2015-12-07            0.0      12.8       4.4   3.4  drizzle\n",
       "2898  New York  2015-12-08            0.0      10.6       4.4   3.5      sun\n",
       "2899  New York  2015-12-09            0.0      12.8       1.1   3.4      sun\n",
       "2900  New York  2015-12-10            0.0      15.0       8.9   3.0  drizzle\n",
       "2901  New York  2015-12-11            0.0      14.4       7.8   2.7  drizzle\n",
       "2902  New York  2015-12-12            0.0      17.8       9.4   1.9      fog\n",
       "2903  New York  2015-12-13            0.0      21.1      11.7   3.1  drizzle\n",
       "2904  New York  2015-12-14            9.1      16.1      11.7   4.8      fog\n",
       "2905  New York  2015-12-15            2.3      17.8      11.7   8.2      fog\n",
       "2906  New York  2015-12-16            1.3      11.7       7.2   4.1      fog\n",
       "2907  New York  2015-12-17           29.7      15.0      10.0   4.1      fog\n",
       "2908  New York  2015-12-18            0.3      14.4       3.9   6.1      sun\n",
       "2909  New York  2015-12-19            0.0       5.0       2.2   9.0      sun\n",
       "2910  New York  2015-12-20            0.0       6.7       1.7   5.1      sun\n",
       "2911  New York  2015-12-21            0.0      12.8       3.3   5.3      sun\n",
       "2912  New York  2015-12-22            4.8      15.6      11.1   3.8      fog\n",
       "2913  New York  2015-12-23           29.5      17.2       8.9   4.5      fog\n",
       "2914  New York  2015-12-24            0.5      20.6      13.9   4.9      fog\n",
       "2915  New York  2015-12-25            2.5      17.8      11.1   0.9      fog\n",
       "2916  New York  2015-12-26            0.3      15.6       9.4   4.8  drizzle\n",
       "2917  New York  2015-12-27            2.0      17.2       8.9   5.5      fog\n",
       "2918  New York  2015-12-28            1.3       8.9       1.7   6.3     snow\n",
       "2919  New York  2015-12-29           16.8       9.4       1.1   5.3      fog\n",
       "2920  New York  2015-12-30            9.4      10.6       5.0   3.0      fog\n",
       "2921  New York  2015-12-31            1.5      11.1       6.1   5.5      fog\n",
       "\n",
       "[2922 rows x 7 columns]"
      ]
     },
     "execution_count": 5,
     "metadata": {},
     "output_type": "execute_result"
    }
   ],
   "source": [
    "my_df = pd.read_csv(\"https://raw.githubusercontent.com/vega/vega-datasets/gh-pages/data/weather.csv\")\n",
    "my_df"
   ]
  },
  {
   "cell_type": "markdown",
   "metadata": {
    "slideshow": {
     "slide_type": "slide"
    }
   },
   "source": [
    "# Now it is your turn\n",
    "Download [airport.csv](https://raw.githubusercontent.com/vega/vega-datasets/gh-pages/data/airports.csv) then load it into the notebook\n",
    "\n",
    "**Remember:** Right click on the link and select **save target as**"
   ]
  },
  {
   "cell_type": "code",
   "execution_count": null,
   "metadata": {
    "collapsed": true
   },
   "outputs": [],
   "source": []
  },
  {
   "cell_type": "markdown",
   "metadata": {
    "slideshow": {
     "slide_type": "slide"
    }
   },
   "source": [
    "# File Types\n",
    "- CSV: Comma Separated Values [example](https://raw.githubusercontent.com/vega/vega-datasets/gh-pages/data/weather.csv)\n",
    "    - Use pd.read_csv\n",
    "- JSON: Javascript Object Notation [example](https://github.com/vega/vega-datasets/raw/gh-pages/data/cars.json)\n",
    "    - Use pd.read_json\n",
    "- Excel: Microsoft Excel File\n",
    "    - Use pd.read_excel\n",
    "- Others, type pd.read_ then hit Tab to see a list"
   ]
  },
  {
   "cell_type": "code",
   "execution_count": null,
   "metadata": {
    "collapsed": true,
    "slideshow": {
     "slide_type": "slide"
    }
   },
   "outputs": [],
   "source": [
    "# Your turn\n",
    "# Load: https://github.com/vega/vega-datasets/raw/gh-pages/data/cars.json\n",
    "# Into: cars_df"
   ]
  },
  {
   "cell_type": "markdown",
   "metadata": {
    "slideshow": {
     "slide_type": "slide"
    }
   },
   "source": [
    "# How to work with the data?\n",
    "\n",
    "- You must place it in a variable so you can refer to it\n",
    "- The current data was displayed and not assigned to a variable, so you cannot use it\n",
    "- Assign it to a variable named **my_df**"
   ]
  },
  {
   "cell_type": "code",
   "execution_count": 3,
   "metadata": {
    "collapsed": true
   },
   "outputs": [],
   "source": [
    "my_df = pd.read_csv(\"weather.csv\")"
   ]
  },
  {
   "cell_type": "code",
   "execution_count": null,
   "metadata": {
    "collapsed": true,
    "slideshow": {
     "slide_type": "slide"
    }
   },
   "outputs": [],
   "source": [
    "# Your turn: Load airports.csv into airports_df"
   ]
  },
  {
   "cell_type": "markdown",
   "metadata": {
    "slideshow": {
     "slide_type": "slide"
    }
   },
   "source": [
    "# Let us discover how the data looks like\n",
    "\n",
    "We examine the top and bottom records of the dataframe to get an idea of what the data looks like"
   ]
  },
  {
   "cell_type": "code",
   "execution_count": 9,
   "metadata": {},
   "outputs": [
    {
     "data": {
      "text/html": [
       "<div>\n",
       "<table border=\"1\" class=\"dataframe\">\n",
       "  <thead>\n",
       "    <tr style=\"text-align: right;\">\n",
       "      <th></th>\n",
       "      <th>location</th>\n",
       "      <th>date</th>\n",
       "      <th>precipitation</th>\n",
       "      <th>temp_max</th>\n",
       "      <th>temp_min</th>\n",
       "      <th>wind</th>\n",
       "      <th>weather</th>\n",
       "    </tr>\n",
       "  </thead>\n",
       "  <tbody>\n",
       "    <tr>\n",
       "      <th>0</th>\n",
       "      <td>Seattle</td>\n",
       "      <td>2012-01-01 00:00</td>\n",
       "      <td>0.0</td>\n",
       "      <td>12.8</td>\n",
       "      <td>5.0</td>\n",
       "      <td>4.7</td>\n",
       "      <td>drizzle</td>\n",
       "    </tr>\n",
       "    <tr>\n",
       "      <th>1</th>\n",
       "      <td>Seattle</td>\n",
       "      <td>2012-01-02 00:00</td>\n",
       "      <td>10.9</td>\n",
       "      <td>10.6</td>\n",
       "      <td>2.8</td>\n",
       "      <td>4.5</td>\n",
       "      <td>rain</td>\n",
       "    </tr>\n",
       "    <tr>\n",
       "      <th>2</th>\n",
       "      <td>Seattle</td>\n",
       "      <td>2012-01-03 00:00</td>\n",
       "      <td>0.8</td>\n",
       "      <td>11.7</td>\n",
       "      <td>7.2</td>\n",
       "      <td>2.3</td>\n",
       "      <td>rain</td>\n",
       "    </tr>\n",
       "    <tr>\n",
       "      <th>3</th>\n",
       "      <td>Seattle</td>\n",
       "      <td>2012-01-04 00:00</td>\n",
       "      <td>20.3</td>\n",
       "      <td>12.2</td>\n",
       "      <td>5.6</td>\n",
       "      <td>4.7</td>\n",
       "      <td>rain</td>\n",
       "    </tr>\n",
       "    <tr>\n",
       "      <th>4</th>\n",
       "      <td>Seattle</td>\n",
       "      <td>2012-01-05 00:00</td>\n",
       "      <td>1.3</td>\n",
       "      <td>8.9</td>\n",
       "      <td>2.8</td>\n",
       "      <td>6.1</td>\n",
       "      <td>rain</td>\n",
       "    </tr>\n",
       "  </tbody>\n",
       "</table>\n",
       "</div>"
      ],
      "text/plain": [
       "  location              date  precipitation  temp_max  temp_min  wind  weather\n",
       "0  Seattle  2012-01-01 00:00            0.0      12.8       5.0   4.7  drizzle\n",
       "1  Seattle  2012-01-02 00:00           10.9      10.6       2.8   4.5     rain\n",
       "2  Seattle  2012-01-03 00:00            0.8      11.7       7.2   2.3     rain\n",
       "3  Seattle  2012-01-04 00:00           20.3      12.2       5.6   4.7     rain\n",
       "4  Seattle  2012-01-05 00:00            1.3       8.9       2.8   6.1     rain"
      ]
     },
     "execution_count": 9,
     "metadata": {},
     "output_type": "execute_result"
    }
   ],
   "source": [
    "my_df.head()"
   ]
  },
  {
   "cell_type": "code",
   "execution_count": null,
   "metadata": {
    "collapsed": true,
    "slideshow": {
     "slide_type": "slide"
    }
   },
   "outputs": [],
   "source": [
    "# You can pass a number in the head() method to show more data\n",
    "# show 10 items (try it)\n",
    "\n",
    "# do the same for airports_df\n"
   ]
  },
  {
   "cell_type": "code",
   "execution_count": 13,
   "metadata": {},
   "outputs": [
    {
     "data": {
      "text/plain": [
       "Index(['location', 'date', 'precipitation', 'temp_max', 'temp_min', 'wind',\n",
       "       'weather'],\n",
       "      dtype='object')"
      ]
     },
     "execution_count": 13,
     "metadata": {},
     "output_type": "execute_result"
    }
   ],
   "source": [
    "# To know which columns are available use the columns attribute\n",
    "my_df.columns"
   ]
  },
  {
   "cell_type": "code",
   "execution_count": null,
   "metadata": {
    "collapsed": true,
    "slideshow": {
     "slide_type": "slide"
    }
   },
   "outputs": [],
   "source": [
    "# Your turn: explore the columns for airports_df"
   ]
  },
  {
   "cell_type": "markdown",
   "metadata": {
    "slideshow": {
     "slide_type": "slide"
    }
   },
   "source": [
    "# Data types\n",
    "\n",
    "- Each **column** will have its own data type\n",
    "- Remember, variables will be in columns\n",
    "- Observations in rows\n",
    "- Use dtypes attribute of to discover columns and datatypes\n",
    "  - **OOP**: What is the difference between a *function*, a *method*, an *attribute*, and a *variable*?"
   ]
  },
  {
   "cell_type": "code",
   "execution_count": 18,
   "metadata": {},
   "outputs": [
    {
     "data": {
      "text/plain": [
       "location          object\n",
       "date              object\n",
       "precipitation    float64\n",
       "temp_max         float64\n",
       "temp_min         float64\n",
       "wind             float64\n",
       "weather           object\n",
       "dtype: object"
      ]
     },
     "execution_count": 18,
     "metadata": {},
     "output_type": "execute_result"
    }
   ],
   "source": [
    "my_df.dtypes"
   ]
  },
  {
   "cell_type": "code",
   "execution_count": null,
   "metadata": {
    "collapsed": true,
    "slideshow": {
     "slide_type": "slide"
    }
   },
   "outputs": [],
   "source": [
    "# Your turn: Find out the data types for the airports_df column"
   ]
  },
  {
   "cell_type": "code",
   "execution_count": 18,
   "metadata": {
    "slideshow": {
     "slide_type": "slide"
    }
   },
   "outputs": [
    {
     "data": {
      "text/plain": [
       "0      2012-01-01\n",
       "1      2012-01-02\n",
       "2      2012-01-03\n",
       "3      2012-01-04\n",
       "4      2012-01-05\n",
       "5      2012-01-06\n",
       "6      2012-01-07\n",
       "7      2012-01-08\n",
       "8      2012-01-09\n",
       "9      2012-01-10\n",
       "10     2012-01-11\n",
       "11     2012-01-12\n",
       "12     2012-01-13\n",
       "13     2012-01-14\n",
       "14     2012-01-15\n",
       "15     2012-01-16\n",
       "16     2012-01-17\n",
       "17     2012-01-18\n",
       "18     2012-01-19\n",
       "19     2012-01-20\n",
       "20     2012-01-21\n",
       "21     2012-01-22\n",
       "22     2012-01-23\n",
       "23     2012-01-24\n",
       "24     2012-01-25\n",
       "25     2012-01-26\n",
       "26     2012-01-27\n",
       "27     2012-01-28\n",
       "28     2012-01-29\n",
       "29     2012-01-30\n",
       "          ...    \n",
       "2892   2015-12-02\n",
       "2893   2015-12-03\n",
       "2894   2015-12-04\n",
       "2895   2015-12-05\n",
       "2896   2015-12-06\n",
       "2897   2015-12-07\n",
       "2898   2015-12-08\n",
       "2899   2015-12-09\n",
       "2900   2015-12-10\n",
       "2901   2015-12-11\n",
       "2902   2015-12-12\n",
       "2903   2015-12-13\n",
       "2904   2015-12-14\n",
       "2905   2015-12-15\n",
       "2906   2015-12-16\n",
       "2907   2015-12-17\n",
       "2908   2015-12-18\n",
       "2909   2015-12-19\n",
       "2910   2015-12-20\n",
       "2911   2015-12-21\n",
       "2912   2015-12-22\n",
       "2913   2015-12-23\n",
       "2914   2015-12-24\n",
       "2915   2015-12-25\n",
       "2916   2015-12-26\n",
       "2917   2015-12-27\n",
       "2918   2015-12-28\n",
       "2919   2015-12-29\n",
       "2920   2015-12-30\n",
       "2921   2015-12-31\n",
       "Name: date, dtype: datetime64[ns]"
      ]
     },
     "execution_count": 18,
     "metadata": {},
     "output_type": "execute_result"
    }
   ],
   "source": [
    "# Pandas uses data types provided by numpy\n",
    "# load numpy\n",
    "import numpy as np\n",
    "\n",
    "# convert the column to datetime\n",
    "my_df.date.astype(np.datetime64)"
   ]
  },
  {
   "cell_type": "code",
   "execution_count": 5,
   "metadata": {
    "slideshow": {
     "slide_type": "slide"
    }
   },
   "outputs": [
    {
     "data": {
      "text/plain": [
       "0   2012-01-01\n",
       "1   2012-01-02\n",
       "2   2012-01-03\n",
       "3   2012-01-04\n",
       "4   2012-01-05\n",
       "Name: date, dtype: datetime64[ns]"
      ]
     },
     "execution_count": 5,
     "metadata": {},
     "output_type": "execute_result"
    }
   ],
   "source": [
    "# an alternative way to do it is using\n",
    "pd.to_datetime(my_df.date).head() # do you remember head method?"
   ]
  },
  {
   "cell_type": "code",
   "execution_count": 6,
   "metadata": {
    "slideshow": {
     "slide_type": "slide"
    }
   },
   "outputs": [
    {
     "data": {
      "text/plain": [
       "0    2012-01-01 00:00\n",
       "1    2012-01-02 00:00\n",
       "2    2012-01-03 00:00\n",
       "3    2012-01-04 00:00\n",
       "4    2012-01-05 00:00\n",
       "Name: date, dtype: object"
      ]
     },
     "execution_count": 6,
     "metadata": {},
     "output_type": "execute_result"
    }
   ],
   "source": [
    "# now let us examine the date column\n",
    "my_df.date.head()\n",
    "\n",
    "# why is it still of type object?\n",
    "# How to fix it?"
   ]
  },
  {
   "cell_type": "code",
   "execution_count": null,
   "metadata": {
    "collapsed": true,
    "slideshow": {
     "slide_type": "slide"
    }
   },
   "outputs": [],
   "source": [
    "# just like the dataframe, the command creates a copy\n",
    "# but does not store it\n",
    "# We need to replace the old date column with the new one\n",
    "my_df.date = my_df.date.astype(np.datetime64)"
   ]
  },
  {
   "cell_type": "code",
   "execution_count": 23,
   "metadata": {},
   "outputs": [
    {
     "data": {
      "text/plain": [
       "location                 object\n",
       "date             datetime64[ns]\n",
       "precipitation           float64\n",
       "temp_max                float64\n",
       "temp_min                float64\n",
       "wind                    float64\n",
       "weather                  object\n",
       "dtype: object"
      ]
     },
     "execution_count": 23,
     "metadata": {},
     "output_type": "execute_result"
    }
   ],
   "source": [
    "# check the types\n",
    "my_df.dtypes"
   ]
  },
  {
   "cell_type": "code",
   "execution_count": 2,
   "metadata": {
    "collapsed": true,
    "slideshow": {
     "slide_type": "slide"
    }
   },
   "outputs": [],
   "source": [
    "# Your turn: examine the airports_df dataframe\n",
    "# are there any date columns that you can convert?\n",
    "# Check then numeric columns, what should their data type be?"
   ]
  },
  {
   "cell_type": "markdown",
   "metadata": {
    "slideshow": {
     "slide_type": "slide"
    }
   },
   "source": [
    "# Data Types and Variable Types\n",
    "| Variable Type | Data Type |\n",
    "| :------------: |----------|\n",
    "|Continuous|float64, datetime64[ns]|\n",
    "|Discrete|int64|\n",
    "|Ordinal|int64, [category](https://pandas.pydata.org/pandas-docs/stable/categorical.html)|\n",
    "|Nominal|int64, object, [category](https://pandas.pydata.org/pandas-docs/stable/categorical.html)|\n",
    "|Categorical|int64, object, [category](https://pandas.pydata.org/pandas-docs/stable/categorical.html)|"
   ]
  },
  {
   "cell_type": "markdown",
   "metadata": {
    "slideshow": {
     "slide_type": "slide"
    }
   },
   "source": [
    "# Why convert an object column into a date column?\n",
    "- As you will find out later, pandas can do more fancy things if it knows the column is a date\n",
    "- For example:\n",
    " - Sort\n",
    " - Filter based on date range\n",
    " - Date arethmatic\n",
    "- Always make sure date/time columns have the correct data type"
   ]
  },
  {
   "cell_type": "markdown",
   "metadata": {
    "slideshow": {
     "slide_type": "slide"
    }
   },
   "source": [
    "# Indexing Columns\n",
    "\n",
    "- Using square brackets [ ]\n",
    "- Using dot notation ."
   ]
  },
  {
   "cell_type": "code",
   "execution_count": 7,
   "metadata": {},
   "outputs": [
    {
     "data": {
      "text/plain": [
       "0        Seattle\n",
       "1        Seattle\n",
       "2        Seattle\n",
       "3        Seattle\n",
       "4        Seattle\n",
       "5        Seattle\n",
       "6        Seattle\n",
       "7        Seattle\n",
       "8        Seattle\n",
       "9        Seattle\n",
       "10       Seattle\n",
       "11       Seattle\n",
       "12       Seattle\n",
       "13       Seattle\n",
       "14       Seattle\n",
       "15       Seattle\n",
       "16       Seattle\n",
       "17       Seattle\n",
       "18       Seattle\n",
       "19       Seattle\n",
       "20       Seattle\n",
       "21       Seattle\n",
       "22       Seattle\n",
       "23       Seattle\n",
       "24       Seattle\n",
       "25       Seattle\n",
       "26       Seattle\n",
       "27       Seattle\n",
       "28       Seattle\n",
       "29       Seattle\n",
       "          ...   \n",
       "2892    New York\n",
       "2893    New York\n",
       "2894    New York\n",
       "2895    New York\n",
       "2896    New York\n",
       "2897    New York\n",
       "2898    New York\n",
       "2899    New York\n",
       "2900    New York\n",
       "2901    New York\n",
       "2902    New York\n",
       "2903    New York\n",
       "2904    New York\n",
       "2905    New York\n",
       "2906    New York\n",
       "2907    New York\n",
       "2908    New York\n",
       "2909    New York\n",
       "2910    New York\n",
       "2911    New York\n",
       "2912    New York\n",
       "2913    New York\n",
       "2914    New York\n",
       "2915    New York\n",
       "2916    New York\n",
       "2917    New York\n",
       "2918    New York\n",
       "2919    New York\n",
       "2920    New York\n",
       "2921    New York\n",
       "Name: location, dtype: object"
      ]
     },
     "execution_count": 7,
     "metadata": {},
     "output_type": "execute_result"
    }
   ],
   "source": [
    "# a single column is known as a series\n",
    "my_df['location']"
   ]
  },
  {
   "cell_type": "code",
   "execution_count": 8,
   "metadata": {
    "slideshow": {
     "slide_type": "slide"
    }
   },
   "outputs": [
    {
     "data": {
      "text/plain": [
       "0    Seattle\n",
       "1    Seattle\n",
       "2    Seattle\n",
       "3    Seattle\n",
       "4    Seattle\n",
       "Name: location, dtype: object"
      ]
     },
     "execution_count": 8,
     "metadata": {},
     "output_type": "execute_result"
    }
   ],
   "source": [
    "# Some methods that work on Dataframes also work on Series\n",
    "my_df['location'].head()"
   ]
  },
  {
   "cell_type": "code",
   "execution_count": 13,
   "metadata": {},
   "outputs": [
    {
     "data": {
      "text/plain": [
       "0    Seattle\n",
       "1    Seattle\n",
       "2    Seattle\n",
       "3    Seattle\n",
       "4    Seattle\n",
       "Name: location, dtype: object"
      ]
     },
     "execution_count": 13,
     "metadata": {},
     "output_type": "execute_result"
    }
   ],
   "source": [
    "# Dot notation to access series\n",
    "my_df.location.head()"
   ]
  },
  {
   "cell_type": "code",
   "execution_count": null,
   "metadata": {
    "collapsed": true,
    "slideshow": {
     "slide_type": "slide"
    }
   },
   "outputs": [],
   "source": [
    "# Your turn: Try to index the columns for airports_df using square brackets and dot notation\n",
    "# Use head() to get an idea of what the data is\n"
   ]
  },
  {
   "cell_type": "code",
   "execution_count": 14,
   "metadata": {
    "slideshow": {
     "slide_type": "slide"
    }
   },
   "outputs": [
    {
     "data": {
      "text/plain": [
       "count         2922\n",
       "unique           2\n",
       "top       New York\n",
       "freq          1461\n",
       "Name: location, dtype: object"
      ]
     },
     "execution_count": 14,
     "metadata": {},
     "output_type": "execute_result"
    }
   ],
   "source": [
    "# Descriptive statistics\n",
    "my_df['location'].describe()"
   ]
  },
  {
   "cell_type": "code",
   "execution_count": 15,
   "metadata": {},
   "outputs": [
    {
     "data": {
      "text/html": [
       "<div>\n",
       "<table border=\"1\" class=\"dataframe\">\n",
       "  <thead>\n",
       "    <tr style=\"text-align: right;\">\n",
       "      <th></th>\n",
       "      <th>precipitation</th>\n",
       "      <th>temp_max</th>\n",
       "      <th>temp_min</th>\n",
       "      <th>wind</th>\n",
       "    </tr>\n",
       "  </thead>\n",
       "  <tbody>\n",
       "    <tr>\n",
       "      <th>count</th>\n",
       "      <td>2922.000000</td>\n",
       "      <td>2922.000000</td>\n",
       "      <td>2922.000000</td>\n",
       "      <td>2922.000000</td>\n",
       "    </tr>\n",
       "    <tr>\n",
       "      <th>mean</th>\n",
       "      <td>2.944764</td>\n",
       "      <td>16.769131</td>\n",
       "      <td>8.612320</td>\n",
       "      <td>4.101129</td>\n",
       "    </tr>\n",
       "    <tr>\n",
       "      <th>std</th>\n",
       "      <td>7.695286</td>\n",
       "      <td>8.644596</td>\n",
       "      <td>7.511776</td>\n",
       "      <td>1.880791</td>\n",
       "    </tr>\n",
       "    <tr>\n",
       "      <th>min</th>\n",
       "      <td>0.000000</td>\n",
       "      <td>-7.700000</td>\n",
       "      <td>-16.000000</td>\n",
       "      <td>0.400000</td>\n",
       "    </tr>\n",
       "    <tr>\n",
       "      <th>25%</th>\n",
       "      <td>0.000000</td>\n",
       "      <td>10.000000</td>\n",
       "      <td>3.300000</td>\n",
       "      <td>2.700000</td>\n",
       "    </tr>\n",
       "    <tr>\n",
       "      <th>50%</th>\n",
       "      <td>0.000000</td>\n",
       "      <td>16.100000</td>\n",
       "      <td>8.900000</td>\n",
       "      <td>3.800000</td>\n",
       "    </tr>\n",
       "    <tr>\n",
       "      <th>75%</th>\n",
       "      <td>1.800000</td>\n",
       "      <td>23.900000</td>\n",
       "      <td>13.900000</td>\n",
       "      <td>5.100000</td>\n",
       "    </tr>\n",
       "    <tr>\n",
       "      <th>max</th>\n",
       "      <td>118.900000</td>\n",
       "      <td>37.800000</td>\n",
       "      <td>26.700000</td>\n",
       "      <td>16.200000</td>\n",
       "    </tr>\n",
       "  </tbody>\n",
       "</table>\n",
       "</div>"
      ],
      "text/plain": [
       "       precipitation     temp_max     temp_min         wind\n",
       "count    2922.000000  2922.000000  2922.000000  2922.000000\n",
       "mean        2.944764    16.769131     8.612320     4.101129\n",
       "std         7.695286     8.644596     7.511776     1.880791\n",
       "min         0.000000    -7.700000   -16.000000     0.400000\n",
       "25%         0.000000    10.000000     3.300000     2.700000\n",
       "50%         0.000000    16.100000     8.900000     3.800000\n",
       "75%         1.800000    23.900000    13.900000     5.100000\n",
       "max       118.900000    37.800000    26.700000    16.200000"
      ]
     },
     "execution_count": 15,
     "metadata": {},
     "output_type": "execute_result"
    }
   ],
   "source": [
    "# works also on dataframe\n",
    "my_df.describe()"
   ]
  },
  {
   "cell_type": "code",
   "execution_count": 26,
   "metadata": {
    "slideshow": {
     "slide_type": "slide"
    }
   },
   "outputs": [
    {
     "data": {
      "text/plain": [
       "count                    2922\n",
       "unique                   1461\n",
       "top       2013-06-05 00:00:00\n",
       "freq                        2\n",
       "first     2012-01-01 00:00:00\n",
       "last      2015-12-31 00:00:00\n",
       "Name: date, dtype: object"
      ]
     },
     "execution_count": 26,
     "metadata": {},
     "output_type": "execute_result"
    }
   ],
   "source": [
    "# Different data types will have different descriptives\n",
    "my_df['date'].describe()"
   ]
  },
  {
   "cell_type": "code",
   "execution_count": 21,
   "metadata": {},
   "outputs": [
    {
     "data": {
      "text/plain": [
       "count    2922.000000\n",
       "mean        2.944764\n",
       "std         7.695286\n",
       "min         0.000000\n",
       "25%         0.000000\n",
       "50%         0.000000\n",
       "75%         1.800000\n",
       "max       118.900000\n",
       "Name: precipitation, dtype: float64"
      ]
     },
     "execution_count": 21,
     "metadata": {},
     "output_type": "execute_result"
    }
   ],
   "source": [
    "my_df.precipitation.describe()"
   ]
  },
  {
   "cell_type": "code",
   "execution_count": null,
   "metadata": {
    "collapsed": true,
    "slideshow": {
     "slide_type": "slide"
    }
   },
   "outputs": [],
   "source": [
    "# Your turn: Use describe() on airports_df\n",
    "\n",
    "# Which columns are included in describe?\n",
    "\n",
    "# Try it on the columns that were excluded:\n",
    "\n",
    "# Why were these columns excluded?"
   ]
  },
  {
   "cell_type": "markdown",
   "metadata": {
    "slideshow": {
     "slide_type": "slide"
    }
   },
   "source": [
    "# You can also plot a dataframe\n",
    "- Pandas will try to show it in the best way possible\n",
    "- Plotting from dataframe is very simplistic and used for quick univariate exploration"
   ]
  },
  {
   "cell_type": "code",
   "execution_count": null,
   "metadata": {
    "collapsed": true
   },
   "outputs": [],
   "source": [
    "my_df.plot()"
   ]
  },
  {
   "cell_type": "code",
   "execution_count": 29,
   "metadata": {
    "collapsed": true,
    "slideshow": {
     "slide_type": "slide"
    }
   },
   "outputs": [],
   "source": [
    "# You need to tell pandas that you want to display plots in the notebook\n",
    "%matplotlib inline\n"
   ]
  },
  {
   "cell_type": "code",
   "execution_count": 31,
   "metadata": {},
   "outputs": [
    {
     "data": {
      "text/plain": [
       "<matplotlib.axes._subplots.AxesSubplot at 0x1147020b8>"
      ]
     },
     "execution_count": 31,
     "metadata": {},
     "output_type": "execute_result"
    },
    {
     "data": {
      "image/png": "[encoded data removed]",
      "text/plain": [
       "<matplotlib.figure.Figure at 0x114674240>"
      ]
     },
     "metadata": {},
     "output_type": "display_data"
    }
   ],
   "source": [
    "# now try it\n",
    "my_df.plot()"
   ]
  },
  {
   "cell_type": "markdown",
   "metadata": {
    "slideshow": {
     "slide_type": "slide"
    }
   },
   "source": [
    "# Don't forget!\n",
    "Always include in your notebook:\n",
    "```python\n",
    "# this is the first cell in your notebook\n",
    "import pandas as pd\n",
    "%matplotlib inline   # dont forget this\n",
    "```\n",
    "\n"
   ]
  },
  {
   "cell_type": "code",
   "execution_count": 32,
   "metadata": {
    "slideshow": {
     "slide_type": "slide"
    }
   },
   "outputs": [
    {
     "data": {
      "text/plain": [
       "<matplotlib.axes._subplots.AxesSubplot at 0x1147250f0>"
      ]
     },
     "execution_count": 32,
     "metadata": {},
     "output_type": "execute_result"
    },
    {
     "data": {
      "image/png": "[encoded data removed]",
      "text/plain": [
       "<matplotlib.figure.Figure at 0x116a02470>"
      ]
     },
     "metadata": {},
     "output_type": "display_data"
    }
   ],
   "source": [
    "# It's more meaningful to plot Series\n",
    "my_df['precipitation'].plot()"
   ]
  },
  {
   "cell_type": "code",
   "execution_count": 9,
   "metadata": {
    "slideshow": {
     "slide_type": "slide"
    }
   },
   "outputs": [
    {
     "data": {
      "text/plain": [
       "<matplotlib.axes._subplots.AxesSubplot at 0x10b33f710>"
      ]
     },
     "execution_count": 9,
     "metadata": {},
     "output_type": "execute_result"
    }
   ],
   "source": [
    "# Remember plots show change from one observation to the next\n",
    "my_df['wind'].plot()\n",
    "\n",
    "# in some cases it might not be useful"
   ]
  },
  {
   "cell_type": "code",
   "execution_count": 40,
   "metadata": {
    "slideshow": {
     "slide_type": "slide"
    }
   },
   "outputs": [
    {
     "data": {
      "text/plain": [
       "<matplotlib.axes._subplots.AxesSubplot at 0x116d89240>"
      ]
     },
     "execution_count": 40,
     "metadata": {},
     "output_type": "execute_result"
    },
    {
     "data": {
      "image/png": "[encoded data removed]",
      "text/plain": [
       "<matplotlib.figure.Figure at 0x116d80518>"
      ]
     },
     "metadata": {},
     "output_type": "display_data"
    }
   ],
   "source": [
    "# you can try a histogram\n",
    "my_df['wind'].hist()\n",
    "\n",
    "# Which is useful to know distributions"
   ]
  },
  {
   "cell_type": "markdown",
   "metadata": {
    "slideshow": {
     "slide_type": "slide"
    }
   },
   "source": [
    "# How can you find out if percipitation is usually high in the year or low?"
   ]
  },
  {
   "cell_type": "code",
   "execution_count": null,
   "metadata": {
    "collapsed": true
   },
   "outputs": [],
   "source": [
    "# Your turn:"
   ]
  },
  {
   "cell_type": "code",
   "execution_count": 45,
   "metadata": {
    "slideshow": {
     "slide_type": "slide"
    }
   },
   "outputs": [
    {
     "ename": "TypeError",
     "evalue": "Empty 'DataFrame': no numeric data to plot",
     "output_type": "error",
     "traceback": [
      "\u001b[0;31m---------------------------------------------------------------------------\u001b[0m",
      "\u001b[0;31mTypeError\u001b[0m                                 Traceback (most recent call last)",
      "\u001b[0;32m<ipython-input-45-e083b00ff51a>\u001b[0m in \u001b[0;36m<module>\u001b[0;34m()\u001b[0m\n\u001b[1;32m      1\u001b[0m \u001b[0;31m# Sometime pandas cannot plot it\u001b[0m\u001b[0;34m\u001b[0m\u001b[0;34m\u001b[0m\u001b[0m\n\u001b[0;32m----> 2\u001b[0;31m \u001b[0mmy_df\u001b[0m\u001b[0;34m[\u001b[0m\u001b[0;34m'location'\u001b[0m\u001b[0;34m]\u001b[0m\u001b[0;34m.\u001b[0m\u001b[0mplot\u001b[0m\u001b[0;34m(\u001b[0m\u001b[0;34m)\u001b[0m\u001b[0;34m\u001b[0m\u001b[0m\n\u001b[0m",
      "\u001b[0;32m/Users/koutbo6/anaconda/lib/python3.5/site-packages/pandas/tools/plotting.py\u001b[0m in \u001b[0;36m__call__\u001b[0;34m(self, kind, ax, figsize, use_index, title, grid, legend, style, logx, logy, loglog, xticks, yticks, xlim, ylim, rot, fontsize, colormap, table, yerr, xerr, label, secondary_y, **kwds)\u001b[0m\n\u001b[1;32m   3564\u001b[0m                            \u001b[0mcolormap\u001b[0m\u001b[0;34m=\u001b[0m\u001b[0mcolormap\u001b[0m\u001b[0;34m,\u001b[0m \u001b[0mtable\u001b[0m\u001b[0;34m=\u001b[0m\u001b[0mtable\u001b[0m\u001b[0;34m,\u001b[0m \u001b[0myerr\u001b[0m\u001b[0;34m=\u001b[0m\u001b[0myerr\u001b[0m\u001b[0;34m,\u001b[0m\u001b[0;34m\u001b[0m\u001b[0m\n\u001b[1;32m   3565\u001b[0m                            \u001b[0mxerr\u001b[0m\u001b[0;34m=\u001b[0m\u001b[0mxerr\u001b[0m\u001b[0;34m,\u001b[0m \u001b[0mlabel\u001b[0m\u001b[0;34m=\u001b[0m\u001b[0mlabel\u001b[0m\u001b[0;34m,\u001b[0m \u001b[0msecondary_y\u001b[0m\u001b[0;34m=\u001b[0m\u001b[0msecondary_y\u001b[0m\u001b[0;34m,\u001b[0m\u001b[0;34m\u001b[0m\u001b[0m\n\u001b[0;32m-> 3566\u001b[0;31m                            **kwds)\n\u001b[0m\u001b[1;32m   3567\u001b[0m     \u001b[0m__call__\u001b[0m\u001b[0;34m.\u001b[0m\u001b[0m__doc__\u001b[0m \u001b[0;34m=\u001b[0m \u001b[0mplot_series\u001b[0m\u001b[0;34m.\u001b[0m\u001b[0m__doc__\u001b[0m\u001b[0;34m\u001b[0m\u001b[0m\n\u001b[1;32m   3568\u001b[0m \u001b[0;34m\u001b[0m\u001b[0m\n",
      "\u001b[0;32m/Users/koutbo6/anaconda/lib/python3.5/site-packages/pandas/tools/plotting.py\u001b[0m in \u001b[0;36mplot_series\u001b[0;34m(data, kind, ax, figsize, use_index, title, grid, legend, style, logx, logy, loglog, xticks, yticks, xlim, ylim, rot, fontsize, colormap, table, yerr, xerr, label, secondary_y, **kwds)\u001b[0m\n\u001b[1;32m   2643\u001b[0m                  \u001b[0myerr\u001b[0m\u001b[0;34m=\u001b[0m\u001b[0myerr\u001b[0m\u001b[0;34m,\u001b[0m \u001b[0mxerr\u001b[0m\u001b[0;34m=\u001b[0m\u001b[0mxerr\u001b[0m\u001b[0;34m,\u001b[0m\u001b[0;34m\u001b[0m\u001b[0m\n\u001b[1;32m   2644\u001b[0m                  \u001b[0mlabel\u001b[0m\u001b[0;34m=\u001b[0m\u001b[0mlabel\u001b[0m\u001b[0;34m,\u001b[0m \u001b[0msecondary_y\u001b[0m\u001b[0;34m=\u001b[0m\u001b[0msecondary_y\u001b[0m\u001b[0;34m,\u001b[0m\u001b[0;34m\u001b[0m\u001b[0m\n\u001b[0;32m-> 2645\u001b[0;31m                  **kwds)\n\u001b[0m\u001b[1;32m   2646\u001b[0m \u001b[0;34m\u001b[0m\u001b[0m\n\u001b[1;32m   2647\u001b[0m \u001b[0;34m\u001b[0m\u001b[0m\n",
      "\u001b[0;32m/Users/koutbo6/anaconda/lib/python3.5/site-packages/pandas/tools/plotting.py\u001b[0m in \u001b[0;36m_plot\u001b[0;34m(data, x, y, subplots, ax, kind, **kwds)\u001b[0m\n\u001b[1;32m   2439\u001b[0m         \u001b[0mplot_obj\u001b[0m \u001b[0;34m=\u001b[0m \u001b[0mklass\u001b[0m\u001b[0;34m(\u001b[0m\u001b[0mdata\u001b[0m\u001b[0;34m,\u001b[0m \u001b[0msubplots\u001b[0m\u001b[0;34m=\u001b[0m\u001b[0msubplots\u001b[0m\u001b[0;34m,\u001b[0m \u001b[0max\u001b[0m\u001b[0;34m=\u001b[0m\u001b[0max\u001b[0m\u001b[0;34m,\u001b[0m \u001b[0mkind\u001b[0m\u001b[0;34m=\u001b[0m\u001b[0mkind\u001b[0m\u001b[0;34m,\u001b[0m \u001b[0;34m**\u001b[0m\u001b[0mkwds\u001b[0m\u001b[0;34m)\u001b[0m\u001b[0;34m\u001b[0m\u001b[0m\n\u001b[1;32m   2440\u001b[0m \u001b[0;34m\u001b[0m\u001b[0m\n\u001b[0;32m-> 2441\u001b[0;31m     \u001b[0mplot_obj\u001b[0m\u001b[0;34m.\u001b[0m\u001b[0mgenerate\u001b[0m\u001b[0;34m(\u001b[0m\u001b[0;34m)\u001b[0m\u001b[0;34m\u001b[0m\u001b[0m\n\u001b[0m\u001b[1;32m   2442\u001b[0m     \u001b[0mplot_obj\u001b[0m\u001b[0;34m.\u001b[0m\u001b[0mdraw\u001b[0m\u001b[0;34m(\u001b[0m\u001b[0;34m)\u001b[0m\u001b[0;34m\u001b[0m\u001b[0m\n\u001b[1;32m   2443\u001b[0m     \u001b[0;32mreturn\u001b[0m \u001b[0mplot_obj\u001b[0m\u001b[0;34m.\u001b[0m\u001b[0mresult\u001b[0m\u001b[0;34m\u001b[0m\u001b[0m\n",
      "\u001b[0;32m/Users/koutbo6/anaconda/lib/python3.5/site-packages/pandas/tools/plotting.py\u001b[0m in \u001b[0;36mgenerate\u001b[0;34m(self)\u001b[0m\n\u001b[1;32m   1024\u001b[0m     \u001b[0;32mdef\u001b[0m \u001b[0mgenerate\u001b[0m\u001b[0;34m(\u001b[0m\u001b[0mself\u001b[0m\u001b[0;34m)\u001b[0m\u001b[0;34m:\u001b[0m\u001b[0;34m\u001b[0m\u001b[0m\n\u001b[1;32m   1025\u001b[0m         \u001b[0mself\u001b[0m\u001b[0;34m.\u001b[0m\u001b[0m_args_adjust\u001b[0m\u001b[0;34m(\u001b[0m\u001b[0;34m)\u001b[0m\u001b[0;34m\u001b[0m\u001b[0m\n\u001b[0;32m-> 1026\u001b[0;31m         \u001b[0mself\u001b[0m\u001b[0;34m.\u001b[0m\u001b[0m_compute_plot_data\u001b[0m\u001b[0;34m(\u001b[0m\u001b[0;34m)\u001b[0m\u001b[0;34m\u001b[0m\u001b[0m\n\u001b[0m\u001b[1;32m   1027\u001b[0m         \u001b[0mself\u001b[0m\u001b[0;34m.\u001b[0m\u001b[0m_setup_subplots\u001b[0m\u001b[0;34m(\u001b[0m\u001b[0;34m)\u001b[0m\u001b[0;34m\u001b[0m\u001b[0m\n\u001b[1;32m   1028\u001b[0m         \u001b[0mself\u001b[0m\u001b[0;34m.\u001b[0m\u001b[0m_make_plot\u001b[0m\u001b[0;34m(\u001b[0m\u001b[0;34m)\u001b[0m\u001b[0;34m\u001b[0m\u001b[0m\n",
      "\u001b[0;32m/Users/koutbo6/anaconda/lib/python3.5/site-packages/pandas/tools/plotting.py\u001b[0m in \u001b[0;36m_compute_plot_data\u001b[0;34m(self)\u001b[0m\n\u001b[1;32m   1133\u001b[0m         \u001b[0;32mif\u001b[0m \u001b[0mis_empty\u001b[0m\u001b[0;34m:\u001b[0m\u001b[0;34m\u001b[0m\u001b[0m\n\u001b[1;32m   1134\u001b[0m             raise TypeError('Empty {0!r}: no numeric data to '\n\u001b[0;32m-> 1135\u001b[0;31m                             'plot'.format(numeric_data.__class__.__name__))\n\u001b[0m\u001b[1;32m   1136\u001b[0m \u001b[0;34m\u001b[0m\u001b[0m\n\u001b[1;32m   1137\u001b[0m         \u001b[0mself\u001b[0m\u001b[0;34m.\u001b[0m\u001b[0mdata\u001b[0m \u001b[0;34m=\u001b[0m \u001b[0mnumeric_data\u001b[0m\u001b[0;34m\u001b[0m\u001b[0m\n",
      "\u001b[0;31mTypeError\u001b[0m: Empty 'DataFrame': no numeric data to plot"
     ]
    }
   ],
   "source": [
    "# Sometime pandas cannot plot it\n",
    "my_df['location'].plot()"
   ]
  },
  {
   "cell_type": "code",
   "execution_count": null,
   "metadata": {
    "collapsed": true,
    "slideshow": {
     "slide_type": "slide"
    }
   },
   "outputs": [],
   "source": [
    "# Your turn: try to plot the columns in airport_df using either plot() or hist()\n",
    "\n",
    "\n",
    "# What can you find out about the data?"
   ]
  },
  {
   "cell_type": "code",
   "execution_count": 49,
   "metadata": {
    "slideshow": {
     "slide_type": "slide"
    }
   },
   "outputs": [
    {
     "data": {
      "text/plain": [
       "New York    1461\n",
       "Seattle     1461\n",
       "Name: location, dtype: int64"
      ]
     },
     "execution_count": 49,
     "metadata": {},
     "output_type": "execute_result"
    }
   ],
   "source": [
    "# Such variables are usually categorical and you can get frequencies like so\n",
    "my_df['location'].value_counts()"
   ]
  },
  {
   "cell_type": "code",
   "execution_count": 3,
   "metadata": {
    "collapsed": true,
    "slideshow": {
     "slide_type": "slide"
    }
   },
   "outputs": [],
   "source": [
    "# Your turn: Examine the columns for airports_df\n",
    "# what would be the best columns to check frequencies for?\n",
    "# try it:\n",
    "\n",
    "\n",
    "# The best columns are:\n",
    "\n",
    "# The reason frequencies is best calculated on them is because:\n",
    "\n",
    "# What did you find out about your data?\n",
    "\n",
    "# try to plot value_count(), how do you do it? what do you get?"
   ]
  },
  {
   "cell_type": "markdown",
   "metadata": {
    "slideshow": {
     "slide_type": "slide"
    }
   },
   "source": [
    "# Are data frames immutable?\n",
    "- Yes, however, all operations that change values will produce a copy and not change the original\n",
    "- You have to use assignment to change columns or dataframes\n",
    "- **So be careful!**"
   ]
  },
  {
   "cell_type": "markdown",
   "metadata": {
    "slideshow": {
     "slide_type": "slide"
    }
   },
   "source": [
    "# Missing Value (Nulls or Nans)\n",
    "- Missing values are usually represented by:\n",
    "    - The Python Null if the value doesn't exists\n",
    "    - Numpy nan if the value is Not a Number (like zero division)\n",
    "- Use .dropna() to remove rows with null values or .fillna() to replace the values"
   ]
  },
  {
   "cell_type": "code",
   "execution_count": 9,
   "metadata": {
    "slideshow": {
     "slide_type": "fragment"
    }
   },
   "outputs": [
    {
     "data": {
      "text/plain": [
       "406"
      ]
     },
     "execution_count": 9,
     "metadata": {},
     "output_type": "execute_result"
    }
   ],
   "source": [
    "# what are we doing here?\n",
    "cars_df = pd.read_json(\"https://github.com/vega/vega-datasets/raw/gh-pages/data/cars.json\")\n",
    "\n",
    "# What are we doing here?\n",
    "len(cars_df)"
   ]
  },
  {
   "cell_type": "code",
   "execution_count": 10,
   "metadata": {
    "slideshow": {
     "slide_type": "slide"
    }
   },
   "outputs": [
    {
     "data": {
      "text/plain": [
       "392"
      ]
     },
     "execution_count": 10,
     "metadata": {},
     "output_type": "execute_result"
    }
   ],
   "source": [
    "# Why do we have a smaller value now?\n",
    "len(cars_df.dropna())"
   ]
  },
  {
   "cell_type": "code",
   "execution_count": 11,
   "metadata": {
    "slideshow": {
     "slide_type": "fragment"
    }
   },
   "outputs": [
    {
     "data": {
      "text/plain": [
       "Index(['Acceleration', 'Cylinders', 'Displacement', 'Horsepower',\n",
       "       'Miles_per_Gallon', 'Name', 'Origin', 'Weight_in_lbs', 'Year'],\n",
       "      dtype='object')"
      ]
     },
     "execution_count": 11,
     "metadata": {},
     "output_type": "execute_result"
    }
   ],
   "source": [
    "# let's look at the available columns\n",
    "cars_df.columns"
   ]
  },
  {
   "cell_type": "code",
   "execution_count": 27,
   "metadata": {
    "slideshow": {
     "slide_type": "slide"
    }
   },
   "outputs": [
    {
     "data": {
      "text/plain": [
       "392"
      ]
     },
     "execution_count": 27,
     "metadata": {},
     "output_type": "execute_result"
    }
   ],
   "source": [
    "# You can limit checking null values to specific columns\n",
    "len(cars_df.dropna(subset=['Miles_per_Gallon','Horsepower',]))"
   ]
  },
  {
   "cell_type": "code",
   "execution_count": 28,
   "metadata": {
    "slideshow": {
     "slide_type": "slide"
    }
   },
   "outputs": [
    {
     "data": {
      "text/plain": [
       "406"
      ]
     },
     "execution_count": 28,
     "metadata": {},
     "output_type": "execute_result"
    }
   ],
   "source": [
    "# condition can be that all are missing\n",
    "len(cars_df.dropna(subset=['Miles_per_Gallon','Horsepower',], how=\"all\"))"
   ]
  },
  {
   "cell_type": "code",
   "execution_count": 29,
   "metadata": {
    "slideshow": {
     "slide_type": "fragment"
    }
   },
   "outputs": [
    {
     "data": {
      "text/plain": [
       "392"
      ]
     },
     "execution_count": 29,
     "metadata": {},
     "output_type": "execute_result"
    }
   ],
   "source": [
    "# or at least one\n",
    "len(cars_df.dropna(subset=['Miles_per_Gallon','Horsepower',], how=\"any\"))"
   ]
  },
  {
   "cell_type": "code",
   "execution_count": 33,
   "metadata": {
    "slideshow": {
     "slide_type": "slide"
    }
   },
   "outputs": [
    {
     "data": {
      "text/html": [
       "<div>\n",
       "<style scoped>\n",
       "    .dataframe tbody tr th:only-of-type {\n",
       "        vertical-align: middle;\n",
       "    }\n",
       "\n",
       "    .dataframe tbody tr th {\n",
       "        vertical-align: top;\n",
       "    }\n",
       "\n",
       "    .dataframe thead th {\n",
       "        text-align: right;\n",
       "    }\n",
       "</style>\n",
       "<table border=\"1\" class=\"dataframe\">\n",
       "  <thead>\n",
       "    <tr style=\"text-align: right;\">\n",
       "      <th></th>\n",
       "      <th>Acceleration</th>\n",
       "      <th>Cylinders</th>\n",
       "      <th>Displacement</th>\n",
       "      <th>Horsepower</th>\n",
       "      <th>Miles_per_Gallon</th>\n",
       "      <th>Name</th>\n",
       "      <th>Origin</th>\n",
       "      <th>Weight_in_lbs</th>\n",
       "      <th>Year</th>\n",
       "    </tr>\n",
       "  </thead>\n",
       "  <tbody>\n",
       "    <tr>\n",
       "      <th>0</th>\n",
       "      <td>12.0</td>\n",
       "      <td>8</td>\n",
       "      <td>307.0</td>\n",
       "      <td>130.0</td>\n",
       "      <td>18.0</td>\n",
       "      <td>chevrolet chevelle malibu</td>\n",
       "      <td>USA</td>\n",
       "      <td>3504</td>\n",
       "      <td>1970-01-01</td>\n",
       "    </tr>\n",
       "    <tr>\n",
       "      <th>1</th>\n",
       "      <td>11.5</td>\n",
       "      <td>8</td>\n",
       "      <td>350.0</td>\n",
       "      <td>165.0</td>\n",
       "      <td>15.0</td>\n",
       "      <td>buick skylark 320</td>\n",
       "      <td>USA</td>\n",
       "      <td>3693</td>\n",
       "      <td>1970-01-01</td>\n",
       "    </tr>\n",
       "    <tr>\n",
       "      <th>2</th>\n",
       "      <td>11.0</td>\n",
       "      <td>8</td>\n",
       "      <td>318.0</td>\n",
       "      <td>150.0</td>\n",
       "      <td>18.0</td>\n",
       "      <td>plymouth satellite</td>\n",
       "      <td>USA</td>\n",
       "      <td>3436</td>\n",
       "      <td>1970-01-01</td>\n",
       "    </tr>\n",
       "    <tr>\n",
       "      <th>3</th>\n",
       "      <td>12.0</td>\n",
       "      <td>8</td>\n",
       "      <td>304.0</td>\n",
       "      <td>150.0</td>\n",
       "      <td>16.0</td>\n",
       "      <td>amc rebel sst</td>\n",
       "      <td>USA</td>\n",
       "      <td>3433</td>\n",
       "      <td>1970-01-01</td>\n",
       "    </tr>\n",
       "    <tr>\n",
       "      <th>4</th>\n",
       "      <td>10.5</td>\n",
       "      <td>8</td>\n",
       "      <td>302.0</td>\n",
       "      <td>140.0</td>\n",
       "      <td>17.0</td>\n",
       "      <td>ford torino</td>\n",
       "      <td>USA</td>\n",
       "      <td>3449</td>\n",
       "      <td>1970-01-01</td>\n",
       "    </tr>\n",
       "  </tbody>\n",
       "</table>\n",
       "</div>"
      ],
      "text/plain": [
       "   Acceleration  Cylinders  Displacement  Horsepower  Miles_per_Gallon  \\\n",
       "0          12.0          8         307.0       130.0              18.0   \n",
       "1          11.5          8         350.0       165.0              15.0   \n",
       "2          11.0          8         318.0       150.0              18.0   \n",
       "3          12.0          8         304.0       150.0              16.0   \n",
       "4          10.5          8         302.0       140.0              17.0   \n",
       "\n",
       "                        Name Origin  Weight_in_lbs        Year  \n",
       "0  chevrolet chevelle malibu    USA           3504  1970-01-01  \n",
       "1          buick skylark 320    USA           3693  1970-01-01  \n",
       "2         plymouth satellite    USA           3436  1970-01-01  \n",
       "3              amc rebel sst    USA           3433  1970-01-01  \n",
       "4                ford torino    USA           3449  1970-01-01  "
      ]
     },
     "execution_count": 33,
     "metadata": {},
     "output_type": "execute_result"
    }
   ],
   "source": [
    "# You can also choose to replace the nulls with a value\n",
    "# like the mean or 0 depending on what makes more sense\n",
    "cars_df.fillna(0).head()"
   ]
  },
  {
   "cell_type": "code",
   "execution_count": 35,
   "metadata": {
    "slideshow": {
     "slide_type": "slide"
    }
   },
   "outputs": [
    {
     "data": {
      "text/html": [
       "<div>\n",
       "<style scoped>\n",
       "    .dataframe tbody tr th:only-of-type {\n",
       "        vertical-align: middle;\n",
       "    }\n",
       "\n",
       "    .dataframe tbody tr th {\n",
       "        vertical-align: top;\n",
       "    }\n",
       "\n",
       "    .dataframe thead th {\n",
       "        text-align: right;\n",
       "    }\n",
       "</style>\n",
       "<table border=\"1\" class=\"dataframe\">\n",
       "  <thead>\n",
       "    <tr style=\"text-align: right;\">\n",
       "      <th></th>\n",
       "      <th>Acceleration</th>\n",
       "      <th>Cylinders</th>\n",
       "      <th>Displacement</th>\n",
       "      <th>Horsepower</th>\n",
       "      <th>Miles_per_Gallon</th>\n",
       "      <th>Name</th>\n",
       "      <th>Origin</th>\n",
       "      <th>Weight_in_lbs</th>\n",
       "      <th>Year</th>\n",
       "    </tr>\n",
       "  </thead>\n",
       "  <tbody>\n",
       "    <tr>\n",
       "      <th>0</th>\n",
       "      <td>12.0</td>\n",
       "      <td>8</td>\n",
       "      <td>307.0</td>\n",
       "      <td>130.0</td>\n",
       "      <td>18.0</td>\n",
       "      <td>chevrolet chevelle malibu</td>\n",
       "      <td>USA</td>\n",
       "      <td>3504</td>\n",
       "      <td>1970-01-01</td>\n",
       "    </tr>\n",
       "    <tr>\n",
       "      <th>1</th>\n",
       "      <td>11.5</td>\n",
       "      <td>8</td>\n",
       "      <td>350.0</td>\n",
       "      <td>165.0</td>\n",
       "      <td>15.0</td>\n",
       "      <td>buick skylark 320</td>\n",
       "      <td>USA</td>\n",
       "      <td>3693</td>\n",
       "      <td>1970-01-01</td>\n",
       "    </tr>\n",
       "    <tr>\n",
       "      <th>2</th>\n",
       "      <td>11.0</td>\n",
       "      <td>8</td>\n",
       "      <td>318.0</td>\n",
       "      <td>150.0</td>\n",
       "      <td>18.0</td>\n",
       "      <td>plymouth satellite</td>\n",
       "      <td>USA</td>\n",
       "      <td>3436</td>\n",
       "      <td>1970-01-01</td>\n",
       "    </tr>\n",
       "    <tr>\n",
       "      <th>3</th>\n",
       "      <td>12.0</td>\n",
       "      <td>8</td>\n",
       "      <td>304.0</td>\n",
       "      <td>150.0</td>\n",
       "      <td>16.0</td>\n",
       "      <td>amc rebel sst</td>\n",
       "      <td>USA</td>\n",
       "      <td>3433</td>\n",
       "      <td>1970-01-01</td>\n",
       "    </tr>\n",
       "    <tr>\n",
       "      <th>4</th>\n",
       "      <td>10.5</td>\n",
       "      <td>8</td>\n",
       "      <td>302.0</td>\n",
       "      <td>140.0</td>\n",
       "      <td>17.0</td>\n",
       "      <td>ford torino</td>\n",
       "      <td>USA</td>\n",
       "      <td>3449</td>\n",
       "      <td>1970-01-01</td>\n",
       "    </tr>\n",
       "  </tbody>\n",
       "</table>\n",
       "</div>"
      ],
      "text/plain": [
       "   Acceleration  Cylinders  Displacement  Horsepower  Miles_per_Gallon  \\\n",
       "0          12.0          8         307.0       130.0              18.0   \n",
       "1          11.5          8         350.0       165.0              15.0   \n",
       "2          11.0          8         318.0       150.0              18.0   \n",
       "3          12.0          8         304.0       150.0              16.0   \n",
       "4          10.5          8         302.0       140.0              17.0   \n",
       "\n",
       "                        Name Origin  Weight_in_lbs        Year  \n",
       "0  chevrolet chevelle malibu    USA           3504  1970-01-01  \n",
       "1          buick skylark 320    USA           3693  1970-01-01  \n",
       "2         plymouth satellite    USA           3436  1970-01-01  \n",
       "3              amc rebel sst    USA           3433  1970-01-01  \n",
       "4                ford torino    USA           3449  1970-01-01  "
      ]
     },
     "execution_count": 35,
     "metadata": {},
     "output_type": "execute_result"
    }
   ],
   "source": [
    "# you can also specify which column gets which value using a dictionary\n",
    "cars_df.fillna(\n",
    "    {\n",
    "        'Miles_per_Gallon':0, # put 0 instead of null in miled_per_gallon\n",
    "        'Horsepower':cars_df.Horsepower.mean(), # put mean instead of null in horsepower\n",
    "    }\n",
    ").head()"
   ]
  },
  {
   "cell_type": "markdown",
   "metadata": {
    "slideshow": {
     "slide_type": "slide"
    }
   },
   "source": [
    "# Duplicates\n",
    "- Search for any repeated values\n",
    "- use duplicated()\n",
    "    - Note that this looks at all the columns in the record\n",
    "    - You can pass a list of column names to check duplication based on"
   ]
  },
  {
   "cell_type": "code",
   "execution_count": 28,
   "metadata": {},
   "outputs": [
    {
     "data": {
      "text/plain": [
       "0       False\n",
       "1       False\n",
       "2       False\n",
       "3       False\n",
       "4       False\n",
       "5       False\n",
       "6       False\n",
       "7       False\n",
       "8       False\n",
       "9       False\n",
       "10      False\n",
       "11      False\n",
       "12      False\n",
       "13      False\n",
       "14      False\n",
       "15      False\n",
       "16      False\n",
       "17      False\n",
       "18      False\n",
       "19      False\n",
       "20      False\n",
       "21      False\n",
       "22      False\n",
       "23      False\n",
       "24      False\n",
       "25      False\n",
       "26      False\n",
       "27      False\n",
       "28      False\n",
       "29      False\n",
       "        ...  \n",
       "2892    False\n",
       "2893    False\n",
       "2894    False\n",
       "2895    False\n",
       "2896    False\n",
       "2897    False\n",
       "2898    False\n",
       "2899    False\n",
       "2900    False\n",
       "2901    False\n",
       "2902    False\n",
       "2903    False\n",
       "2904    False\n",
       "2905    False\n",
       "2906    False\n",
       "2907    False\n",
       "2908    False\n",
       "2909    False\n",
       "2910    False\n",
       "2911    False\n",
       "2912    False\n",
       "2913    False\n",
       "2914    False\n",
       "2915    False\n",
       "2916    False\n",
       "2917    False\n",
       "2918    False\n",
       "2919    False\n",
       "2920    False\n",
       "2921    False\n",
       "dtype: bool"
      ]
     },
     "execution_count": 28,
     "metadata": {},
     "output_type": "execute_result"
    }
   ],
   "source": [
    "my_df.duplicated()"
   ]
  },
  {
   "cell_type": "code",
   "execution_count": 33,
   "metadata": {
    "slideshow": {
     "slide_type": "slide"
    }
   },
   "outputs": [
    {
     "data": {
      "text/plain": [
       "True     2920\n",
       "False       2\n",
       "dtype: int64"
      ]
     },
     "execution_count": 33,
     "metadata": {},
     "output_type": "execute_result"
    }
   ],
   "source": [
    "# Try to pass location as the duplication column and see what happens\n",
    "my_df.duplicated(\"location\").value_counts()\n",
    "\n",
    "# what is value_counts?"
   ]
  },
  {
   "cell_type": "code",
   "execution_count": 34,
   "metadata": {
    "slideshow": {
     "slide_type": "fragment"
    }
   },
   "outputs": [
    {
     "data": {
      "text/plain": [
       "True     2912\n",
       "False      10\n",
       "dtype: int64"
      ]
     },
     "execution_count": 34,
     "metadata": {},
     "output_type": "execute_result"
    }
   ],
   "source": [
    "# now try it with both location and weather columns\n",
    "my_df.duplicated([\"location\", \"weather\"]).value_counts()"
   ]
  },
  {
   "cell_type": "code",
   "execution_count": 39,
   "metadata": {
    "slideshow": {
     "slide_type": "slide"
    }
   },
   "outputs": [
    {
     "data": {
      "text/plain": [
       "2922"
      ]
     },
     "execution_count": 39,
     "metadata": {},
     "output_type": "execute_result"
    }
   ],
   "source": [
    "# You can also remove duplicates using .drop_duplicates\n",
    "len(my_df)"
   ]
  },
  {
   "cell_type": "code",
   "execution_count": 38,
   "metadata": {
    "slideshow": {
     "slide_type": "fragment"
    }
   },
   "outputs": [
    {
     "data": {
      "text/plain": [
       "2922"
      ]
     },
     "execution_count": 38,
     "metadata": {},
     "output_type": "execute_result"
    }
   ],
   "source": [
    "# there are no duplicates of all the values\n",
    "len(my_df.drop_duplicates())"
   ]
  },
  {
   "cell_type": "code",
   "execution_count": 40,
   "metadata": {
    "slideshow": {
     "slide_type": "slide"
    }
   },
   "outputs": [
    {
     "data": {
      "text/plain": [
       "10"
      ]
     },
     "execution_count": 40,
     "metadata": {},
     "output_type": "execute_result"
    }
   ],
   "source": [
    "# You want to get the different weather that each location would get\n",
    "# without any duplication\n",
    "len(my_df.drop_duplicates(subset=[\"location\", \"weather\"]))"
   ]
  },
  {
   "cell_type": "code",
   "execution_count": 41,
   "metadata": {
    "slideshow": {
     "slide_type": "slide"
    }
   },
   "outputs": [
    {
     "data": {
      "text/html": [
       "<div>\n",
       "<style scoped>\n",
       "    .dataframe tbody tr th:only-of-type {\n",
       "        vertical-align: middle;\n",
       "    }\n",
       "\n",
       "    .dataframe tbody tr th {\n",
       "        vertical-align: top;\n",
       "    }\n",
       "\n",
       "    .dataframe thead th {\n",
       "        text-align: right;\n",
       "    }\n",
       "</style>\n",
       "<table border=\"1\" class=\"dataframe\">\n",
       "  <thead>\n",
       "    <tr style=\"text-align: right;\">\n",
       "      <th></th>\n",
       "      <th>location</th>\n",
       "      <th>date</th>\n",
       "      <th>precipitation</th>\n",
       "      <th>temp_max</th>\n",
       "      <th>temp_min</th>\n",
       "      <th>wind</th>\n",
       "      <th>weather</th>\n",
       "    </tr>\n",
       "  </thead>\n",
       "  <tbody>\n",
       "    <tr>\n",
       "      <th>0</th>\n",
       "      <td>Seattle</td>\n",
       "      <td>2012-01-01</td>\n",
       "      <td>0.0</td>\n",
       "      <td>12.8</td>\n",
       "      <td>5.0</td>\n",
       "      <td>4.7</td>\n",
       "      <td>drizzle</td>\n",
       "    </tr>\n",
       "    <tr>\n",
       "      <th>1</th>\n",
       "      <td>Seattle</td>\n",
       "      <td>2012-01-02</td>\n",
       "      <td>10.9</td>\n",
       "      <td>10.6</td>\n",
       "      <td>2.8</td>\n",
       "      <td>4.5</td>\n",
       "      <td>rain</td>\n",
       "    </tr>\n",
       "    <tr>\n",
       "      <th>7</th>\n",
       "      <td>Seattle</td>\n",
       "      <td>2012-01-08</td>\n",
       "      <td>0.0</td>\n",
       "      <td>10.0</td>\n",
       "      <td>2.8</td>\n",
       "      <td>2.0</td>\n",
       "      <td>sun</td>\n",
       "    </tr>\n",
       "    <tr>\n",
       "      <th>13</th>\n",
       "      <td>Seattle</td>\n",
       "      <td>2012-01-14</td>\n",
       "      <td>4.1</td>\n",
       "      <td>4.4</td>\n",
       "      <td>0.6</td>\n",
       "      <td>5.3</td>\n",
       "      <td>snow</td>\n",
       "    </tr>\n",
       "    <tr>\n",
       "      <th>192</th>\n",
       "      <td>Seattle</td>\n",
       "      <td>2012-07-11</td>\n",
       "      <td>0.0</td>\n",
       "      <td>27.8</td>\n",
       "      <td>13.3</td>\n",
       "      <td>2.9</td>\n",
       "      <td>fog</td>\n",
       "    </tr>\n",
       "    <tr>\n",
       "      <th>1461</th>\n",
       "      <td>New York</td>\n",
       "      <td>2012-01-01</td>\n",
       "      <td>1.8</td>\n",
       "      <td>10.0</td>\n",
       "      <td>3.3</td>\n",
       "      <td>5.1</td>\n",
       "      <td>rain</td>\n",
       "    </tr>\n",
       "    <tr>\n",
       "      <th>1462</th>\n",
       "      <td>New York</td>\n",
       "      <td>2012-01-02</td>\n",
       "      <td>0.0</td>\n",
       "      <td>10.0</td>\n",
       "      <td>0.6</td>\n",
       "      <td>8.7</td>\n",
       "      <td>sun</td>\n",
       "    </tr>\n",
       "    <tr>\n",
       "      <th>1470</th>\n",
       "      <td>New York</td>\n",
       "      <td>2012-01-10</td>\n",
       "      <td>0.0</td>\n",
       "      <td>8.9</td>\n",
       "      <td>-1.1</td>\n",
       "      <td>5.5</td>\n",
       "      <td>drizzle</td>\n",
       "    </tr>\n",
       "    <tr>\n",
       "      <th>1473</th>\n",
       "      <td>New York</td>\n",
       "      <td>2012-01-13</td>\n",
       "      <td>0.0</td>\n",
       "      <td>10.0</td>\n",
       "      <td>-1.7</td>\n",
       "      <td>11.4</td>\n",
       "      <td>snow</td>\n",
       "    </tr>\n",
       "    <tr>\n",
       "      <th>1539</th>\n",
       "      <td>New York</td>\n",
       "      <td>2012-03-19</td>\n",
       "      <td>0.0</td>\n",
       "      <td>17.8</td>\n",
       "      <td>7.2</td>\n",
       "      <td>3.1</td>\n",
       "      <td>fog</td>\n",
       "    </tr>\n",
       "  </tbody>\n",
       "</table>\n",
       "</div>"
      ],
      "text/plain": [
       "      location        date  precipitation  temp_max  temp_min  wind  weather\n",
       "0      Seattle  2012-01-01            0.0      12.8       5.0   4.7  drizzle\n",
       "1      Seattle  2012-01-02           10.9      10.6       2.8   4.5     rain\n",
       "7      Seattle  2012-01-08            0.0      10.0       2.8   2.0      sun\n",
       "13     Seattle  2012-01-14            4.1       4.4       0.6   5.3     snow\n",
       "192    Seattle  2012-07-11            0.0      27.8      13.3   2.9      fog\n",
       "1461  New York  2012-01-01            1.8      10.0       3.3   5.1     rain\n",
       "1462  New York  2012-01-02            0.0      10.0       0.6   8.7      sun\n",
       "1470  New York  2012-01-10            0.0       8.9      -1.1   5.5  drizzle\n",
       "1473  New York  2012-01-13            0.0      10.0      -1.7  11.4     snow\n",
       "1539  New York  2012-03-19            0.0      17.8       7.2   3.1      fog"
      ]
     },
     "execution_count": 41,
     "metadata": {},
     "output_type": "execute_result"
    }
   ],
   "source": [
    "# The first entry will be selected for each location and weather combination\n",
    "my_df.drop_duplicates(subset=[\"location\", \"weather\"])"
   ]
  },
  {
   "cell_type": "code",
   "execution_count": 43,
   "metadata": {
    "slideshow": {
     "slide_type": "slide"
    }
   },
   "outputs": [
    {
     "data": {
      "text/html": [
       "<div>\n",
       "<style scoped>\n",
       "    .dataframe tbody tr th:only-of-type {\n",
       "        vertical-align: middle;\n",
       "    }\n",
       "\n",
       "    .dataframe tbody tr th {\n",
       "        vertical-align: top;\n",
       "    }\n",
       "\n",
       "    .dataframe thead th {\n",
       "        text-align: right;\n",
       "    }\n",
       "</style>\n",
       "<table border=\"1\" class=\"dataframe\">\n",
       "  <thead>\n",
       "    <tr style=\"text-align: right;\">\n",
       "      <th></th>\n",
       "      <th>location</th>\n",
       "      <th>weather</th>\n",
       "    </tr>\n",
       "  </thead>\n",
       "  <tbody>\n",
       "    <tr>\n",
       "      <th>0</th>\n",
       "      <td>Seattle</td>\n",
       "      <td>drizzle</td>\n",
       "    </tr>\n",
       "    <tr>\n",
       "      <th>1</th>\n",
       "      <td>Seattle</td>\n",
       "      <td>rain</td>\n",
       "    </tr>\n",
       "    <tr>\n",
       "      <th>7</th>\n",
       "      <td>Seattle</td>\n",
       "      <td>sun</td>\n",
       "    </tr>\n",
       "    <tr>\n",
       "      <th>13</th>\n",
       "      <td>Seattle</td>\n",
       "      <td>snow</td>\n",
       "    </tr>\n",
       "    <tr>\n",
       "      <th>192</th>\n",
       "      <td>Seattle</td>\n",
       "      <td>fog</td>\n",
       "    </tr>\n",
       "    <tr>\n",
       "      <th>1461</th>\n",
       "      <td>New York</td>\n",
       "      <td>rain</td>\n",
       "    </tr>\n",
       "    <tr>\n",
       "      <th>1462</th>\n",
       "      <td>New York</td>\n",
       "      <td>sun</td>\n",
       "    </tr>\n",
       "    <tr>\n",
       "      <th>1470</th>\n",
       "      <td>New York</td>\n",
       "      <td>drizzle</td>\n",
       "    </tr>\n",
       "    <tr>\n",
       "      <th>1473</th>\n",
       "      <td>New York</td>\n",
       "      <td>snow</td>\n",
       "    </tr>\n",
       "    <tr>\n",
       "      <th>1539</th>\n",
       "      <td>New York</td>\n",
       "      <td>fog</td>\n",
       "    </tr>\n",
       "  </tbody>\n",
       "</table>\n",
       "</div>"
      ],
      "text/plain": [
       "      location  weather\n",
       "0      Seattle  drizzle\n",
       "1      Seattle     rain\n",
       "7      Seattle      sun\n",
       "13     Seattle     snow\n",
       "192    Seattle      fog\n",
       "1461  New York     rain\n",
       "1462  New York      sun\n",
       "1470  New York  drizzle\n",
       "1473  New York     snow\n",
       "1539  New York      fog"
      ]
     },
     "execution_count": 43,
     "metadata": {},
     "output_type": "execute_result"
    }
   ],
   "source": [
    "# you can even show the location and whather only using indexing\n",
    "my_df.drop_duplicates(subset=[\"location\", \"weather\"])[[\"location\", \"weather\"]]"
   ]
  }
 ],
 "metadata": {
  "anaconda-cloud": {},
  "celltoolbar": "Slideshow",
  "kernelspec": {
   "display_name": "Python 3",
   "language": "python",
   "name": "python3"
  },
  "language_info": {
   "codemirror_mode": {
    "name": "ipython",
    "version": 3
   },
   "file_extension": ".py",
   "mimetype": "text/x-python",
   "name": "python",
   "nbconvert_exporter": "python",
   "pygments_lexer": "ipython3",
   "version": "3.7.0"
  }
 },
 "nbformat": 4,
 "nbformat_minor": 1
}

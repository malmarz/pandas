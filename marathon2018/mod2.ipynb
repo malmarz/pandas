{
 "cells": [
  {
   "cell_type": "markdown",
   "metadata": {
    "slideshow": {
     "slide_type": "slide"
    }
   },
   "source": [
    "## CBA Marathon Courses Fall 2018\n",
    "# Data Analysis and Visualization Using Python\n",
    "## Module 2 - Exploratory Data Analysis (EDA)\n",
    "\n",
    "### Dr. Mohammad AlMarzouq\n"
   ]
  },
  {
   "cell_type": "markdown",
   "metadata": {
    "slideshow": {
     "slide_type": "slide"
    }
   },
   "source": [
    "# Exploratory Data Analysis\n",
    "\n",
    "## The act of making sense of data by converting raw data into actionable information\n",
    "\n",
    "Myatt, Glenn J.; Johnson, Wayne P.. Making Sense of Data I: A Practical Guide to Exploratory Data Analysis and Data Mining. Wiley.\n",
    "\n"
   ]
  },
  {
   "cell_type": "markdown",
   "metadata": {
    "slideshow": {
     "slide_type": "slide"
    }
   },
   "source": [
    "# Steps In Exploratory Data Analysis\n",
    "\n",
    "1. Problem definition and planning\n",
    "2. Data preperation\n",
    "3. Data analysis\n",
    "4. Deployment\n",
    "\n"
   ]
  },
  {
   "cell_type": "markdown",
   "metadata": {
    "slideshow": {
     "slide_type": "slide"
    }
   },
   "source": [
    "# Problem Definition\n",
    "\n",
    "- Identify the problem to be solved\n",
    "    - Problem to explore? Question to answer? System to build?\n",
    "- List project deliverables\n",
    "    - Report vs System\n",
    "- Identify required resources/skills and success factors\n",
    "    - Including data sources\n",
    "- Assemble team\n",
    "- Prepare plan"
   ]
  },
  {
   "cell_type": "markdown",
   "metadata": {
    "slideshow": {
     "slide_type": "slide"
    }
   },
   "source": [
    "# Data Preperation (Longest Step)\n",
    "\n",
    "- Access and combine data\n",
    "- Summarize data\n",
    "- Look for errors\n",
    "- Transform data\n",
    "- Segment data\n",
    "\n"
   ]
  },
  {
   "cell_type": "markdown",
   "metadata": {
    "slideshow": {
     "slide_type": "slide"
    }
   },
   "source": [
    "# Data Analysis (Uncertain Step)\n",
    "- Exploring relationships between variables\n",
    "- Group summaries and comparisons\n",
    "- Visualization **(Our focus)**\n",
    "- Other advanced topics include:\n",
    "    - Discovering non-trivial patterns\n",
    "    - Building regression and classification models\n",
    "    - ... etc\n",
    "\n"
   ]
  },
  {
   "cell_type": "markdown",
   "metadata": {
    "slideshow": {
     "slide_type": "slide"
    }
   },
   "source": [
    "# Deployment\n",
    "\n",
    "- Generate report\n",
    "- Deploy decision-support tool/system\n",
    "- Measure business impact"
   ]
  },
  {
   "cell_type": "markdown",
   "metadata": {
    "slideshow": {
     "slide_type": "slide"
    }
   },
   "source": [
    "# Notes On The Steps\n",
    "\n",
    "- They apply to any other advanced type of analysis\n",
    "- Because the process involves discovery, it is iterative\n",
    "    - Experience is key\n",
    "    - Multiple perspective and critical thinking is useful\n",
    "    - Patience and Perseverance is required"
   ]
  },
  {
   "cell_type": "markdown",
   "metadata": {
    "slideshow": {
     "slide_type": "slide"
    }
   },
   "source": [
    "# Data Visualization\n",
    "\n",
    "The effort to understand data by placing it in a visual context"
   ]
  },
  {
   "cell_type": "markdown",
   "metadata": {
    "slideshow": {
     "slide_type": "slide"
    }
   },
   "source": [
    "# Dr. Edward Tufte\n",
    "\n",
    "- Though leader and practicioner of data visualization\n",
    "- Written two excellent books on the subject:\n",
    "    - The Visual Display of Quantitative Information\n",
    "    - Envisioning Information\n",
    "- Put down some principles for data visualization"
   ]
  },
  {
   "cell_type": "markdown",
   "metadata": {
    "slideshow": {
     "slide_type": "slide"
    }
   },
   "source": [
    "# Excellence in Visualization\n",
    "\n",
    "- Clear, precise, and efficient communication of complex ideas\n",
    "- Greatest number of ideas in the smallest amount of time and space\n",
    "- Multivariate\n",
    "- Conveys the truth"
   ]
  },
  {
   "cell_type": "markdown",
   "metadata": {
    "slideshow": {
     "slide_type": "slide"
    }
   },
   "source": [
    "# Visualization Goals\n",
    "- Content focus\n",
    "- Comparison rather than description\n",
    "- Integrity\n",
    "- High resolution\n",
    "- Utilize designs proven with time"
   ]
  },
  {
   "cell_type": "markdown",
   "metadata": {
    "slideshow": {
     "slide_type": "slide"
    }
   },
   "source": [
    "# The Message\n",
    "\n",
    "- Can use tables, charts, animations, inforgraphics ..etc\n",
    "- Powerful if the right data and graphic are [combined](https://www.youtube.com/watch?v=5Zg-C8AAIGg)\n",
    "- We will focus mostly on charts and tables, but know that **the possibilities are bigger**.\n",
    "- To improve your visualization, read the work of **Stephen Few**:\n",
    "    - Show Me the Numbers: Designing Tables and Graphs to Enlighten\n",
    "    - Information Dashboard Design: Displaying Data for At-a-Glance Monitoring"
   ]
  },
  {
   "cell_type": "markdown",
   "metadata": {
    "slideshow": {
     "slide_type": "slide"
    }
   },
   "source": [
    "# The Visualization Tools - In Python\n",
    "- [Matplotlib](https://matplotlib.org/tutorials/introductory/pyplot.html) (We will work with this)\n",
    "- Bokeh \n",
    "- ggplot\n",
    "- [Seaborn](https://seaborn.pydata.org/tutorial.html) (and this)\n",
    "- Plotly\n",
    "- Altair\n",
    "- .. others\n",
    "\n",
    "They vary in their simplicity and capabilities: static, interactive, animated ..etc."
   ]
  },
  {
   "cell_type": "markdown",
   "metadata": {
    "slideshow": {
     "slide_type": "slide"
    }
   },
   "source": [
    "# Other Visualization Platforms\n",
    "- R: ggplot2, ggvis, .. libraries much like python\n",
    "- [Tableau](https://www.tableau.com/): The current defacto standard in data visualization for non-programmers\n",
    "- SAS, SPSS, Excel, Matlab, Stata ... etc.\n",
    "\n"
   ]
  },
  {
   "cell_type": "markdown",
   "metadata": {
    "slideshow": {
     "slide_type": "slide"
    }
   },
   "source": [
    "# The Message: Charts Vs. Tables\n",
    "\n",
    "- Tables used to accuratly show the values of specific data points\n",
    "    - Dataframes, frequency tables, balance sheets ...etc\n",
    "- Charts used to display patterns and comparisons\n",
    "    - Histograms, box plots, scatter plots, bar plots ..etc\n",
    "\n",
    "\n"
   ]
  },
  {
   "cell_type": "markdown",
   "metadata": {
    "slideshow": {
     "slide_type": "slide"
    }
   },
   "source": [
    "![](https://www.timeshighereducation.com/Pictures/web/s/q/r/dec-news-table-01-smal_450.jpg)\n",
    "\n",
    "**Source:** Timer Higher Education"
   ]
  },
  {
   "cell_type": "markdown",
   "metadata": {
    "slideshow": {
     "slide_type": "slide"
    }
   },
   "source": [
    "![chart](https://upload.wikimedia.org/wikipedia/commons/thumb/7/7e/U.S._Phillips_Curve_2000_to_2013.png/800px-U.S._Phillips_Curve_2000_to_2013.png)"
   ]
  },
  {
   "cell_type": "markdown",
   "metadata": {
    "slideshow": {
     "slide_type": "slide"
    }
   },
   "source": [
    "# What is a Message?\n",
    "- It is an insight that you observe in your data\n",
    "- It includes either a single or multiple variables or subdivisions from your data that convey the insight"
   ]
  },
  {
   "cell_type": "markdown",
   "metadata": {
    "slideshow": {
     "slide_type": "slide"
    }
   },
   "source": [
    "# The Variables Can Be\n",
    "- Continuous, e.g.: 1, 1.3, -2, -4, 3.4, 50001\n",
    "- Discrete, e.g.: 1, 2, 3, 4, 4, -1 **(No fractions)**\n",
    "- Ordinal, e.g.: 1,2,1,2,3,3,3,3 **(Limited set of descrete numbers, order is meaningful)**\n",
    "- Nominal, e.g.: 1,2,1,2,3,3,3,3 **(Limited set of descrete numbers, order is NOT meaningful)**\n",
    "- Categorical, e.g.: Male, Female"
   ]
  },
  {
   "cell_type": "markdown",
   "metadata": {
    "slideshow": {
     "slide_type": "slide"
    }
   },
   "source": [
    "# Message Types For Charts\n",
    "- Time series: How values change with time\n",
    "- Rankings: Categorical subdivisions ordered in ascending or descending order for comparison\n",
    "- Part-to-whole: Categorical subdivisions to show ratio to the whole\n",
    "- Deviation: Categorical subdivisions compared to reference (like mean or predicted values)"
   ]
  },
  {
   "cell_type": "markdown",
   "metadata": {
    "slideshow": {
     "slide_type": "slide"
    }
   },
   "source": [
    "# Message Types For Charts Cont.\n",
    "- Frequency distributions\n",
    "- Correlations: Comparison between two variables\n",
    "- Nominal comparisons: Comparison of categorecal subdivisions without a particular order\n",
    "- Geospatial: Comparison of data across map or layout "
   ]
  },
  {
   "cell_type": "markdown",
   "metadata": {
    "slideshow": {
     "slide_type": "slide"
    }
   },
   "source": [
    "# The Right Chart for The Message\n",
    "\n",
    "- See the [chart selection matrix by Stephen Few](http://www.perceptualedge.com/articles/misc/Graph_Selection_Matrix.pdf)\n",
    "    - View also his [presentation](https://nces.ed.gov/programs/slds/pdf/08_F_06.pdf) on improving charts\n",
    "- See also [selecting the right chart type by Andrew Abela](https://i1.wp.com/www.tatvic.com/blog/wp-content/uploads/2016/12/Pic_2.png)"
   ]
  },
  {
   "cell_type": "markdown",
   "metadata": {
    "slideshow": {
     "slide_type": "slide"
    }
   },
   "source": [
    "# References and Resources\n",
    "\n",
    "- Tufte, E. R. (2001). The visual display of quantitative information.\n",
    "    - [Chapter 1](https://www.colorado.edu/geography/foote/maps/assign/reading/TufteCoversheet.pdf)\n",
    "\n",
    "- [The Encyclopedia of Human-Computer Interaction](https://www.interaction-design.org/literature/book/the-encyclopedia-of-human-computer-interaction-2nd-ed/data-visualization-for-human-perception)\n",
    "\n",
    "- [Resources for 424 Info Vis. Course at University of Washington](http://courses.washington.edu/info424/2007/DataSources.htm) By. Prof. Maureen Stone and Prof. Polle Zellweger.\n",
    "- [Tableau public, try it for free](https://public.tableau.com/s/)\n",
    "\n"
   ]
  },
  {
   "cell_type": "markdown",
   "metadata": {
    "slideshow": {
     "slide_type": "slide"
    }
   },
   "source": [
    "# Our EDA Framework\n",
    "1. Fetch the data\n",
    "2. Examine and understand the data\n",
    "3. Clean the data\n",
    "4. Investigate the data"
   ]
  },
  {
   "cell_type": "markdown",
   "metadata": {
    "slideshow": {
     "slide_type": "slide"
    }
   },
   "source": [
    "# Fetch the Data\n",
    "- Loading the data\n",
    "- Putting the data in table format that we can use our tools to analyze\n",
    "    - Table format is referred to as Data Frame\n",
    "- Capturing data from the source\n",
    "    - Scrapping, API, or download.\n",
    "    - Will be explored later in the course"
   ]
  },
  {
   "cell_type": "markdown",
   "metadata": {
    "slideshow": {
     "slide_type": "slide"
    }
   },
   "source": [
    "# Examine and understand the data\n",
    "- What variables does the dataframe contain?\n",
    "- How many records?\n",
    "- Are there problems in the data?\n",
    "    - Missing data, problematic data, ...etc\n",
    "- Mostly univariate data analysis and summaries"
   ]
  },
  {
   "cell_type": "markdown",
   "metadata": {
    "slideshow": {
     "slide_type": "slide"
    }
   },
   "source": [
    "# Cleaning The Data\n",
    "- Steps we take to fix problems that we discovered with data\n",
    "- Involves:\n",
    "    - Reshaping data\n",
    "    - Dropping data\n",
    "    - Interpolation\n",
    "    - More data collection, either from same source or other sources\n",
    "- Only start next step when you think you have appropriate data"
   ]
  },
  {
   "cell_type": "markdown",
   "metadata": {
    "slideshow": {
     "slide_type": "slide"
    }
   },
   "source": [
    "# Investigate The Data\n",
    "- Goal is to find anomalies and difference, as they signal that something interesting exists.\n",
    "- Always try to explain what you see \n",
    "- Think of implications of findings\n",
    "- Think of followup questions and new data that can inform the investigation\n"
   ]
  },
  {
   "cell_type": "markdown",
   "metadata": {
    "slideshow": {
     "slide_type": "slide"
    }
   },
   "source": [
    "# Steps to Investigate The Data\n",
    "1. Start with univariate analysis\n",
    "    - You should have already done this\n",
    "    - Try to explain interesting distributions\n",
    "2. Multivariate analysis\n",
    "    - Examine relationships between the variables that you have\n",
    "    - Perform advanced analysis techniques like clustering and dimensionality reduction \n",
    "3. Subdivisions and groups\n",
    "    - Discover the variables you can subdivide or group your data on, most likely categorical\n",
    "    - Perform Univeariate and multivariate analysis, and compare group plots"
   ]
  }
 ],
 "metadata": {
  "celltoolbar": "Slideshow",
  "kernelspec": {
   "display_name": "Python 3",
   "language": "python",
   "name": "python3"
  },
  "language_info": {
   "codemirror_mode": {
    "name": "ipython",
    "version": 3
   },
   "file_extension": ".py",
   "mimetype": "text/x-python",
   "name": "python",
   "nbconvert_exporter": "python",
   "pygments_lexer": "ipython3",
   "version": "3.6.0"
  }
 },
 "nbformat": 4,
 "nbformat_minor": 2
}

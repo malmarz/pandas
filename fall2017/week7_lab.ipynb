{
 "cells": [
  {
   "cell_type": "markdown",
   "metadata": {},
   "source": [
    "# Student Name:\n",
    "# Student ID:\n",
    "\n",
    "# Week7 lab\n",
    "\n",
    "1. Construct a dataframe using data from a social media service of your choosing. The data that you fetch must require authentication. You can use Restful API or a Python client to connect\n",
    "\n",
    "2. Construct a dataframe by scraping headline data from a news website of your choosing. Each record in the dataframe must include the headline title, the link to the news story, and some text from the story details. The data should also include the name of the author and date of the story if they exist.\n",
    "\n",
    "**TIP:** Fetch data from services that you expect to study in your final project."
   ]
  },
  {
   "cell_type": "code",
   "execution_count": null,
   "metadata": {},
   "outputs": [],
   "source": []
  }
 ],
 "metadata": {
  "kernelspec": {
   "display_name": "Python 3",
   "language": "python",
   "name": "python3"
  },
  "language_info": {
   "codemirror_mode": {
    "name": "ipython",
    "version": 3
   },
   "file_extension": ".py",
   "mimetype": "text/x-python",
   "name": "python",
   "nbconvert_exporter": "python",
   "pygments_lexer": "ipython3",
   "version": "3.5.2"
  }
 },
 "nbformat": 4,
 "nbformat_minor": 2
}

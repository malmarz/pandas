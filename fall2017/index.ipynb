{
 "cells": [
  {
   "cell_type": "markdown",
   "metadata": {},
   "source": [
    "# QMIS 492\n",
    "## Data Analysis and Visualization\n",
    "\n",
    "\n",
    "\n",
    "| Topic        | Link  |\n",
    "| ------------- |:-------------:| \n",
    "| Syllabus      | [html](http://bit.ly/mis492_syl) | \n",
    "| Introduction     | [slides](http://http://qmisr.github.io/mis492/intro.slides.html) [pdf](http://qmisr.github.io/mis492/intro.pdf)      | \n"
   ]
  }
 ],
 "metadata": {
  "kernelspec": {
   "display_name": "Python 3",
   "language": "python",
   "name": "python3"
  },
  "language_info": {
   "codemirror_mode": {
    "name": "ipython",
    "version": 3
   },
   "file_extension": ".py",
   "mimetype": "text/x-python",
   "name": "python",
   "nbconvert_exporter": "python",
   "pygments_lexer": "ipython3",
   "version": "3.5.2"
  }
 },
 "nbformat": 4,
 "nbformat_minor": 1
}

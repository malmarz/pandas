{
 "cells": [
  {
   "cell_type": "markdown",
   "metadata": {},
   "source": [
    "# Week 2 Lab Exercise\n",
    "## Student Name:\n",
    "## Student ID:\n",
    "\n",
    "Download [stocks.csv](https://raw.githubusercontent.com/vega/vega-datasets/gh-pages/data/stocks.csv) from the vega-dataset then perform the following tasks in **seperate cells**:\n",
    "\n",
    "1. Load the dataset into a dataframe named stocks_df.\n",
    "2. Display a small sample of the data in the dataframe. \n",
    "3. Show the column data types and fix the data type if it is not set correctly. For example, date values should not be an object data type.\n",
    "4. Display a line plot for the price column\n",
    "5. Calculate descriptive statistics for the price column.\n",
    "6. Display a histogram for the ticker column.\n",
    "7. Show the frequencies for the ticker column.\n",
    "8. **Challenge:** Create a line plot for the price in the y axes and date in the x axes."
   ]
  },
  {
   "cell_type": "code",
   "execution_count": null,
   "metadata": {
    "collapsed": true
   },
   "outputs": [],
   "source": []
  }
 ],
 "metadata": {
  "kernelspec": {
   "display_name": "Python 3",
   "language": "python",
   "name": "python3"
  },
  "language_info": {
   "codemirror_mode": {
    "name": "ipython",
    "version": 3
   },
   "file_extension": ".py",
   "mimetype": "text/x-python",
   "name": "python",
   "nbconvert_exporter": "python",
   "pygments_lexer": "ipython3",
   "version": "3.6.0"
  }
 },
 "nbformat": 4,
 "nbformat_minor": 2
}

{
 "cells": [
  {
   "cell_type": "markdown",
   "metadata": {},
   "source": [
    "# Name:\n",
    "# ID:\n",
    "\n",
    "Load the the data from:\n",
    "\n",
    "https://github.com/vega/vega-datasets/raw/gh-pages/data/cars.json\n",
    "\n",
    "Then perform the proper steps to answer the questions in the cells"
   ]
  },
  {
   "cell_type": "markdown",
   "metadata": {},
   "source": [
    "# Data Preperation\n",
    "\n",
    "This exercise will guide you through the typical steps that you are expected to perform when performing exploratory data analysis. Make sure you go through all the steps, and pay attention to the order. You will be expected to do this on your own in future exercise.\n",
    "\n",
    "**Note:** You can add cells as needed"
   ]
  },
  {
   "cell_type": "code",
   "execution_count": 1,
   "metadata": {
    "collapsed": true
   },
   "outputs": [],
   "source": [
    "# What columns are there?\n"
   ]
  },
  {
   "cell_type": "code",
   "execution_count": 3,
   "metadata": {
    "collapsed": true
   },
   "outputs": [],
   "source": [
    "# Which columns contain missing values? how many missing values are there"
   ]
  },
  {
   "cell_type": "code",
   "execution_count": 1,
   "metadata": {
    "collapsed": true
   },
   "outputs": [],
   "source": [
    "# Which rows are duplicated?"
   ]
  },
  {
   "cell_type": "code",
   "execution_count": null,
   "metadata": {
    "collapsed": true
   },
   "outputs": [],
   "source": [
    "# Fix the data to exlude missing values and duplicate rows (hint: use filteration)"
   ]
  },
  {
   "cell_type": "markdown",
   "metadata": {},
   "source": [
    "# Preliminary Data Exploration\n",
    "\n",
    "You start by exploring single variable to gain a better understanding of it. The questions in the following cells are the typical questions that you might ask when doing exploratory data analysis."
   ]
  },
  {
   "cell_type": "code",
   "execution_count": null,
   "metadata": {
    "collapsed": true
   },
   "outputs": [],
   "source": [
    "# Describe each columns, using statistical summaries and the appropriate visualization. \n",
    "# What can you say about each variable? (write it in comments under each variable as you will use it later)\n"
   ]
  },
  {
   "cell_type": "code",
   "execution_count": 6,
   "metadata": {
    "collapsed": true
   },
   "outputs": [],
   "source": [
    "# What are the top 5 cars that have the highest weight?"
   ]
  },
  {
   "cell_type": "code",
   "execution_count": 7,
   "metadata": {
    "collapsed": true
   },
   "outputs": [],
   "source": [
    "# Find the top 5 cars with the most cylinders, but the least horse power"
   ]
  },
  {
   "cell_type": "code",
   "execution_count": 8,
   "metadata": {
    "collapsed": true
   },
   "outputs": [],
   "source": [
    "# List all the cars that have ABOVE average miles_per_galons which are made in the USA\n",
    "# then calculate and plot the frequencies for the Cylinder column"
   ]
  },
  {
   "cell_type": "code",
   "execution_count": 8,
   "metadata": {
    "collapsed": true
   },
   "outputs": [],
   "source": [
    "# List all the cars that have BELOW average miles_per_galons which are made in the USA\n",
    "# then calculate plot the frequencies for the Cylinder column"
   ]
  },
  {
   "cell_type": "code",
   "execution_count": 10,
   "metadata": {
    "collapsed": true
   },
   "outputs": [],
   "source": [
    "# Compare the frequencies and plots for the number of cylinders between \n",
    "# above and below average miles per gallon cars, what do you notice?\n",
    "# are there any interesting observations or findings? let us know what they are"
   ]
  },
  {
   "cell_type": "markdown",
   "metadata": {},
   "source": [
    "# The Report\n",
    "\n",
    "Your report should be written as markdown at the top of the notebook. To know more about markdown, read the following [reference](https://github.com/adam-p/markdown-here/wiki/Markdown-Cheatsheet).\n",
    "\n",
    "Perform the following tasks to prepare your report:\n",
    "\n",
    "1. Split the notebook into 2 sections, Report and Analysis\n",
    "    - Report will be at the top, and will contain the findings that you discover from your analysis and be completly written in markdown. You get the facts and figures from the analysis section. While the report is at the top, it is the last part your write.\n",
    "    - The analysis will be everything you did in the above section. You copy the findings in your analysis and include interesting facts into the report.\n",
    "    \n",
    "2. Include the following sections in your report:\n",
    "    - Variables: Include a table listing the names of the variables, a description of what the variable is, the data type, and a notes section about the missing values and problems in the distributions.\n",
    "    - Summary of Findings: Based on the analysis perform, pick the interesting findings and list them as bullet points.\n",
    "    - For each finding, list the plots/evidence from your analysis that supports the finding"
   ]
  },
  {
   "cell_type": "markdown",
   "metadata": {},
   "source": [
    "# Creating a pdf report and presentation\n",
    "\n",
    "Here you will learn how to create a pdf report and presentation slides from your notebook.\n",
    "\n",
    "## Creating HTML slides\n",
    "Type the following command in CMD or Terminal:\n",
    "```bash\n",
    "jupyter nbconvert week5_hw.ipynb --to slides --reveal-prefix '//cdn.jsdelivr.net/npm/reveal.js@3.6.0'\n",
    "```\n",
    "\n",
    "In the same directory as your notebook file, look for **week5_hw.slides.html** and open it to view the presentation slides.\n",
    "\n",
    "**Note:** Replace week5_hw.ipynb with the name of any other notebook file you want to convert into slides\n",
    "\n",
    "## Create PDF document\n",
    "\n",
    "1. Download and install [pandoc](https://pandoc.org/installing.html)\n",
    "2. run the following command in the command line, in the same directory as your notebook:\n",
    "\n",
    "```bash\n",
    "jupyter nbconvert --to pdf week3_lab.ipynb\n",
    "```\n",
    "3. Look for week3_lab.pdf, open it to examine the output, then **send it to your instructor instead of the notebook**.\n",
    "\n",
    "**Note:** week3_lab.ipynb is the name of the notebook file, in the future replace it with the same of the file you want to convert.\n",
    "\n"
   ]
  },
  {
   "cell_type": "code",
   "execution_count": null,
   "metadata": {
    "collapsed": true
   },
   "outputs": [],
   "source": []
  }
 ],
 "metadata": {
  "kernelspec": {
   "display_name": "Python 3",
   "language": "python",
   "name": "python3"
  },
  "language_info": {
   "codemirror_mode": {
    "name": "ipython",
    "version": 3
   },
   "file_extension": ".py",
   "mimetype": "text/x-python",
   "name": "python",
   "nbconvert_exporter": "python",
   "pygments_lexer": "ipython3",
   "version": "3.6.0"
  }
 },
 "nbformat": 4,
 "nbformat_minor": 1
}

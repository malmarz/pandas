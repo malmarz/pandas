{
 "cells": [
  {
   "cell_type": "markdown",
   "metadata": {
    "slideshow": {
     "slide_type": "slide"
    }
   },
   "source": [
    "# MIS 492 - Data Analysis and Visualization\n",
    "## Week 1\n",
    "\n",
    "## Python Primer\n",
    "\n",
    "### Dr. Mohammad AlMarzouq\n",
    "\n",
    "**Note:** We will cover as much as we can of this in the first week, use it as a reference."
   ]
  },
  {
   "cell_type": "markdown",
   "metadata": {
    "slideshow": {
     "slide_type": "slide"
    }
   },
   "source": [
    "# What do computer programs contain?\n",
    "1. Data\n",
    "2. Processes"
   ]
  },
  {
   "cell_type": "markdown",
   "metadata": {
    "slideshow": {
     "slide_type": "slide"
    }
   },
   "source": [
    "# What is programming?\n",
    "Combining data and processes to produce desired output.\n",
    "\n",
    "**All programs** produce data as output!\n",
    "\n",
    "When you learn a programming language, you learn how the language handles data, and how the language manipulates data (processes), to produce the desired output (data)."
   ]
  },
  {
   "cell_type": "markdown",
   "metadata": {
    "slideshow": {
     "slide_type": "slide"
    }
   },
   "source": [
    "## Part 1: Data"
   ]
  },
  {
   "cell_type": "markdown",
   "metadata": {
    "slideshow": {
     "slide_type": "subslide"
    }
   },
   "source": [
    "# Where can we find data?\n",
    "\n",
    "In variables"
   ]
  },
  {
   "cell_type": "code",
   "execution_count": 31,
   "metadata": {
    "slideshow": {
     "slide_type": "subslide"
    }
   },
   "outputs": [],
   "source": [
    "# you can assign/replace\n",
    "x = 5"
   ]
  },
  {
   "cell_type": "code",
   "execution_count": 32,
   "metadata": {},
   "outputs": [
    {
     "name": "stdout",
     "output_type": "stream",
     "text": [
      "5\n"
     ]
    }
   ],
   "source": [
    "# you can print (output)\n",
    "print(x)"
   ]
  },
  {
   "cell_type": "code",
   "execution_count": 33,
   "metadata": {},
   "outputs": [
    {
     "data": {
      "text/plain": [
       "7"
      ]
     },
     "execution_count": 33,
     "metadata": {},
     "output_type": "execute_result"
    }
   ],
   "source": [
    "# you can use in operations\n",
    "x + 2"
   ]
  },
  {
   "cell_type": "markdown",
   "metadata": {
    "slideshow": {
     "slide_type": "subslide"
    }
   },
   "source": [
    "# Python is a dynamically typed languages\n",
    "\n",
    "- You can place any type of data in a variables\n",
    "- You do not have to declare it like VB:\n",
    "\n",
    "```vb\n",
    "    Dim x as Integer\n",
    "    x = \"hello\" ' will give an error\n",
    "    x = \"5\" ' will convert \"5\" into 5\n",
    "    x = 6 ' correct assignment\n",
    "```"
   ]
  },
  {
   "cell_type": "markdown",
   "metadata": {
    "slideshow": {
     "slide_type": "subslide"
    }
   },
   "source": [
    "# Python is a dynamically typed languages (cont.)\n",
    "\n",
    "## Notice how you do not declaire a type\n",
    "\n",
    "```python\n",
    "    x = 5 # integer\n",
    "    x = \"6\" # string\n",
    "```"
   ]
  },
  {
   "cell_type": "markdown",
   "metadata": {
    "slideshow": {
     "slide_type": "subslide"
    }
   },
   "source": [
    "# Python is strongly typed\n",
    "\n",
    "## Mixing different types in operations is not allowed without explicitly letting python know that it is what you want"
   ]
  },
  {
   "cell_type": "code",
   "execution_count": 34,
   "metadata": {
    "slideshow": {
     "slide_type": "subslide"
    }
   },
   "outputs": [
    {
     "ename": "TypeError",
     "evalue": "unsupported operand type(s) for +: 'int' and 'str'",
     "output_type": "error",
     "traceback": [
      "\u001b[0;31m---------------------------------------------------------------------------\u001b[0m",
      "\u001b[0;31mTypeError\u001b[0m                                 Traceback (most recent call last)",
      "\u001b[0;32m<ipython-input-34-3c4368ee9884>\u001b[0m in \u001b[0;36m<module>\u001b[0;34m()\u001b[0m\n\u001b[1;32m      1\u001b[0m \u001b[0mx\u001b[0m \u001b[0;34m=\u001b[0m \u001b[0;36m5\u001b[0m\u001b[0;34m\u001b[0m\u001b[0m\n\u001b[1;32m      2\u001b[0m \u001b[0my\u001b[0m \u001b[0;34m=\u001b[0m \u001b[0;34m\"7\"\u001b[0m\u001b[0;34m\u001b[0m\u001b[0m\n\u001b[0;32m----> 3\u001b[0;31m \u001b[0mprint\u001b[0m\u001b[0;34m(\u001b[0m\u001b[0mx\u001b[0m\u001b[0;34m+\u001b[0m\u001b[0my\u001b[0m\u001b[0;34m)\u001b[0m \u001b[0;31m# Error\u001b[0m\u001b[0;34m\u001b[0m\u001b[0m\n\u001b[0m",
      "\u001b[0;31mTypeError\u001b[0m: unsupported operand type(s) for +: 'int' and 'str'"
     ]
    }
   ],
   "source": [
    "x = 5\n",
    "y = \"7\"\n",
    "print(x+y) # Error"
   ]
  },
  {
   "cell_type": "code",
   "execution_count": null,
   "metadata": {
    "slideshow": {
     "slide_type": "subslide"
    }
   },
   "outputs": [],
   "source": [
    "print(x+int(y)) # works, known as type casting"
   ]
  },
  {
   "cell_type": "code",
   "execution_count": null,
   "metadata": {},
   "outputs": [],
   "source": [
    "# discover types using type()\n",
    "type(x)"
   ]
  },
  {
   "cell_type": "code",
   "execution_count": null,
   "metadata": {},
   "outputs": [],
   "source": [
    "type(y)"
   ]
  },
  {
   "cell_type": "code",
   "execution_count": null,
   "metadata": {},
   "outputs": [],
   "source": [
    "# Works with values and empty values also\n",
    "type(\"5\") # try type([])"
   ]
  },
  {
   "cell_type": "markdown",
   "metadata": {
    "slideshow": {
     "slide_type": "subslide"
    }
   },
   "source": [
    "# How to choose variable names?\n",
    "- Use descriptive names (student_list better than x)\n",
    "- Always use small letters! (student_list not Student_List)\n",
    "- Use underscore _ in place of spaces (student_list not studentlist)\n",
    "- There is more! Learn the conventions and writing style. [Read this important article](http://docs.python-guide.org/en/latest/writing/style/)"
   ]
  },
  {
   "cell_type": "markdown",
   "metadata": {
    "slideshow": {
     "slide_type": "subslide"
    }
   },
   "source": [
    "# For more information on data types see:\n",
    "- Python [built-in data types](https://docs.python.org/3/library/stdtypes.html)\n",
    "- More advanced [data types](https://docs.python.org/3/library/datatypes.html)\n",
    "- Type: help(\"TYPES\") in jupyter or python prompt"
   ]
  },
  {
   "cell_type": "markdown",
   "metadata": {
    "slideshow": {
     "slide_type": "subslide"
    }
   },
   "source": [
    "# Python main data types\n",
    "\n",
    "- None:\n",
    "```python\n",
    "    x = None # known as Null, nil, nothing in other languages\n",
    "```\n"
   ]
  },
  {
   "cell_type": "markdown",
   "metadata": {
    "slideshow": {
     "slide_type": "subslide"
    }
   },
   "source": [
    "# Python main data types (numeric) \n",
    "- int (Integers):\n",
    "```python\n",
    "    x = 10 # integer values (no decimal points)\n",
    "```\n",
    "- float:\n",
    "```python\n",
    "    x = 11.6 # numeric values with decimal points (known as double in VB)\n",
    "```"
   ]
  },
  {
   "cell_type": "markdown",
   "metadata": {
    "slideshow": {
     "slide_type": "subslide"
    }
   },
   "source": [
    "# Python main data types (numeric)  cont.\n",
    "- complex:\n",
    "```python\n",
    "    x = 11 + 1j # complex numbers\n",
    "```"
   ]
  },
  {
   "cell_type": "markdown",
   "metadata": {},
   "source": [
    "# More complex data types that can store multiple values are known as data structures\n",
    "\n",
    "## Includes:\n",
    "- Sequences: Store multiple items and maintain order.\n",
    "- Sets: Store multiple **unique** items, but does **NOT** maintain order\n",
    "- Dictionaries: Stores pairs of values, where one is known as a key and used to identify the other value. (e.g., student id is a key, and the student record can be a stored value)."
   ]
  },
  {
   "cell_type": "markdown",
   "metadata": {
    "slideshow": {
     "slide_type": "subslide"
    }
   },
   "source": [
    "# Mutable and Immutable values\n",
    "\n",
    "- Some data structures will only store **immutable** values.\n",
    " - Meaning that ones the value is stored, you cannot modify it.\n",
    "- While other data structures allow values to **mutate**.\n",
    "- Can you think why?\n",
    " - discuss with your instructor"
   ]
  },
  {
   "cell_type": "markdown",
   "metadata": {
    "slideshow": {
     "slide_type": "subslide"
    }
   },
   "source": [
    "## Sequences data types\n",
    "### str (Strings, immutable values):\n",
    "For more information see [here](http://greenteapress.com/thinkpython2/html/thinkpython2009.html) and [here](http://openbookproject.net/thinkcs/python/english3e/strings.html)"
   ]
  },
  {
   "cell_type": "code",
   "execution_count": null,
   "metadata": {
    "slideshow": {
     "slide_type": "-"
    }
   },
   "outputs": [],
   "source": [
    "x = \"hello\" # identified with double quotes\"\n",
    "print(x[2])"
   ]
  },
  {
   "cell_type": "markdown",
   "metadata": {
    "slideshow": {
     "slide_type": "subslide"
    }
   },
   "source": [
    "### list (mutable values):\n",
    "For more information see [here](http://greenteapress.com/thinkpython2/html/thinkpython2011.html) and [here](http://openbookproject.net/thinkcs/python/english3e/lists.html)"
   ]
  },
  {
   "cell_type": "code",
   "execution_count": null,
   "metadata": {
    "slideshow": {
     "slide_type": "-"
    }
   },
   "outputs": [],
   "source": [
    "x = [1,2,3,\"x\",1.1,1,2,3,4]\n",
    "print(x[1]) # what will this show?"
   ]
  },
  {
   "cell_type": "code",
   "execution_count": null,
   "metadata": {
    "slideshow": {
     "slide_type": "-"
    }
   },
   "outputs": [],
   "source": [
    "x[1] = 10\n",
    "print(x)"
   ]
  },
  {
   "cell_type": "markdown",
   "metadata": {
    "slideshow": {
     "slide_type": "subslide"
    }
   },
   "source": [
    "### tuple (immutable values):\n",
    "For more information, read [here](http://greenteapress.com/thinkpython2/html/thinkpython2013.html) and [here](http://openbookproject.net/thinkcs/python/english3e/tuples.html)"
   ]
  },
  {
   "cell_type": "code",
   "execution_count": null,
   "metadata": {
    "slideshow": {
     "slide_type": "-"
    }
   },
   "outputs": [],
   "source": [
    "x = (1,2,3,\"x\",1.1,1,2,3,4)\n",
    "print(x[1]) # what will this show?"
   ]
  },
  {
   "cell_type": "code",
   "execution_count": null,
   "metadata": {
    "slideshow": {
     "slide_type": "-"
    }
   },
   "outputs": [],
   "source": [
    "x[1] = 10 # what will happen here?\n",
    "print(x)"
   ]
  },
  {
   "cell_type": "markdown",
   "metadata": {
    "slideshow": {
     "slide_type": "subslide"
    }
   },
   "source": [
    "# Trick question\n",
    "## How to replace second item in tuple x?"
   ]
  },
  {
   "cell_type": "code",
   "execution_count": null,
   "metadata": {},
   "outputs": [],
   "source": [
    "x = (1,2,3,\"x\",1.1,1,2,3,4)\n",
    "        # <- What to type here?"
   ]
  },
  {
   "cell_type": "markdown",
   "metadata": {
    "slideshow": {
     "slide_type": "subslide"
    }
   },
   "source": [
    "# Sets"
   ]
  },
  {
   "cell_type": "code",
   "execution_count": null,
   "metadata": {},
   "outputs": [],
   "source": [
    "x = {1,2,3,\"x\",1.1,1,2,3,4}\n",
    "x # In jupyter notebook you do not need to type print to see contents of a variable"
   ]
  },
  {
   "cell_type": "markdown",
   "metadata": {},
   "source": [
    "Can you spot the difference between a set and a tuple? (there are at least 2)"
   ]
  },
  {
   "cell_type": "markdown",
   "metadata": {
    "slideshow": {
     "slide_type": "subslide"
    }
   },
   "source": [
    "# How can you fetch a specific item in a set?"
   ]
  },
  {
   "cell_type": "code",
   "execution_count": null,
   "metadata": {},
   "outputs": [],
   "source": [
    "x = {1,2,3,\"x\",1.1,1,2,3,4}\n",
    "    # <- type your answer here"
   ]
  },
  {
   "cell_type": "markdown",
   "metadata": {
    "slideshow": {
     "slide_type": "subslide"
    }
   },
   "source": [
    "# What seems to be the problem?\n",
    "Discuss with your instructor your solutions and whether sets are useful."
   ]
  },
  {
   "cell_type": "markdown",
   "metadata": {
    "slideshow": {
     "slide_type": "subslide"
    }
   },
   "source": [
    "# Dictionaries\n",
    "\n",
    "- **There is no order in a dictionary!**\n",
    "- Dictionary lets the programmer label data\n",
    "- Data is retrieved using the label\n",
    " - In lists, data is retreived using the order\n",
    "- Label is known as Key, data is known as Value\n",
    " "
   ]
  },
  {
   "cell_type": "markdown",
   "metadata": {
    "slideshow": {
     "slide_type": "subslide"
    }
   },
   "source": [
    "# More information on dictionaries\n",
    "Read [here](http://greenteapress.com/thinkpython2/html/thinkpython2012.html) and [here](http://openbookproject.net/thinkcs/python/english3e/dictionaries.html)"
   ]
  },
  {
   "cell_type": "code",
   "execution_count": null,
   "metadata": {
    "slideshow": {
     "slide_type": "subslide"
    }
   },
   "outputs": [],
   "source": [
    "# Here is an empty dictionary\n",
    "x = {}"
   ]
  },
  {
   "cell_type": "code",
   "execution_count": null,
   "metadata": {},
   "outputs": [],
   "source": [
    "# how to create an empty set then?\n",
    "    # <- answer here"
   ]
  },
  {
   "cell_type": "code",
   "execution_count": null,
   "metadata": {
    "slideshow": {
     "slide_type": "subslide"
    }
   },
   "outputs": [],
   "source": [
    "# Here is a non-empty dictionary\n",
    "x = {\n",
    "    1: \"value 1 int\",\n",
    "    \"1\": \"value 1 str\",\n",
    "    \"21112341234\": [\"student\", \"data\", \"here\", \"Can you retrieve me?\"],\n",
    "}"
   ]
  },
  {
   "cell_type": "code",
   "execution_count": null,
   "metadata": {},
   "outputs": [],
   "source": [
    "# try to fetch an item from the dictionary\n",
    "\n",
    "# try to fetch the last item in the student data list (\"Can you retrieve me?\")"
   ]
  },
  {
   "cell_type": "markdown",
   "metadata": {
    "slideshow": {
     "slide_type": "subslide"
    }
   },
   "source": [
    "# Important notes about dictionaries\n",
    "- Keys must be immutable (values do not change)\n",
    " - Can we have a list as a key? what about a tuple? how is a tuple useful as a key?\n",
    "- Values can be mutable\n",
    "- We will not know the order of values, we fetch them based on labels\n",
    "- The fetching operation is known as **indexing**, and you can nest them."
   ]
  },
  {
   "cell_type": "markdown",
   "metadata": {
    "slideshow": {
     "slide_type": "slide"
    }
   },
   "source": [
    "# Part 2: Processes"
   ]
  },
  {
   "cell_type": "markdown",
   "metadata": {
    "slideshow": {
     "slide_type": "subslide"
    }
   },
   "source": [
    "Everything else you write in a program is to tell the computer how to manipulate data.\n",
    "These are reffered to as processes, functions, operations, methods ...etc.\n",
    "The processes can be categorized into:\n",
    "- Operators: type **help(\"OPERATORS\")** and read [here](http://openbookproject.net/thinkcs/python/english3e/variables_expressions_statements.html) \n",
    "- Control structures (which parts can we execute, and how many times? see [here](https://docs.python.org/3/tutorial/controlflow.html))\n",
    " - Conditionals: read [here](http://greenteapress.com/thinkpython2/html/thinkpython2006.html) and [here](http://openbookproject.net/thinkcs/python/english3e/conditionals.html)\n",
    " - Loops: read [here](http://greenteapress.com/thinkpython2/html/thinkpython2004.html) and [here](http://openbookproject.net/thinkcs/python/english3e/functions.html)\n",
    "- Functions"
   ]
  },
  {
   "cell_type": "markdown",
   "metadata": {
    "slideshow": {
     "slide_type": "slide"
    }
   },
   "source": [
    "# Operators\n",
    "These are all the symboles used manipulate and mix data and variables.\n",
    "Main operator types are:\n",
    "- Arithmatic: + - `* **` / // % == =\n",
    "- Logical: and or not is"
   ]
  },
  {
   "cell_type": "markdown",
   "metadata": {
    "slideshow": {
     "slide_type": "subslide"
    }
   },
   "source": [
    "# Operator precedence\n",
    "- Prcedence is order of execution, it is usually left to write\n",
    "- Some operators are performed before others, even if on far right\n",
    " - For example, the assignment operator = is always performed last, why?\n",
    "- Control precedence with parantheses ( )"
   ]
  },
  {
   "cell_type": "code",
   "execution_count": null,
   "metadata": {},
   "outputs": [],
   "source": [
    "5 + 6 * 2"
   ]
  },
  {
   "cell_type": "code",
   "execution_count": null,
   "metadata": {},
   "outputs": [],
   "source": [
    "(5 + 6) * 2"
   ]
  },
  {
   "cell_type": "markdown",
   "metadata": {
    "slideshow": {
     "slide_type": "subslide"
    }
   },
   "source": [
    "# More on precedence\n",
    "- See python online documentation on [precedence](https://docs.python.org/3/reference/expressions.html#operator-precedence)\n",
    "- type: help(\"OPERATORS\") in jupyter or python prompt"
   ]
  },
  {
   "cell_type": "markdown",
   "metadata": {
    "slideshow": {
     "slide_type": "slide"
    }
   },
   "source": [
    "# Conditionals\n",
    "More reading:\n",
    "- https://docs.python.org/3/tutorial/controlflow.html\n",
    "- http://greenteapress.com/thinkpython2/html/thinkpython2006.html\n",
    "- http://openbookproject.net/thinkcs/python/english3e/conditionals.html\n"
   ]
  },
  {
   "cell_type": "markdown",
   "metadata": {
    "slideshow": {
     "slide_type": "subslide"
    }
   },
   "source": [
    "# Conditionals\n",
    "\n",
    "Are a way to execute instructions, only if a certain condition is met.\n",
    "\n",
    "Consists of:\n",
    "- Condition\n",
    "- Code block"
   ]
  },
  {
   "cell_type": "code",
   "execution_count": 2,
   "metadata": {
    "slideshow": {
     "slide_type": "subslide"
    }
   },
   "outputs": [
    {
     "name": "stdout",
     "output_type": "stream",
     "text": [
      "condition 1 is true\n",
      "This is part of the code block\n"
     ]
    }
   ],
   "source": [
    "x = 5\n",
    "\n",
    "if x > 1: # this is the condition\n",
    "    print(\"condition 1 is true\") # this is the code block\n",
    "    print(\"This is part of the code block\") \n",
    "\n",
    "if x < 5:\n",
    "    print(\"condition 2 is true\")"
   ]
  },
  {
   "cell_type": "markdown",
   "metadata": {
    "slideshow": {
     "slide_type": "subslide"
    }
   },
   "source": [
    "# The Syntax\n",
    "\n",
    "## required\n",
    "```python\n",
    "if condition:\n",
    "    # code block here\n",
    "elif condition:  # optional\n",
    "    # code block for elif here\n",
    "else: # optional\n",
    "    # code block for else here\n",
    "    ```\n"
   ]
  },
  {
   "cell_type": "markdown",
   "metadata": {
    "slideshow": {
     "slide_type": "subslide"
    }
   },
   "source": [
    "# Nesting"
   ]
  },
  {
   "cell_type": "code",
   "execution_count": 5,
   "metadata": {},
   "outputs": [
    {
     "name": "stdout",
     "output_type": "stream",
     "text": [
      "y is greater than 5\n",
      "x is greater than 2\n"
     ]
    }
   ],
   "source": [
    "x = 5 # change these values to see what happens\n",
    "y = 10\n",
    "if x > 2:\n",
    "    if y > 5:\n",
    "        print(\"y is greater than 5\")\n",
    "    else:\n",
    "        print(\"y is not greater than 5\")\n",
    "    print(\"x is greater than 2\")\n",
    "else:\n",
    "    print(\"x is NOT greater than 2\")"
   ]
  },
  {
   "cell_type": "markdown",
   "metadata": {
    "slideshow": {
     "slide_type": "subslide"
    }
   },
   "source": [
    "# Conditions\n",
    "- Can be values, variables, expressions, and functions (more on that later)\n",
    "- Expressions can be logical or arethmatic\n",
    "- Every language has rules for what is considered True or False as a condition\n",
    " - e.g.: is 5 or \"hello\" considered true or false?\n"
   ]
  },
  {
   "cell_type": "markdown",
   "metadata": {
    "slideshow": {
     "slide_type": "subslide"
    }
   },
   "source": [
    "# Truths in Python\n",
    "The following values are considered False:\n",
    "- None\n",
    "- 0 (int, float, and complex)\n",
    "- \"\" (empty string, no space!)\n",
    "- [], (), {} (What are those?)\n",
    "\n",
    "## Everything else is considered True"
   ]
  },
  {
   "cell_type": "markdown",
   "metadata": {
    "slideshow": {
     "slide_type": "subslide"
    }
   },
   "source": [
    "# Try statement\n",
    "- Another type of conditional statements\n",
    "- Used to execute code when a condition is met, just like if\n",
    "- Instead of testing the condition, the program looks for the condition in a code block\n",
    "- Used to detect unexpected errors in code\n",
    " - e.g.: network connection disconnects while loading data\n",
    "- more can be learned [here](https://docs.python.org/3/tutorial/errors.html)"
   ]
  },
  {
   "cell_type": "markdown",
   "metadata": {
    "slideshow": {
     "slide_type": "slide"
    }
   },
   "source": [
    "# Loops\n",
    "For more information:\n",
    "- http://greenteapress.com/thinkpython2/html/thinkpython2008.html\n",
    "- http://openbookproject.net/thinkcs/python/english3e/iteration.html\n",
    "- http://bit.ly/pyc_e2\n",
    "- https://www.learnpython.org/en/Loops"
   ]
  },
  {
   "cell_type": "markdown",
   "metadata": {
    "slideshow": {
     "slide_type": "subslide"
    }
   },
   "source": [
    "# Loops\n",
    "- Like if statements, loops perform a code block if a certain condition is met.\n",
    "- However, the code block is repeated while the condition is true.\n",
    "- Code block execution stops only if the condition turns false.\n",
    "- Can you explain what an infinite loop is? is it useful or not?\n"
   ]
  },
  {
   "cell_type": "markdown",
   "metadata": {
    "slideshow": {
     "slide_type": "subslide"
    }
   },
   "source": [
    "# Loops in Python\n",
    "Two types only:\n",
    "- **while** loop\n",
    " - This one is identical to the if statment, has a condition and a code block\n",
    "- **for** loop\n",
    " - This one is available for conveniently working with elements of a data structure (e.g., list, tuples, dictionaries ..etc).\n",
    " - We will mostly use this one\n",
    " - Referred to as iteration"
   ]
  },
  {
   "cell_type": "markdown",
   "metadata": {
    "slideshow": {
     "slide_type": "subslide"
    }
   },
   "source": [
    "# For loop syntax"
   ]
  },
  {
   "cell_type": "code",
   "execution_count": 6,
   "metadata": {},
   "outputs": [
    {
     "name": "stdout",
     "output_type": "stream",
     "text": [
      "1\n",
      "3\n",
      "4\n",
      "5\n"
     ]
    }
   ],
   "source": [
    "my_list = [1,3,4,5]\n",
    "for x in my_list:\n",
    "    print(x)"
   ]
  },
  {
   "cell_type": "code",
   "execution_count": 7,
   "metadata": {
    "slideshow": {
     "slide_type": "subslide"
    }
   },
   "outputs": [
    {
     "name": "stdout",
     "output_type": "stream",
     "text": [
      "4\n"
     ]
    }
   ],
   "source": [
    "# can you explain what this program does?\n",
    "my_list = [1,3,4,5]\n",
    "for x in my_list:\n",
    "    if x%2 == 0:\n",
    "        print(x)\n",
    "# suggest a modification and do it"
   ]
  },
  {
   "cell_type": "markdown",
   "metadata": {
    "slideshow": {
     "slide_type": "subslide"
    }
   },
   "source": [
    "# Iterating of dictionary elements "
   ]
  },
  {
   "cell_type": "code",
   "execution_count": 8,
   "metadata": {},
   "outputs": [
    {
     "name": "stdout",
     "output_type": "stream",
     "text": [
      "123\n",
      "222\n",
      "423\n"
     ]
    }
   ],
   "source": [
    "my_dict = {\"123\":\"Mohammad's record\", \"222\":\"Ali's record\", \"423\":\"Sara's record\"}\n",
    "\n",
    "for x in my_dict: # not good practice,\n",
    "    print(x) # what will this print?"
   ]
  },
  {
   "cell_type": "code",
   "execution_count": 9,
   "metadata": {
    "slideshow": {
     "slide_type": "subslide"
    }
   },
   "outputs": [
    {
     "name": "stdout",
     "output_type": "stream",
     "text": [
      "123\n",
      "222\n",
      "423\n"
     ]
    }
   ],
   "source": [
    "# better way of doing it\n",
    "my_dict = {\"123\":\"Mohammad's record\", \"222\":\"Ali's record\", \"423\":\"Sara's record\"}\n",
    "\n",
    "for x in my_dict.keys(): # clearly you want to iterate the keys\n",
    "    print(x) "
   ]
  },
  {
   "cell_type": "code",
   "execution_count": 10,
   "metadata": {
    "slideshow": {
     "slide_type": "subslide"
    }
   },
   "outputs": [
    {
     "name": "stdout",
     "output_type": "stream",
     "text": [
      "Mohammad's record\n",
      "Ali's record\n",
      "Sara's record\n"
     ]
    }
   ],
   "source": [
    "for x in my_dict.values(): # clearly you want to iterate the values\n",
    "    print(x) "
   ]
  },
  {
   "cell_type": "code",
   "execution_count": 11,
   "metadata": {
    "slideshow": {
     "slide_type": "subslide"
    }
   },
   "outputs": [
    {
     "name": "stdout",
     "output_type": "stream",
     "text": [
      "('123', \"Mohammad's record\")\n",
      "('222', \"Ali's record\")\n",
      "('423', \"Sara's record\")\n"
     ]
    }
   ],
   "source": [
    "for x in my_dict.items(): # clearly you want to iterate pairs\n",
    "    print(x) "
   ]
  },
  {
   "cell_type": "code",
   "execution_count": 12,
   "metadata": {
    "slideshow": {
     "slide_type": "subslide"
    }
   },
   "outputs": [
    {
     "name": "stdout",
     "output_type": "stream",
     "text": [
      "key is 123 and value is Mohammad's record\n",
      "key is 222 and value is Ali's record\n",
      "key is 423 and value is Sara's record\n"
     ]
    }
   ],
   "source": [
    "# you can unpack pairs\n",
    "for k,v in my_dict.items(): # clearly you want to iterate pairs\n",
    "    print(\"key is {} and value is {}\".format(k,v)) "
   ]
  },
  {
   "cell_type": "markdown",
   "metadata": {
    "slideshow": {
     "slide_type": "subslide"
    }
   },
   "source": [
    "# Remember\n",
    "- You generally use if statements and arethmatic operators when working with single items\n",
    "- You generally use for loops to work with all items in a list\n",
    " - inside the body of a loop, you generally work with a single item and tell the computer what to do with that item\n",
    "- Use type() to know what each variable holds when your programs don't run as expected."
   ]
  },
  {
   "cell_type": "markdown",
   "metadata": {
    "slideshow": {
     "slide_type": "slide"
    }
   },
   "source": [
    "# Functions"
   ]
  },
  {
   "cell_type": "markdown",
   "metadata": {
    "slideshow": {
     "slide_type": "subslide"
    }
   },
   "source": [
    "# Useful Python Features\n",
    "- Sequence slicing and indexing\n",
    " - Sequences are lists, tuples, and **strings!**\n",
    "- String manipulation\n",
    "- List and dictionary comprehensions\n",
    "- Built-in and 3rd party libraries"
   ]
  },
  {
   "cell_type": "markdown",
   "metadata": {
    "slideshow": {
     "slide_type": "subslide"
    }
   },
   "source": [
    "# Slicing and Indexing\n",
    "See also [here](http://bit.ly/pyc_e3)"
   ]
  },
  {
   "cell_type": "code",
   "execution_count": 13,
   "metadata": {},
   "outputs": [
    {
     "data": {
      "text/plain": [
       "5"
      ]
     },
     "execution_count": 13,
     "metadata": {},
     "output_type": "execute_result"
    }
   ],
   "source": [
    "x = [5,4,2,1,-1,10,11]\n",
    "# index first element\n",
    "x[0]"
   ]
  },
  {
   "cell_type": "code",
   "execution_count": null,
   "metadata": {},
   "outputs": [],
   "source": [
    "# index last element\n",
    "x[-1]"
   ]
  },
  {
   "cell_type": "code",
   "execution_count": null,
   "metadata": {
    "slideshow": {
     "slide_type": "subslide"
    }
   },
   "outputs": [],
   "source": [
    "# What about indexing item before last?\n"
   ]
  },
  {
   "cell_type": "code",
   "execution_count": null,
   "metadata": {
    "slideshow": {
     "slide_type": "-"
    }
   },
   "outputs": [],
   "source": [
    "# index the 3rd element\n"
   ]
  },
  {
   "cell_type": "code",
   "execution_count": 16,
   "metadata": {
    "slideshow": {
     "slide_type": "subslide"
    }
   },
   "outputs": [
    {
     "data": {
      "text/plain": [
       "[5, 4, 2]"
      ]
     },
     "execution_count": 16,
     "metadata": {},
     "output_type": "execute_result"
    }
   ],
   "source": [
    "# get a slice starting from first element to the 3rd (inclusive)\n",
    "x[0:3]"
   ]
  },
  {
   "cell_type": "code",
   "execution_count": 17,
   "metadata": {},
   "outputs": [
    {
     "data": {
      "text/plain": [
       "[2, 1, -1, 10]"
      ]
     },
     "execution_count": 17,
     "metadata": {},
     "output_type": "execute_result"
    }
   ],
   "source": [
    "# get slice from last element to the 2nd (inclusive)\n",
    "x[2:-1]"
   ]
  },
  {
   "cell_type": "code",
   "execution_count": 15,
   "metadata": {
    "slideshow": {
     "slide_type": "subslide"
    }
   },
   "outputs": [
    {
     "data": {
      "text/plain": [
       "[1, -1, 10, 11]"
      ]
     },
     "execution_count": 15,
     "metadata": {},
     "output_type": "execute_result"
    }
   ],
   "source": [
    "# get slice from 3rd element to the end of the list\n",
    "x[3:]"
   ]
  },
  {
   "cell_type": "code",
   "execution_count": 14,
   "metadata": {},
   "outputs": [
    {
     "data": {
      "text/plain": [
       "[5, 4, 2, 1, -1]"
      ]
     },
     "execution_count": 14,
     "metadata": {},
     "output_type": "execute_result"
    }
   ],
   "source": [
    "# get slice from 2nd to last element, to first\n",
    "x[:-2]"
   ]
  },
  {
   "cell_type": "code",
   "execution_count": null,
   "metadata": {
    "slideshow": {
     "slide_type": "subslide"
    }
   },
   "outputs": [],
   "source": [
    "# how to get a copy of a list using slicing?\n",
    "\n",
    "# can you think why slicing copies are important?\n",
    "# replace x with the following string: \"hello world\"\n",
    "# and perform the previous command to see what happens."
   ]
  },
  {
   "cell_type": "markdown",
   "metadata": {
    "slideshow": {
     "slide_type": "subslide"
    }
   },
   "source": [
    "# String manipulation\n",
    "There are neumerous features to go over in our short review, we will learn as needed.\n",
    "Please refer to the following resources for more information:\n",
    "- http://greenteapress.com/thinkpython2/html/thinkpython2009.html\n",
    "- https://www.digitalocean.com/community/tutorials/an-introduction-to-string-functions-in-python-3\n",
    "- http://bit.ly/pyc_e4"
   ]
  },
  {
   "cell_type": "markdown",
   "metadata": {
    "slideshow": {
     "slide_type": "subslide"
    }
   },
   "source": [
    "# List and dictionary comprehension\n",
    "If you want to create a list or a dictionary, by looping over the elements of another list or dictionary, then you use list/dictionary comprehension.\n",
    "\n",
    "For examples, you have a list of numbers, and you want to create a new list containing only the even numbers."
   ]
  },
  {
   "cell_type": "code",
   "execution_count": 18,
   "metadata": {
    "slideshow": {
     "slide_type": "subslide"
    }
   },
   "outputs": [
    {
     "data": {
      "text/plain": [
       "[4, 2, 10]"
      ]
     },
     "execution_count": 18,
     "metadata": {},
     "output_type": "execute_result"
    }
   ],
   "source": [
    "nums = [5,4,2,1,-1,10,11]\n",
    "# to create new list of even numbers only\n",
    "\n",
    "even_nums = [x for x in nums if x % 2 == 0]\n",
    "even_nums"
   ]
  },
  {
   "cell_type": "code",
   "execution_count": 19,
   "metadata": {
    "slideshow": {
     "slide_type": "subslide"
    }
   },
   "outputs": [
    {
     "data": {
      "text/plain": [
       "['4', '2', '10']"
      ]
     },
     "execution_count": 19,
     "metadata": {},
     "output_type": "execute_result"
    }
   ],
   "source": [
    "# you can even perform some operations on the even numbers before storing them\n",
    "# for example, you want to convert them into strings\n",
    "str_even_nums = [str(x) for x in nums if x % 2 == 0]\n",
    "str_even_nums\n",
    "# you can perform expressions or run functions other than str"
   ]
  },
  {
   "cell_type": "markdown",
   "metadata": {
    "slideshow": {
     "slide_type": "subslide"
    }
   },
   "source": [
    "# More resources on list/dictionary comprehensions\n",
    "- http://python-3-patterns-idioms-test.readthedocs.io/en/latest/Comprehensions.html\n",
    "- https://www.digitalocean.com/community/tutorials/understanding-list-comprehensions-in-python-3\n",
    "- http://www.learnpython.org/en/List_Comprehensions  "
   ]
  },
  {
   "cell_type": "markdown",
   "metadata": {
    "slideshow": {
     "slide_type": "subslide"
    }
   },
   "source": [
    "# Python Libraries\n",
    "- Reuse what others have already written and shared\n",
    "- Libraries in python can be:\n",
    " - Built-in (come with python), which is extensive!\n",
    "   + Discover the possibilities [here](https://docs.python.org/3/library/index.html)\n",
    " - 3rd party (Open Source), also extensive\n",
    "   + You can discover them [here](https://pypi.org)\n",
    "   + Blog posts and articles might list some very useful [ones](https://wiki.python.org/moin/UsefulModules)\n",
    "   + We will use some along the way"
   ]
  },
  {
   "cell_type": "markdown",
   "metadata": {
    "slideshow": {
     "slide_type": "slide"
    }
   },
   "source": [
    "# Is that it?\n",
    "## Am I a python expert?\n",
    "- Of course not, what we shared is **required** knowledge.\n",
    "- You will build your experience, step by step, as we progress.\n",
    "- We will explain new things as they appear, **do not be afraid to ask**.\n",
    "- Solve a single problem then move to the next. Think about the next step, not the final step.\n",
    "- It is important to **know the terms** so you can type your questions in google.\n",
    "- READ AND KEEP CODING!\n"
   ]
  },
  {
   "cell_type": "markdown",
   "metadata": {
    "slideshow": {
     "slide_type": "slide"
    }
   },
   "source": [
    "# Recommended resources to read\n",
    "- [The hitchhiker's guide to python](http://docs.python-guide.org/en/latest/), excellent resource to know how to perform certain tasks in python\n",
    "- [Awsome python list](https://github.com/vinta/awesome-python), list of resources on how to perform certain tasks in python.\n",
    "- [Python for Data Science List](https://github.com/ujjwalkarn/DataSciencePython), list of resources in python focusing on topics in data science.\n",
    "- [List of interesting jupyter notebooks](https://github.com/jupyter/jupyter/wiki/A-gallery-of-interesting-Jupyter-Notebooks), see how others have solved data analysis problems and shared their code.\n",
    "- [Social network analysis list](https://github.com/briatte/awesome-network-analysis), list of useful resources on social network analysis."
   ]
  }
 ],
 "metadata": {
  "celltoolbar": "Slideshow",
  "kernelspec": {
   "display_name": "Python 3",
   "language": "python",
   "name": "python3"
  },
  "language_info": {
   "codemirror_mode": {
    "name": "ipython",
    "version": 3
   },
   "file_extension": ".py",
   "mimetype": "text/x-python",
   "name": "python",
   "nbconvert_exporter": "python",
   "pygments_lexer": "ipython3",
   "version": "3.5.2"
  }
 },
 "nbformat": 4,
 "nbformat_minor": 1
}

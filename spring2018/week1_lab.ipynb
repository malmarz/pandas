{
 "cells": [
  {
   "cell_type": "markdown",
   "metadata": {},
   "source": [
    "## Student Name:\n",
    "## Student ID:\n",
    "### Double click this cell then type your name and ID "
   ]
  },
  {
   "cell_type": "markdown",
   "metadata": {},
   "source": [
    "# Sequence Types\n",
    "\n",
    "Sequence types are collections that contain multiple items in the same variable.\n",
    "\n",
    "The items are are maintained in order, which is why we call them sequence types.\n",
    "\n",
    "The main 3 types in python are:\n",
    "\n",
    "- Lists: These can hold any number of items in order\n",
    "- Tuples: These hold any number of items in order but cannot be changed\n",
    "- Strings: These hold characters in order to form text\n"
   ]
  },
  {
   "cell_type": "markdown",
   "metadata": {},
   "source": [
    "## perform the tasks listed in the comments in each cell "
   ]
  },
  {
   "cell_type": "code",
   "execution_count": null,
   "metadata": {
    "collapsed": true
   },
   "outputs": [],
   "source": [
    "# create an empty list called x, then print it\n"
   ]
  },
  {
   "cell_type": "code",
   "execution_count": null,
   "metadata": {
    "collapsed": true
   },
   "outputs": [],
   "source": [
    "# add the following items to the list x:\n",
    "# 5, 10.5, \"hello python\", \"x\"\n",
    "# then print the list (hint: use .append(item))\n"
   ]
  },
  {
   "cell_type": "code",
   "execution_count": null,
   "metadata": {
    "collapsed": true
   },
   "outputs": [],
   "source": [
    "y = 10\n",
    "# add the value of y to the list x\n",
    "\n",
    "# explain what is happening with a comment here:"
   ]
  },
  {
   "cell_type": "code",
   "execution_count": null,
   "metadata": {},
   "outputs": [],
   "source": [
    "# explain what happens here\n",
    "x = 11\n",
    "print(x)\n",
    "# Why isnt the value 11 added to the list x?\n",
    "# Where did the list go?\n",
    "# can we get the list back? (answer here is no!)"
   ]
  },
  {
   "cell_type": "code",
   "execution_count": null,
   "metadata": {
    "collapsed": true
   },
   "outputs": [],
   "source": [
    "# Let us re-create a non-empty list\n",
    "x = [5, 10.5, \"hello python\", \"x\"]\n",
    "\n",
    "# create another non-empty list with \n",
    "# at least 4 items that are all NUMERIC called y\n"
   ]
  },
  {
   "cell_type": "code",
   "execution_count": null,
   "metadata": {
    "collapsed": true
   },
   "outputs": [],
   "source": [
    "# try to find out how many items are in each list (x and y)\n",
    "# Hint: use len()\n"
   ]
  },
  {
   "cell_type": "code",
   "execution_count": null,
   "metadata": {},
   "outputs": [],
   "source": [
    "# Find min, max, and sum for x and y\n",
    "\n",
    "\n",
    "# why does it work for y but not for x?\n",
    "# explain!"
   ]
  },
  {
   "cell_type": "code",
   "execution_count": null,
   "metadata": {
    "collapsed": true
   },
   "outputs": [],
   "source": [
    "# Challenge: Calculate the average offor list y\n",
    "# hint: the average is: sum of items / number of item  \n"
   ]
  },
  {
   "cell_type": "markdown",
   "metadata": {},
   "source": [
    "## Fetching single item from list\n",
    "This is called indexing"
   ]
  },
  {
   "cell_type": "code",
   "execution_count": null,
   "metadata": {
    "collapsed": true
   },
   "outputs": [],
   "source": [
    "# try to fetch the first value from x\n"
   ]
  },
  {
   "cell_type": "code",
   "execution_count": null,
   "metadata": {
    "collapsed": true
   },
   "outputs": [],
   "source": [
    "# now the second\n"
   ]
  },
  {
   "cell_type": "code",
   "execution_count": null,
   "metadata": {
    "collapsed": true
   },
   "outputs": [],
   "source": [
    "# now the last\n"
   ]
  },
  {
   "cell_type": "code",
   "execution_count": null,
   "metadata": {
    "collapsed": true
   },
   "outputs": [],
   "source": [
    "# now the 3rd item from last\n"
   ]
  },
  {
   "cell_type": "markdown",
   "metadata": {},
   "source": [
    "## Fetching multiple items from list\n",
    "This is called slicing"
   ]
  },
  {
   "cell_type": "code",
   "execution_count": null,
   "metadata": {
    "collapsed": true
   },
   "outputs": [],
   "source": [
    "# Fetch the first 2 items\n"
   ]
  },
  {
   "cell_type": "code",
   "execution_count": null,
   "metadata": {
    "collapsed": true
   },
   "outputs": [],
   "source": [
    "# Fetch the first 3 items\n"
   ]
  },
  {
   "cell_type": "code",
   "execution_count": null,
   "metadata": {
    "collapsed": true
   },
   "outputs": [],
   "source": [
    "# Fetch the 2nd item to the 4th item\n"
   ]
  },
  {
   "cell_type": "code",
   "execution_count": null,
   "metadata": {
    "collapsed": true
   },
   "outputs": [],
   "source": [
    "# Fetch all items from start to the 3rd item\n"
   ]
  },
  {
   "cell_type": "code",
   "execution_count": null,
   "metadata": {
    "collapsed": true
   },
   "outputs": [],
   "source": [
    "# Fetch all items from the end to the 2nd item\n"
   ]
  },
  {
   "cell_type": "markdown",
   "metadata": {},
   "source": [
    "## Some fancy list operations"
   ]
  },
  {
   "cell_type": "code",
   "execution_count": null,
   "metadata": {
    "collapsed": true
   },
   "outputs": [],
   "source": [
    "#NOTE: regular sorting works if items in list are of same type\n",
    "# sorting lists, using .sort and sorted()\n",
    "# notice, .sort() will rearrange the current list\n",
    "# sorted() will create a new list that is sorted, the original list\n",
    "# is not changed\n",
    "\n",
    "x = [6, 2, 8, 1, -20, 55, 3]\n",
    "# sort list x using .sort\n",
    "\n",
    "# sort list y using sorted()"
   ]
  },
  {
   "cell_type": "markdown",
   "metadata": {},
   "source": [
    "## important rule in python\n",
    "All list commands that are performed on the list as a method\n",
    "such as x.sort() will change the original list\n",
    "\n",
    "All functions that take the list as a parameter such as sorted(y)\n",
    "will not change the original list, and will create a new modified list"
   ]
  },
  {
   "cell_type": "code",
   "execution_count": null,
   "metadata": {
    "collapsed": true
   },
   "outputs": [],
   "source": [
    "# Remove the first item in x\n"
   ]
  },
  {
   "cell_type": "code",
   "execution_count": null,
   "metadata": {
    "collapsed": true
   },
   "outputs": [],
   "source": [
    "# Remove the last item in x"
   ]
  },
  {
   "cell_type": "code",
   "execution_count": null,
   "metadata": {
    "collapsed": true
   },
   "outputs": [],
   "source": [
    "# reverse the list y\n"
   ]
  },
  {
   "cell_type": "code",
   "execution_count": null,
   "metadata": {
    "collapsed": true
   },
   "outputs": [],
   "source": [
    "# remove the item 5 if it exists in 5\n",
    "\n",
    "# check if 5 exists in y\n",
    "# hint: use 'in' operation"
   ]
  },
  {
   "cell_type": "code",
   "execution_count": null,
   "metadata": {
    "collapsed": true
   },
   "outputs": [],
   "source": [
    "# write an if statement to check if 5 exists in y\n",
    "# print \"5 exists\" if it does, \n",
    "# print \"5 doesnt exist\" otherwise.\n",
    "\n",
    "# try removing and adding the item 5 from the list\n",
    "# to change the output of the program"
   ]
  },
  {
   "cell_type": "markdown",
   "metadata": {},
   "source": [
    "## Tuples\n",
    "\n",
    "They are exactly like lists. But cannot be modified.\n",
    "So you cannot remove or add items from them"
   ]
  },
  {
   "cell_type": "code",
   "execution_count": null,
   "metadata": {},
   "outputs": [],
   "source": [
    "# convert list x into a tuple\n",
    "t = tuple(x)"
   ]
  },
  {
   "cell_type": "code",
   "execution_count": null,
   "metadata": {
    "collapsed": true
   },
   "outputs": [],
   "source": [
    "# Create new empty tuple, then print it\n",
    "t2 = ()"
   ]
  },
  {
   "cell_type": "code",
   "execution_count": null,
   "metadata": {
    "collapsed": true
   },
   "outputs": [],
   "source": [
    "# Create non-empty tuple t3 and print it"
   ]
  },
  {
   "cell_type": "code",
   "execution_count": null,
   "metadata": {
    "collapsed": true
   },
   "outputs": [],
   "source": [
    "# try to append or remove items from tuple"
   ]
  },
  {
   "cell_type": "code",
   "execution_count": null,
   "metadata": {
    "collapsed": true
   },
   "outputs": [],
   "source": [
    "# try indexing and slicing tuples\n",
    "# explain why slicing works?"
   ]
  },
  {
   "cell_type": "markdown",
   "metadata": {},
   "source": [
    "## Strings\n",
    "\n",
    "They are exactly like tuples, but contain characters only.\n",
    "Everything you know about tuples, also works on strings"
   ]
  },
  {
   "cell_type": "code",
   "execution_count": null,
   "metadata": {
    "collapsed": true
   },
   "outputs": [],
   "source": [
    "s1 = \"this is a test string\"\n",
    "\n",
    "# index the first item"
   ]
  },
  {
   "cell_type": "code",
   "execution_count": null,
   "metadata": {
    "collapsed": true
   },
   "outputs": [],
   "source": [
    "# index the last item"
   ]
  },
  {
   "cell_type": "code",
   "execution_count": null,
   "metadata": {
    "collapsed": true
   },
   "outputs": [],
   "source": [
    "# slice from item 4 to the end"
   ]
  },
  {
   "cell_type": "code",
   "execution_count": null,
   "metadata": {
    "collapsed": true
   },
   "outputs": [],
   "source": [
    "# slice the last 5 items"
   ]
  },
  {
   "cell_type": "code",
   "execution_count": 2,
   "metadata": {},
   "outputs": [
    {
     "data": {
      "text/plain": [
       "'hello ali and ahmed'"
      ]
     },
     "execution_count": 2,
     "metadata": {},
     "output_type": "execute_result"
    }
   ],
   "source": [
    "# Because strings do not change, we use placehorder {} and .format\n",
    "# to create new strings\n",
    "my_str = \"hello {} and {}\"\n",
    "my_str.format(\"ali\", \"ahmed\")"
   ]
  },
  {
   "cell_type": "markdown",
   "metadata": {},
   "source": [
    "### Exploring string methods\n",
    "Visit the [string methods documentation](https://docs.python.org/3.5/library/stdtypes.html#string-methods) and discover what you can do with strings. Use at least 5 different method"
   ]
  },
  {
   "cell_type": "code",
   "execution_count": null,
   "metadata": {
    "collapsed": true
   },
   "outputs": [],
   "source": [
    "my_str = \"experiment with this string!\"\n",
    "\n",
    "# method 1\n",
    "\n",
    "# method 2\n",
    "\n",
    "# method 3\n",
    "\n",
    "# method 4\n",
    "\n",
    "# method 5"
   ]
  },
  {
   "cell_type": "markdown",
   "metadata": {},
   "source": [
    "## For Loops\n",
    "For loops are used to iterate over items in a sequence type and perform a set of actions on each item.\n",
    "\n",
    "For example:\n",
    "\n"
   ]
  },
  {
   "cell_type": "code",
   "execution_count": null,
   "metadata": {},
   "outputs": [],
   "source": [
    "# this variable holds the condition\n",
    "my_list = [10, 30, 40, 50, 1, -1]\n",
    "my_tuple = (10, 30, 40, 50, 1, -1)\n",
    "my_str = \"hello world\"\n",
    "\n",
    "# to print the items of my_list:\n",
    "for x in my_list:\n",
    "    print(x)\n",
    "\n",
    "# print the items for my_tuple:\n",
    "\n",
    "# print the items for my_str:\n",
    "\n",
    "\n",
    "#Notice how the loop works exactly the same\n",
    "# for sequence types\n",
    "# you can even put conditions inside the loop\n",
    "# try changing the loop to print only\n",
    "# values above 0 for my_list and my_tuple\n",
    "\n",
    "\n"
   ]
  },
  {
   "cell_type": "code",
   "execution_count": null,
   "metadata": {},
   "outputs": [],
   "source": [
    "# challenge: write a program to sum\n",
    "# the values in my_list and _my_tuple\n",
    "# using for loop, do not use sum\n",
    "\n"
   ]
  },
  {
   "cell_type": "markdown",
   "metadata": {},
   "source": [
    "## Advanced Tricks With Strings"
   ]
  },
  {
   "cell_type": "code",
   "execution_count": null,
   "metadata": {},
   "outputs": [],
   "source": [
    "# splitting strings\n",
    "x = \"The acorn, or oak nut, is the nut of the oaks and their close relatives (genera Quercus and Lithocarpus, in the family Fagaceae). It usually contains a single seed (occasionally two seeds), enclosed in a tough, leathery shell, and borne in a cup-shaped cupule. Acorns vary from 1–6 cm long and 0.8–4 cm broad. Acorns take between 6 and 24 months (depending on the species) to mature; see List of Quercus species for details of oak classification, in which acorn morphology and phenology are important factors.\"\n",
    "\n",
    "words = x.split()\n",
    "\n",
    "# find out what is in words\n",
    "\n"
   ]
  },
  {
   "cell_type": "code",
   "execution_count": null,
   "metadata": {},
   "outputs": [],
   "source": [
    "# no try this\n",
    "sentences = x.split(\",\")\n",
    "\n",
    "# find out what is in sentences\n",
    "\n",
    "\n",
    "# Can you explain what split does?"
   ]
  },
  {
   "cell_type": "code",
   "execution_count": null,
   "metadata": {},
   "outputs": [],
   "source": [
    "# now try: \n",
    "# \" \".join(words)\n",
    "\n"
   ]
  },
  {
   "cell_type": "code",
   "execution_count": null,
   "metadata": {},
   "outputs": [],
   "source": [
    "# and try\n",
    "# \",\".join(words)\n",
    "\n",
    "# you explain what they did?"
   ]
  },
  {
   "cell_type": "markdown",
   "metadata": {},
   "source": [
    "# Dictionary Type\n",
    "\n",
    "\n",
    "Dictionary types are collections where a key-value pair is stored.\n",
    "\n",
    "There is no guarantee that the items will be placed in order they were stored in.\n",
    "\n"
   ]
  },
  {
   "cell_type": "code",
   "execution_count": 1,
   "metadata": {},
   "outputs": [],
   "source": [
    "# create an empty dictionary called x, then print it\n",
    "\n"
   ]
  },
  {
   "cell_type": "code",
   "execution_count": 2,
   "metadata": {},
   "outputs": [],
   "source": [
    "# try adding the following items to the dictionary\n",
    "# 5, 10.5, \"hello python\", \"x\"\n",
    "# try .append and .add\n",
    "\n",
    "\n",
    "\n",
    "# notice how it will not work! why?\n",
    "\n"
   ]
  },
  {
   "cell_type": "code",
   "execution_count": null,
   "metadata": {},
   "outputs": [],
   "source": [
    "# to add and item to a dictionary\n",
    "# you must also give key\n",
    "# the key is the index value\n",
    "# you will use to get back the item\n",
    "\n",
    "# so to add the value 5, we must give it a key\n",
    "# think of the key as a variable name\n",
    "# maybe this 5 is an id, so we use 'id' as the key\n",
    "x['id'] = 5\n",
    "\n",
    "# now print x\n",
    "\n",
    "\n",
    "# the result should be:\n",
    "# {'id': 5}\n",
    "# this means the value 5, is associated with the key 'id'\n",
    "# try adding the other values, and make up keys for them\n",
    "# you can use strings, integers, float as keys\n",
    "# you cannot use a list as a key, but you can put a list as a value\n",
    "\n",
    "\n",
    "# can you see how the order is not maintained"
   ]
  },
  {
   "cell_type": "code",
   "execution_count": null,
   "metadata": {},
   "outputs": [],
   "source": [
    "# We can fetch the value 5 exactly like indexing in lists\n",
    "# however, we do not use the position\n",
    "# we use the key, for example:\n",
    "print(x['id'])\n",
    "\n",
    "# You can work with x['id'] as if it a variable\n",
    "# you can replace it\n",
    "x['id'] = 10\n",
    "\n",
    "# you can use it in expressions\n",
    "print(x['id'] + 5)\n",
    "\n"
   ]
  },
  {
   "cell_type": "code",
   "execution_count": null,
   "metadata": {},
   "outputs": [],
   "source": [
    "# creating a non-empty dictionary\n",
    "# for example, this is a record of a student:\n",
    "student1 = {\n",
    "    \"id\": 12342,\n",
    "    \"name\": \"Ali Ahmed\",\n",
    "    \"major\": \"MIS\",\n",
    "    \"passed_credits\": 16\n",
    "}\n",
    "\n",
    "student2 = {\n",
    "    \"id\": 12344,\n",
    "    \"name\": \"Sara Abdulla\",\n",
    "    \"major\": \"ACCT\",\n",
    "    \"passed_credits\": 35\n",
    "}\n",
    "\n",
    "# print the name of student1\n",
    "\n",
    "# print the total credits passed by student1 and student2 (hint: add them)\n",
    "\n",
    "# print the id, name, and major of student2"
   ]
  },
  {
   "cell_type": "code",
   "execution_count": null,
   "metadata": {},
   "outputs": [],
   "source": [
    "# CHALLENGE: can you store the records in way, such that you can\n",
    "# loop over the records?\n",
    "# create the new datastructure, and loop over it to print the names\n",
    "# ,ids, and majors of the students\n",
    "\n"
   ]
  },
  {
   "cell_type": "code",
   "execution_count": 3,
   "metadata": {},
   "outputs": [],
   "source": [
    "# Iterate over student1 and print all the keys\n",
    "\n",
    "# Iterate over student1 and print all the values\n",
    "\n",
    "# Iterate over student1 and print all the items (key-value pairs)"
   ]
  },
  {
   "cell_type": "code",
   "execution_count": null,
   "metadata": {},
   "outputs": [],
   "source": []
  }
 ],
 "metadata": {
  "kernelspec": {
   "display_name": "Python 3",
   "language": "python",
   "name": "python3"
  },
  "language_info": {
   "codemirror_mode": {
    "name": "ipython",
    "version": 3
   },
   "file_extension": ".py",
   "mimetype": "text/x-python",
   "name": "python",
   "nbconvert_exporter": "python",
   "pygments_lexer": "ipython3",
   "version": "3.5.2"
  }
 },
 "nbformat": 4,
 "nbformat_minor": 1
}

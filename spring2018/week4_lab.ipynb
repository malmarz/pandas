{
 "cells": [
  {
   "cell_type": "markdown",
   "metadata": {},
   "source": [
    "# Student Name:\n",
    "# Student ID:\n",
    "\n",
    "# Week 4 Lab\n",
    "\n",
    "Load  [cars.json](\"https://github.com/vega/vega-datasets/raw/gh-pages/data/cars.json\") into **cars_df** and perform the following operations:\n",
    "\n",
    "1. Add columns that include the mean acceleration, Miles per galon, and weight for the cars with the same origin. Name the columns mean_origin_acceleration, mean_origin_mpg, mean_origin_weight.\n",
    "2. Now add columns for min and max for the same groups and use the same naming scheme for the columns.\n",
    "3. Add the same columns as question 1, but grouped for cars that have the same number of cylinders. Use the same naming scheme as question 1 (e.g., mean_cylender_acceleration.\n",
    "4. Attempt to plot acceleration grouped by origin, then grouped by cylinder. What is the plot showing? what is the problem with the plot?\n"
   ]
  },
  {
   "cell_type": "code",
   "execution_count": null,
   "metadata": {},
   "outputs": [],
   "source": []
  }
 ],
 "metadata": {
  "kernelspec": {
   "display_name": "Python 3",
   "language": "python",
   "name": "python3"
  },
  "language_info": {
   "codemirror_mode": {
    "name": "ipython",
    "version": 3
   },
   "file_extension": ".py",
   "mimetype": "text/x-python",
   "name": "python",
   "nbconvert_exporter": "python",
   "pygments_lexer": "ipython3",
   "version": "3.5.2"
  }
 },
 "nbformat": 4,
 "nbformat_minor": 1
}

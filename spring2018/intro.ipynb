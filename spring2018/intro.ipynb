{
 "cells": [
  {
   "cell_type": "markdown",
   "metadata": {
    "slideshow": {
     "slide_type": "slide"
    }
   },
   "source": [
    "# Welcome to QM 492\n",
    "## Exploratory Data Analysis and Visualization\n",
    "\n",
    "- Instructor: Mohammad AlMarzouq\n",
    "- Website: [qmisr.github.io/mis492](http://qmisr.github.io/mis492)\n",
    "- Syllabus: [bit.ly/mis492_syl](http://bit.ly/mis492_syl)\n",
    "- Slack : [cbaqmis.slack.com](http://cbaqmis.slack.com)"
   ]
  },
  {
   "cell_type": "markdown",
   "metadata": {
    "slideshow": {
     "slide_type": "slide"
    }
   },
   "source": [
    "# Requirements\n",
    "- Anaconda Python V3.6 - [Download here for mac/pc](https://www.anaconda.com/download/)\n",
    "- Get your **cba.ku.edu.kw email**\n",
    "- Join **#492 in slack** and enable notifications for **all messages** ([see instructions](https://get.slack.help/hc/en-us/articles/201649323-Set-channel-notification-preferences))\n",
    "- Send **@dralmarzouq** a message with your ku.cba email to receive datacamp invite\n",
    "- Signup to datacamp using the sent invite\n",
    "- Signup for github.com and learn the basics of hosting your code projects on it"
   ]
  },
  {
   "cell_type": "markdown",
   "metadata": {},
   "source": [
    "# Expectations\n",
    "- Python review in class first week only\n",
    "    - Datacamp assignment\n",
    "    - Explain as we go\n",
    "    - Ask! (class/office hours)\n",
    "- Attending class will involve lab work\n",
    "    - Lab work to be submitted via slack for grading\n",
    "- Weekly assignments, either through datacamp or problems\n",
    "    - Received via email, or notified in class/slack\n",
    "- 2 major projects, first is individual, the second is group based"
   ]
  },
  {
   "cell_type": "markdown",
   "metadata": {
    "slideshow": {
     "slide_type": "slide"
    }
   },
   "source": [
    "# Course Plan:\n",
    "- 11 weeks of course work.\n",
    "- 4 weeks to work on your final project\n"
   ]
  },
  {
   "cell_type": "markdown",
   "metadata": {
    "slideshow": {
     "slide_type": "slide"
    }
   },
   "source": [
    "# Course Work Plan:\n",
    "- Week 1: Intro and Python primer.\n",
    "- Week 2: Overview of Exploratory Data Analysis\n",
    "- Week 3: Introduction to Pandas\n",
    "- Week 4: Data cleansing and transformation\n",
    "- Week 5: Advanced data transformation\n",
    "- Week 6: Data Visualization"
   ]
  },
  {
   "cell_type": "markdown",
   "metadata": {
    "slideshow": {
     "slide_type": "slide"
    }
   },
   "source": [
    "# Course Work Plan (cont.):\n",
    "- Week 7: Multiviriate Visualization\n",
    "- Week 8 & 9: Review and Midterm \n",
    "    - For groups and think about topic for final project\n",
    "- week 10: collecting data from the net\n",
    "- week 11: Introuction to Text Analysis*\n",
    "- week 12: Introduction to Network Analysis*\n",
    "- week 13 to 15: Final project (3 meetings minimum)\n",
    "\n",
    "\\* Time permitting\n"
   ]
  },
  {
   "cell_type": "markdown",
   "metadata": {
    "slideshow": {
     "slide_type": "slide"
    }
   },
   "source": [
    "# Grade Distribution\n",
    "- 40% Homeworks and labwork\n",
    "- 20% Midterm project\n",
    "- 40% Final project"
   ]
  },
  {
   "cell_type": "markdown",
   "metadata": {
    "slideshow": {
     "slide_type": "slide"
    }
   },
   "source": [
    "# Projects:\n",
    "- Midterm project:\n",
    " + Design to evaluate skills from week 1 to 7\n",
    " + Unified requirements\n",
    " + Most likely inclass midterm"
   ]
  },
  {
   "cell_type": "markdown",
   "metadata": {
    "slideshow": {
     "slide_type": "slide"
    }
   },
   "source": [
    "# Projects (cont.):\n",
    "- Final Project:\n",
    " + Apply learned and self-learned skills\n",
    " + Phased:\n",
    "   1. Proposal (class presentation)\n",
    "   2. 1st Submission (meeting)\n",
    "   3. 2nd Submission (meeting)\n",
    "   4. Final Submission (class presentation)"
   ]
  },
  {
   "cell_type": "markdown",
   "metadata": {
    "slideshow": {
     "slide_type": "slide"
    }
   },
   "source": [
    "# Recommended resources: \n",
    "- [Think Python](http://greenteapress.com/wp/think-python-2e/): Your reference for the python language (Free online book)\n",
    "- [Learning with Python 3 (RLE)](http://openbookproject.net/thinkcs/python/english3e/index.html): Another textbook for your reference (Free online book)\n",
    "- [Python for Data Analysis](http://shop.oreilly.com/product/0636920050896.do): Excellent book on Pandas and data analysis and visualization (Paid)\n",
    "- [Programming Collective Intelligence](http://shop.oreilly.com/product/9780596529321.do): Best introductory book to making use of data (Paid)\n",
    "- [Python Online Documentaion](https://docs.python.org/3/index.html): Must always return to this for reference, see tutorial and library reference (Free)."
   ]
  }
 ],
 "metadata": {
  "celltoolbar": "Slideshow",
  "kernelspec": {
   "display_name": "Python 3",
   "language": "python",
   "name": "python3"
  },
  "language_info": {
   "codemirror_mode": {
    "name": "ipython",
    "version": 3
   },
   "file_extension": ".py",
   "mimetype": "text/x-python",
   "name": "python",
   "nbconvert_exporter": "python",
   "pygments_lexer": "ipython3",
   "version": "3.5.2"
  }
 },
 "nbformat": 4,
 "nbformat_minor": 1
}

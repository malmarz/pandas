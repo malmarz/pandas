{
 "cells": [
  {
   "cell_type": "markdown",
   "metadata": {
    "slideshow": {
     "slide_type": "slide"
    }
   },
   "source": [
    "# MIS 492 - Data Analysis and Visualization\n",
    "## Week 6\n",
    "\n",
    "## Visualization With Seaborn\n",
    "\n",
    "### Dr. Mohammad AlMarzouq"
   ]
  },
  {
   "cell_type": "markdown",
   "metadata": {
    "slideshow": {
     "slide_type": "slide"
    }
   },
   "source": [
    "# Skills Learned So Far\n",
    "- Loading data\n",
    "- Univariate exploration of data to find problems\n",
    "    - Using simple matplotlibs\n",
    "- Filteration\n",
    "- Data manipulation\n",
    "\n",
    "### You can prepare the dataframe that you will perfor EDA on"
   ]
  },
  {
   "cell_type": "markdown",
   "metadata": {
    "slideshow": {
     "slide_type": "slide"
    }
   },
   "source": [
    "# What Is Seaborn?\n",
    "- Plotting library built on top of matplotlib\n",
    "- Adds more plotting options\n",
    "- Simplifies plotting for some complex plots\n",
    "- Improves the look of matplotlib plots\n",
    "- Works almost exactly like matplot lib"
   ]
  },
  {
   "cell_type": "markdown",
   "metadata": {
    "slideshow": {
     "slide_type": "slide"
    }
   },
   "source": [
    "# First Install Seaborn\n",
    "Open Terminal or CMD and type the following command:\n",
    "```bash\n",
    "pip install seaborn\n",
    "\n",
    "pip install statsmodels\n",
    "```"
   ]
  },
  {
   "cell_type": "markdown",
   "metadata": {
    "slideshow": {
     "slide_type": "slide"
    }
   },
   "source": [
    "# Using Seaborn\n",
    "\n",
    "Just like pandas you have to import it:"
   ]
  },
  {
   "cell_type": "code",
   "execution_count": 1,
   "metadata": {
    "slideshow": {
     "slide_type": "fragment"
    }
   },
   "outputs": [],
   "source": [
    "# don't forget this\n",
    "%matplotlib inline \n",
    "import seaborn as sns\n",
    "\n",
    "# Now tell jupyter to use seaborn colors\n",
    "sns.set(color_codes=True)"
   ]
  },
  {
   "cell_type": "markdown",
   "metadata": {
    "slideshow": {
     "slide_type": "slide"
    }
   },
   "source": [
    "# Load Data Using URL\n",
    "- The url is: https://raw.githubusercontent.com/vega/vega-datasets/gh-pages/data/weather.csv\n",
    "- Load into weather_df variable\n",
    "- You can pass the url as a string into pd.read_csv and pandas will download the data:"
   ]
  },
  {
   "cell_type": "code",
   "execution_count": 101,
   "metadata": {
    "slideshow": {
     "slide_type": "fragment"
    }
   },
   "outputs": [],
   "source": [
    "import pandas as pd\n",
    "weather_df = pd.read_csv(\"https://raw.githubusercontent.com/vega/vega-datasets/gh-pages/data/weather.csv\")"
   ]
  },
  {
   "cell_type": "code",
   "execution_count": 9,
   "metadata": {
    "slideshow": {
     "slide_type": "slide"
    }
   },
   "outputs": [],
   "source": [
    "# Your turn\n",
    "# load https://github.com/vega/vega-datasets/raw/gh-pages/data/cars.json\n",
    "# into cars_df\n"
   ]
  },
  {
   "cell_type": "code",
   "execution_count": 3,
   "metadata": {
    "slideshow": {
     "slide_type": "slide"
    }
   },
   "outputs": [
    {
     "data": {
      "text/plain": [
       "<matplotlib.axes._subplots.AxesSubplot at 0x1137243c8>"
      ]
     },
     "execution_count": 3,
     "metadata": {},
     "output_type": "execute_result"
    },
    {
     "data": {
      "image/png": "[encoded data removed]",
      "text/plain": [
       "<matplotlib.figure.Figure at 0x104484cf8>"
      ]
     },
     "metadata": {},
     "output_type": "display_data"
    }
   ],
   "source": [
    "# Try to plot the distribution of the precipitation column\n",
    "weather_df.precipitation.plot()"
   ]
  },
  {
   "cell_type": "code",
   "execution_count": null,
   "metadata": {
    "slideshow": {
     "slide_type": "slide"
    }
   },
   "outputs": [],
   "source": [
    "# What was new about the previous plot?\n",
    "# Can you do a histogram of precipitation\n"
   ]
  },
  {
   "cell_type": "markdown",
   "metadata": {
    "slideshow": {
     "slide_type": "slide"
    }
   },
   "source": [
    "# Plots So Far\n",
    "- Look better with seaborn\n",
    "- Still univariate only\n",
    "- Not much control\n",
    "\n",
    "So let's try to improve"
   ]
  },
  {
   "cell_type": "markdown",
   "metadata": {
    "slideshow": {
     "slide_type": "slide"
    }
   },
   "source": [
    "# General Seaborn/Matplot Workflow\n",
    "1. Create an empty figure\n",
    "2. Add single or multiple plots\n",
    "    - Set the plot type and assign data to axis\n",
    "3. Modify the aesthetics of the plot (e.g. axis, text, labels, ..etc.)\n",
    "4. Show/Save the plot\n",
    "\n",
    "Great for overlaying plots, making customization, and creating trellis/grid plots"
   ]
  },
  {
   "cell_type": "markdown",
   "metadata": {
    "slideshow": {
     "slide_type": "slide"
    }
   },
   "source": [
    "# Simple Seaborn Workflow\n",
    "- Just set the data to create a single plot\n",
    "\n",
    "Excellent for quick EDA and allows for some customization"
   ]
  },
  {
   "cell_type": "markdown",
   "metadata": {
    "slideshow": {
     "slide_type": "slide"
    }
   },
   "source": [
    "# CheatSheets\n",
    "Use these to remind you about the basic workflow\n",
    "- [Matplotlib](Python_Matplotlib_Cheat_Sheet.pdf)\n",
    "- [Seaborn](seaborn_cheat_sheet.pdf)\n",
    "\n",
    "**Source:** Datacamp.com"
   ]
  },
  {
   "cell_type": "markdown",
   "metadata": {
    "slideshow": {
     "slide_type": "slide"
    }
   },
   "source": [
    "# Resources\n",
    "- [How matplot lib works](https://matplotlib.org/tutorials/introductory/pyplot.html)\n",
    "- [Matplot tutorials](https://matplotlib.org/tutorials/index.html) **Excellent resource on how to perform tasks**\n",
    "- [Seaborn Tutorials](https://seaborn.pydata.org/tutorial.html)"
   ]
  },
  {
   "cell_type": "markdown",
   "metadata": {
    "slideshow": {
     "slide_type": "slide"
    }
   },
   "source": [
    "# Univariate Plots (Distributional)\n",
    "- BarPlot/CountPlot\n",
    "- Histogram/Distribution plot\n",
    "- PieChart\n",
    "- Boxplot\n",
    "- Violinplot\n",
    "- Swarmplot\n",
    "- Stripplot"
   ]
  },
  {
   "cell_type": "markdown",
   "metadata": {
    "slideshow": {
     "slide_type": "slide"
    }
   },
   "source": [
    "# Univariate Plots (Distributional)\n",
    "- Use these plots to examine the distribution of a single variable\n",
    "- You can use them also later to compare distributions of two variable or two groups\n",
    "- To determine which to use, refer again to this [cheatsheet as a starting point](https://i1.wp.com/www.tatvic.com/blog/wp-content/uploads/2016/12/Pic_2.png)\n",
    "\n",
    "Let's examine how the weather_df and cars_df look like:"
   ]
  },
  {
   "cell_type": "code",
   "execution_count": 5,
   "metadata": {
    "slideshow": {
     "slide_type": "slide"
    }
   },
   "outputs": [],
   "source": [
    "# How do we examine weather_df to know what columns exist?\n"
   ]
  },
  {
   "cell_type": "code",
   "execution_count": 7,
   "metadata": {
    "slideshow": {
     "slide_type": "slide"
    }
   },
   "outputs": [],
   "source": [
    "# How do we examine cars_df to know what columns exist?\n"
   ]
  },
  {
   "cell_type": "markdown",
   "metadata": {
    "slideshow": {
     "slide_type": "slide"
    }
   },
   "source": [
    "# Bar Plot/Count Plot\n",
    "- Best for counting occorances and distribution of categorical data\n",
    "- Count Plot is the name used in seaborn to distinguish it from the matplot bar plot, but they are the same\n",
    "- Which columns are best examined using it?"
   ]
  },
  {
   "cell_type": "markdown",
   "metadata": {
    "slideshow": {
     "slide_type": "fragment"
    }
   },
   "source": [
    "- **weather_df**: Location, Weather\n",
    "- **cars_df**: Cylinders, Origin, Year.\n",
    "    - What about Name?"
   ]
  },
  {
   "cell_type": "markdown",
   "metadata": {
    "slideshow": {
     "slide_type": "slide"
    }
   },
   "source": [
    "# How To Use Count Plot\n",
    "- Check the reference for [Count Plot in Seaborn Documentation](https://seaborn.pydata.org/generated/seaborn.countplot.html#seaborn.countplot)\n",
    "- sns.countplot is the function\n",
    "- Requires data argument, and name of variable to plot\n",
    "    - Alternatively, you can just pass the variable\n",
    "- Useful to get count of each category"
   ]
  },
  {
   "cell_type": "code",
   "execution_count": 10,
   "metadata": {
    "slideshow": {
     "slide_type": "slide"
    }
   },
   "outputs": [
    {
     "data": {
      "text/plain": [
       "<matplotlib.axes._subplots.AxesSubplot at 0x1137c2390>"
      ]
     },
     "execution_count": 10,
     "metadata": {},
     "output_type": "execute_result"
    },
    {
     "data": {
      "image/png": "[encoded data removed]",
      "text/plain": [
       "<matplotlib.figure.Figure at 0x11378a748>"
      ]
     },
     "metadata": {},
     "output_type": "display_data"
    }
   ],
   "source": [
    "# BEWARE of case sensitivity, \"Location\" will not work!\n",
    "sns.countplot(\"location\", data=weather_df)"
   ]
  },
  {
   "cell_type": "markdown",
   "metadata": {
    "slideshow": {
     "slide_type": "slide"
    }
   },
   "source": [
    "# Saving The Image Is Simple"
   ]
  },
  {
   "cell_type": "code",
   "execution_count": 11,
   "metadata": {
    "slideshow": {
     "slide_type": "fragment"
    }
   },
   "outputs": [
    {
     "data": {
      "image/png": "[encoded data removed]",
      "text/plain": [
       "<matplotlib.figure.Figure at 0x1137bb898>"
      ]
     },
     "metadata": {},
     "output_type": "display_data"
    }
   ],
   "source": [
    "# Store the image in a variable:\n",
    "cnt_plt = sns.countplot(\"location\", data=weather_df)\n",
    "# use saveFig and give the file a name\n",
    "cnt_plt.figure.savefig(\"location_count1\")\n",
    "# For transparent background use\n",
    "cnt_plt.figure.savefig(\"location_count2\", transparent=True)"
   ]
  },
  {
   "cell_type": "code",
   "execution_count": null,
   "metadata": {
    "slideshow": {
     "slide_type": "slide"
    }
   },
   "outputs": [],
   "source": [
    "# Your turn to examine the distribution of other categorical variables we identified\n",
    "# from both weather_df and cars_df\n"
   ]
  },
  {
   "cell_type": "markdown",
   "metadata": {
    "slideshow": {
     "slide_type": "slide"
    }
   },
   "source": [
    "# What About Cars_df.Name?\n",
    "- Let's try to plot it using countplot and see what the problem is:"
   ]
  },
  {
   "cell_type": "code",
   "execution_count": 12,
   "metadata": {
    "slideshow": {
     "slide_type": "fragment"
    }
   },
   "outputs": [
    {
     "data": {
      "image/png": "[encoded data removed]",
      "text/plain": [
       "<matplotlib.figure.Figure at 0x106483c50>"
      ]
     },
     "metadata": {},
     "output_type": "display_data"
    }
   ],
   "source": [
    "name_plt = sns.countplot('Name', data=cars_df)"
   ]
  },
  {
   "cell_type": "markdown",
   "metadata": {
    "slideshow": {
     "slide_type": "slide"
    }
   },
   "source": [
    "# What Can We Do?\n",
    "- Problem: Overwhelming plot which we cannot make sense of\n",
    "\n"
   ]
  },
  {
   "cell_type": "markdown",
   "metadata": {
    "slideshow": {
     "slide_type": "fragment"
    }
   },
   "source": [
    "- Cause: Many categories"
   ]
  },
  {
   "cell_type": "markdown",
   "metadata": {
    "slideshow": {
     "slide_type": "fragment"
    }
   },
   "source": [
    "- Solution: Reduce the categories, but how?\n",
    "    - By getting a subset, we cannot work with all the data in this case\n",
    "    - Must use meaningful criteria, for example:\n",
    "        - Sort the data based on count, then filter by eamining the top/bottom 5 or 10"
   ]
  },
  {
   "cell_type": "code",
   "execution_count": 13,
   "metadata": {
    "slideshow": {
     "slide_type": "slide"
    }
   },
   "outputs": [
    {
     "data": {
      "image/png": "[encoded data removed]",
      "text/plain": [
       "<matplotlib.figure.Figure at 0x11790eb00>"
      ]
     },
     "metadata": {},
     "output_type": "display_data"
    }
   ],
   "source": [
    "# But first, notice how countplot works\n",
    "data = [1,2,3,3,3,4,5,5,5,6,6,6,6]\n",
    "names_plt = sns.countplot(data)\n",
    "\n",
    "# CountPlot will do the counting of the categories for you"
   ]
  },
  {
   "cell_type": "code",
   "execution_count": 14,
   "metadata": {
    "slideshow": {
     "slide_type": "slide"
    }
   },
   "outputs": [
    {
     "data": {
      "text/plain": [
       "0              chevrolet chevelle malibu\n",
       "1                      buick skylark 320\n",
       "2                     plymouth satellite\n",
       "3                          amc rebel sst\n",
       "4                            ford torino\n",
       "5                       ford galaxie 500\n",
       "6                       chevrolet impala\n",
       "7                      plymouth fury iii\n",
       "8                       pontiac catalina\n",
       "9                     amc ambassador dpl\n",
       "10                  citroen ds-21 pallas\n",
       "11      chevrolet chevelle concours (sw)\n",
       "12                      ford torino (sw)\n",
       "13               plymouth satellite (sw)\n",
       "14                    amc rebel sst (sw)\n",
       "15                   dodge challenger se\n",
       "16                    plymouth 'cuda 340\n",
       "17                 ford mustang boss 302\n",
       "18                 chevrolet monte carlo\n",
       "19               buick estate wagon (sw)\n",
       "20                 toyota corona mark ii\n",
       "21                       plymouth duster\n",
       "22                            amc hornet\n",
       "23                         ford maverick\n",
       "24                          datsun pl510\n",
       "25          volkswagen 1131 deluxe sedan\n",
       "26                           peugeot 504\n",
       "27                           audi 100 ls\n",
       "28                              saab 99e\n",
       "29                              bmw 2002\n",
       "                     ...                \n",
       "376             chevrolet cavalier wagon\n",
       "377            chevrolet cavalier 2-door\n",
       "378           pontiac j2000 se hatchback\n",
       "379                       dodge aries se\n",
       "380                      pontiac phoenix\n",
       "381                 ford fairmont futura\n",
       "382                       amc concord dl\n",
       "383                  volkswagen rabbit l\n",
       "384                   mazda glc custom l\n",
       "385                     mazda glc custom\n",
       "386               plymouth horizon miser\n",
       "387                       mercury lynx l\n",
       "388                     nissan stanza xe\n",
       "389                honda Accelerationord\n",
       "390                       toyota corolla\n",
       "391                          honda civic\n",
       "392                   honda civic (auto)\n",
       "393                        datsun 310 gx\n",
       "394                buick century limited\n",
       "395    oldsmobile cutlass ciera (diesel)\n",
       "396           chrysler lebaron medallion\n",
       "397                       ford granada l\n",
       "398                     toyota celica gt\n",
       "399                    dodge charger 2.2\n",
       "400                     chevrolet camaro\n",
       "401                      ford mustang gl\n",
       "402                            vw pickup\n",
       "403                        dodge rampage\n",
       "404                          ford ranger\n",
       "405                           chevy s-10\n",
       "Name: Name, Length: 406, dtype: object"
      ]
     },
     "execution_count": 14,
     "metadata": {},
     "output_type": "execute_result"
    }
   ],
   "source": [
    "# Look at cars_df.Name\n",
    "cars_df.Name\n",
    "\n",
    "# It is just a list of names (Pandas calls it series)\n",
    "# CountPlot is able to count them but the image is not readable"
   ]
  },
  {
   "cell_type": "code",
   "execution_count": 15,
   "metadata": {
    "slideshow": {
     "slide_type": "slide"
    }
   },
   "outputs": [
    {
     "data": {
      "text/plain": [
       "ford pinto            6\n",
       "amc matador           5\n",
       "ford maverick         5\n",
       "toyota corolla        5\n",
       "toyota corona         4\n",
       "chevrolet chevette    4\n",
       "peugeot 504           4\n",
       "chevrolet impala      4\n",
       "amc hornet            4\n",
       "amc gremlin           4\n",
       "Name: Name, dtype: int64"
      ]
     },
     "execution_count": 15,
     "metadata": {},
     "output_type": "execute_result"
    }
   ],
   "source": [
    "# Let's get the name count and filter the top ten\n",
    "# Let's see how the data looks like\n",
    "cars_df.Name.value_counts()[:10]"
   ]
  },
  {
   "cell_type": "code",
   "execution_count": 16,
   "metadata": {
    "slideshow": {
     "slide_type": "slide"
    }
   },
   "outputs": [
    {
     "data": {
      "text/plain": [
       "<matplotlib.axes._subplots.AxesSubplot at 0x11864d198>"
      ]
     },
     "execution_count": 16,
     "metadata": {},
     "output_type": "execute_result"
    },
    {
     "data": {
      "image/png": "[encoded data removed]",
      "text/plain": [
       "<matplotlib.figure.Figure at 0x117c53a20>"
      ]
     },
     "metadata": {},
     "output_type": "display_data"
    }
   ],
   "source": [
    "# CountPlot doesnt work well with value-count data\n",
    "# If we use it, it will count the numbers for us\n",
    "# and find the times 6s, 5s, and 4s occured\n",
    "data = cars_df.Name.value_counts()[:10]\n",
    "sns.countplot(data)"
   ]
  },
  {
   "cell_type": "code",
   "execution_count": 17,
   "metadata": {
    "slideshow": {
     "slide_type": "slide"
    }
   },
   "outputs": [
    {
     "data": {
      "text/plain": [
       "<matplotlib.axes._subplots.AxesSubplot at 0x11862a710>"
      ]
     },
     "execution_count": 17,
     "metadata": {},
     "output_type": "execute_result"
    },
    {
     "data": {
      "image/png": "[encoded data removed]",
      "text/plain": [
       "<matplotlib.figure.Figure at 0x1186514a8>"
      ]
     },
     "metadata": {},
     "output_type": "display_data"
    }
   ],
   "source": [
    "# Instead use simply bar plot from matplot lib\n",
    "# after filtering topten from value_counts\n",
    "\n",
    "cars_df.Name.value_counts()[:10].plot(kind=\"bar\")\n",
    "\n",
    "# What can you tell from this plot?"
   ]
  },
  {
   "cell_type": "markdown",
   "metadata": {
    "slideshow": {
     "slide_type": "slide"
    }
   },
   "source": [
    "# Distribution Plot\n",
    "- Useful to look at the distribution of values for a continuous or numeric variable\n",
    "- Named a distribution plot to distinguish it from the matplot lib histogram, but they are the same\n",
    "- Which variables can we plot using it?"
   ]
  },
  {
   "cell_type": "code",
   "execution_count": 18,
   "metadata": {
    "slideshow": {
     "slide_type": "slide"
    }
   },
   "outputs": [
    {
     "data": {
      "text/html": [
       "<div>\n",
       "<style scoped>\n",
       "    .dataframe tbody tr th:only-of-type {\n",
       "        vertical-align: middle;\n",
       "    }\n",
       "\n",
       "    .dataframe tbody tr th {\n",
       "        vertical-align: top;\n",
       "    }\n",
       "\n",
       "    .dataframe thead th {\n",
       "        text-align: right;\n",
       "    }\n",
       "</style>\n",
       "<table border=\"1\" class=\"dataframe\">\n",
       "  <thead>\n",
       "    <tr style=\"text-align: right;\">\n",
       "      <th></th>\n",
       "      <th>location</th>\n",
       "      <th>date</th>\n",
       "      <th>precipitation</th>\n",
       "      <th>temp_max</th>\n",
       "      <th>temp_min</th>\n",
       "      <th>wind</th>\n",
       "      <th>weather</th>\n",
       "    </tr>\n",
       "  </thead>\n",
       "  <tbody>\n",
       "    <tr>\n",
       "      <th>0</th>\n",
       "      <td>Seattle</td>\n",
       "      <td>2012-01-01 00:00</td>\n",
       "      <td>0.0</td>\n",
       "      <td>12.8</td>\n",
       "      <td>5.0</td>\n",
       "      <td>4.7</td>\n",
       "      <td>drizzle</td>\n",
       "    </tr>\n",
       "    <tr>\n",
       "      <th>1</th>\n",
       "      <td>Seattle</td>\n",
       "      <td>2012-01-02 00:00</td>\n",
       "      <td>10.9</td>\n",
       "      <td>10.6</td>\n",
       "      <td>2.8</td>\n",
       "      <td>4.5</td>\n",
       "      <td>rain</td>\n",
       "    </tr>\n",
       "    <tr>\n",
       "      <th>2</th>\n",
       "      <td>Seattle</td>\n",
       "      <td>2012-01-03 00:00</td>\n",
       "      <td>0.8</td>\n",
       "      <td>11.7</td>\n",
       "      <td>7.2</td>\n",
       "      <td>2.3</td>\n",
       "      <td>rain</td>\n",
       "    </tr>\n",
       "    <tr>\n",
       "      <th>3</th>\n",
       "      <td>Seattle</td>\n",
       "      <td>2012-01-04 00:00</td>\n",
       "      <td>20.3</td>\n",
       "      <td>12.2</td>\n",
       "      <td>5.6</td>\n",
       "      <td>4.7</td>\n",
       "      <td>rain</td>\n",
       "    </tr>\n",
       "    <tr>\n",
       "      <th>4</th>\n",
       "      <td>Seattle</td>\n",
       "      <td>2012-01-05 00:00</td>\n",
       "      <td>1.3</td>\n",
       "      <td>8.9</td>\n",
       "      <td>2.8</td>\n",
       "      <td>6.1</td>\n",
       "      <td>rain</td>\n",
       "    </tr>\n",
       "  </tbody>\n",
       "</table>\n",
       "</div>"
      ],
      "text/plain": [
       "  location              date  precipitation  temp_max  temp_min  wind  weather\n",
       "0  Seattle  2012-01-01 00:00            0.0      12.8       5.0   4.7  drizzle\n",
       "1  Seattle  2012-01-02 00:00           10.9      10.6       2.8   4.5     rain\n",
       "2  Seattle  2012-01-03 00:00            0.8      11.7       7.2   2.3     rain\n",
       "3  Seattle  2012-01-04 00:00           20.3      12.2       5.6   4.7     rain\n",
       "4  Seattle  2012-01-05 00:00            1.3       8.9       2.8   6.1     rain"
      ]
     },
     "execution_count": 18,
     "metadata": {},
     "output_type": "execute_result"
    }
   ],
   "source": [
    "weather_df.head()"
   ]
  },
  {
   "cell_type": "code",
   "execution_count": 19,
   "metadata": {
    "slideshow": {
     "slide_type": "slide"
    }
   },
   "outputs": [
    {
     "data": {
      "text/html": [
       "<div>\n",
       "<style scoped>\n",
       "    .dataframe tbody tr th:only-of-type {\n",
       "        vertical-align: middle;\n",
       "    }\n",
       "\n",
       "    .dataframe tbody tr th {\n",
       "        vertical-align: top;\n",
       "    }\n",
       "\n",
       "    .dataframe thead th {\n",
       "        text-align: right;\n",
       "    }\n",
       "</style>\n",
       "<table border=\"1\" class=\"dataframe\">\n",
       "  <thead>\n",
       "    <tr style=\"text-align: right;\">\n",
       "      <th></th>\n",
       "      <th>Acceleration</th>\n",
       "      <th>Cylinders</th>\n",
       "      <th>Displacement</th>\n",
       "      <th>Horsepower</th>\n",
       "      <th>Miles_per_Gallon</th>\n",
       "      <th>Name</th>\n",
       "      <th>Origin</th>\n",
       "      <th>Weight_in_lbs</th>\n",
       "      <th>Year</th>\n",
       "    </tr>\n",
       "  </thead>\n",
       "  <tbody>\n",
       "    <tr>\n",
       "      <th>0</th>\n",
       "      <td>12.0</td>\n",
       "      <td>8</td>\n",
       "      <td>307.0</td>\n",
       "      <td>130.0</td>\n",
       "      <td>18.0</td>\n",
       "      <td>chevrolet chevelle malibu</td>\n",
       "      <td>USA</td>\n",
       "      <td>3504</td>\n",
       "      <td>1970-01-01</td>\n",
       "    </tr>\n",
       "    <tr>\n",
       "      <th>1</th>\n",
       "      <td>11.5</td>\n",
       "      <td>8</td>\n",
       "      <td>350.0</td>\n",
       "      <td>165.0</td>\n",
       "      <td>15.0</td>\n",
       "      <td>buick skylark 320</td>\n",
       "      <td>USA</td>\n",
       "      <td>3693</td>\n",
       "      <td>1970-01-01</td>\n",
       "    </tr>\n",
       "    <tr>\n",
       "      <th>2</th>\n",
       "      <td>11.0</td>\n",
       "      <td>8</td>\n",
       "      <td>318.0</td>\n",
       "      <td>150.0</td>\n",
       "      <td>18.0</td>\n",
       "      <td>plymouth satellite</td>\n",
       "      <td>USA</td>\n",
       "      <td>3436</td>\n",
       "      <td>1970-01-01</td>\n",
       "    </tr>\n",
       "    <tr>\n",
       "      <th>3</th>\n",
       "      <td>12.0</td>\n",
       "      <td>8</td>\n",
       "      <td>304.0</td>\n",
       "      <td>150.0</td>\n",
       "      <td>16.0</td>\n",
       "      <td>amc rebel sst</td>\n",
       "      <td>USA</td>\n",
       "      <td>3433</td>\n",
       "      <td>1970-01-01</td>\n",
       "    </tr>\n",
       "    <tr>\n",
       "      <th>4</th>\n",
       "      <td>10.5</td>\n",
       "      <td>8</td>\n",
       "      <td>302.0</td>\n",
       "      <td>140.0</td>\n",
       "      <td>17.0</td>\n",
       "      <td>ford torino</td>\n",
       "      <td>USA</td>\n",
       "      <td>3449</td>\n",
       "      <td>1970-01-01</td>\n",
       "    </tr>\n",
       "  </tbody>\n",
       "</table>\n",
       "</div>"
      ],
      "text/plain": [
       "   Acceleration  Cylinders  Displacement  Horsepower  Miles_per_Gallon  \\\n",
       "0          12.0          8         307.0       130.0              18.0   \n",
       "1          11.5          8         350.0       165.0              15.0   \n",
       "2          11.0          8         318.0       150.0              18.0   \n",
       "3          12.0          8         304.0       150.0              16.0   \n",
       "4          10.5          8         302.0       140.0              17.0   \n",
       "\n",
       "                        Name Origin  Weight_in_lbs        Year  \n",
       "0  chevrolet chevelle malibu    USA           3504  1970-01-01  \n",
       "1          buick skylark 320    USA           3693  1970-01-01  \n",
       "2         plymouth satellite    USA           3436  1970-01-01  \n",
       "3              amc rebel sst    USA           3433  1970-01-01  \n",
       "4                ford torino    USA           3449  1970-01-01  "
      ]
     },
     "execution_count": 19,
     "metadata": {},
     "output_type": "execute_result"
    }
   ],
   "source": [
    "cars_df.head()"
   ]
  },
  {
   "cell_type": "markdown",
   "metadata": {
    "slideshow": {
     "slide_type": "slide"
    }
   },
   "source": [
    "# Distribution Plot\n",
    "- weather_df: precipitation, temp_max, temp_min, wind\n",
    "- cars_df: Acceleration, Displacement, Horsepower, Miles_per_Gallon, Weight_in_lbs\n",
    "    - Why isn't Cylinders included here?"
   ]
  },
  {
   "cell_type": "code",
   "execution_count": 20,
   "metadata": {
    "slideshow": {
     "slide_type": "slide"
    }
   },
   "outputs": [
    {
     "data": {
      "text/plain": [
       "<matplotlib.axes._subplots.AxesSubplot at 0x1188189b0>"
      ]
     },
     "execution_count": 20,
     "metadata": {},
     "output_type": "execute_result"
    },
    {
     "data": {
      "image/png": "[encoded data removed]",
      "text/plain": [
       "<matplotlib.figure.Figure at 0x117daa748>"
      ]
     },
     "metadata": {},
     "output_type": "display_data"
    }
   ],
   "source": [
    "sns.distplot(cars_df.Acceleration)\n",
    "\n",
    "# Add the argument kde=False to remove the distribution line\n",
    "# you can set the range of values in each bar\n",
    "# using bins argument"
   ]
  },
  {
   "cell_type": "code",
   "execution_count": 22,
   "metadata": {
    "slideshow": {
     "slide_type": "slide"
    }
   },
   "outputs": [
    {
     "data": {
      "text/plain": [
       "<matplotlib.axes._subplots.AxesSubplot at 0x118ffa668>"
      ]
     },
     "execution_count": 22,
     "metadata": {},
     "output_type": "execute_result"
    },
    {
     "data": {
      "image/png": "[encoded data removed]",
      "text/plain": [
       "<matplotlib.figure.Figure at 0x118fecd68>"
      ]
     },
     "metadata": {},
     "output_type": "display_data"
    }
   ],
   "source": [
    "# Here is the distribution of another variable\n",
    "sns.distplot(cars_df.Weight_in_lbs)"
   ]
  },
  {
   "cell_type": "code",
   "execution_count": 47,
   "metadata": {
    "slideshow": {
     "slide_type": "slide"
    }
   },
   "outputs": [],
   "source": [
    "# try to plot cars_df.Horsepower\n",
    "# What is the problem?\n",
    "# how can we fix it? (2 solutions available)"
   ]
  },
  {
   "cell_type": "markdown",
   "metadata": {
    "slideshow": {
     "slide_type": "slide"
    }
   },
   "source": [
    "# Pie Chart\n",
    "- Used to represent proportinos of **categorical** variables\n",
    "- Available in Matplotlin"
   ]
  },
  {
   "cell_type": "code",
   "execution_count": 51,
   "metadata": {
    "slideshow": {
     "slide_type": "slide"
    }
   },
   "outputs": [
    {
     "data": {
      "text/plain": [
       "<matplotlib.axes._subplots.AxesSubplot at 0x11a4c14e0>"
      ]
     },
     "execution_count": 51,
     "metadata": {},
     "output_type": "execute_result"
    },
    {
     "data": {
      "image/png": "[encoded data removed]",
      "text/plain": [
       "<matplotlib.figure.Figure at 0x11a4d2d30>"
      ]
     },
     "metadata": {},
     "output_type": "display_data"
    }
   ],
   "source": [
    "cars_df.Cylinders.value_counts().plot(kind=\"pie\")"
   ]
  },
  {
   "cell_type": "code",
   "execution_count": 66,
   "metadata": {},
   "outputs": [
    {
     "data": {
      "text/plain": [
       "([<matplotlib.patches.Wedge at 0x119c8bb38>,\n",
       "  <matplotlib.patches.Wedge at 0x119c907f0>,\n",
       "  <matplotlib.patches.Wedge at 0x119c96470>,\n",
       "  <matplotlib.patches.Wedge at 0x119c9a0f0>,\n",
       "  <matplotlib.patches.Wedge at 0x119c9ad30>],\n",
       " [<matplotlib.text.Text at 0x119c90358>,\n",
       "  <matplotlib.text.Text at 0x119c90f98>,\n",
       "  <matplotlib.text.Text at 0x119c96c18>,\n",
       "  <matplotlib.text.Text at 0x119c9a898>,\n",
       "  <matplotlib.text.Text at 0x119c9e518>])"
      ]
     },
     "execution_count": 66,
     "metadata": {},
     "output_type": "execute_result"
    },
    {
     "data": {
      "image/png": "[encoded data removed]",
      "text/plain": [
       "<matplotlib.figure.Figure at 0x11b06deb8>"
      ]
     },
     "metadata": {},
     "output_type": "display_data"
    }
   ],
   "source": [
    "# another way of doing it with matplot lib\n",
    "import matplotlib.pyplot as plt\n",
    "plt.pie(cars_df.Cylinders.value_counts(), labels=cars_df.Cylinders.value_counts().index)"
   ]
  },
  {
   "cell_type": "markdown",
   "metadata": {
    "slideshow": {
     "slide_type": "slide"
    }
   },
   "source": [
    "# BoxPlot\n",
    "- One of the original plots for EDA\n",
    "- Used with continuous variables\n",
    "- Gives an idea about distribution/skewness of data\n",
    "- Inter-Quartile Range (IQR in the both (1st to 3rd quartiles)\n",
    "- Shows possible outliers (above/below 1.5*IQR)\n",
    "- Shows outliers (above/below 3*IQR)\n",
    "- Used best to compare distributions of variables or subgroups"
   ]
  },
  {
   "cell_type": "code",
   "execution_count": 77,
   "metadata": {
    "slideshow": {
     "slide_type": "slide"
    }
   },
   "outputs": [
    {
     "data": {
      "text/plain": [
       "<matplotlib.axes._subplots.AxesSubplot at 0x11c5edc50>"
      ]
     },
     "execution_count": 77,
     "metadata": {},
     "output_type": "execute_result"
    },
    {
     "data": {
      "image/png": "[encoded data removed]",
      "text/plain": [
       "<matplotlib.figure.Figure at 0x11c6834e0>"
      ]
     },
     "metadata": {},
     "output_type": "display_data"
    }
   ],
   "source": [
    "# orient can be 'v' or 'h\n",
    "sns.boxplot(cars_df.Acceleration, orient='v')"
   ]
  },
  {
   "cell_type": "markdown",
   "metadata": {
    "slideshow": {
     "slide_type": "slide"
    }
   },
   "source": [
    "# Your Turn\n",
    "Explore the [seaborn documentation](https://seaborn.pydata.org/api.html) and try to plot the categorical variables using:\n",
    "- Violin Plot\n",
    "- Swarm Plot\n",
    "- Strip Plot"
   ]
  },
  {
   "cell_type": "code",
   "execution_count": 78,
   "metadata": {
    "slideshow": {
     "slide_type": "slide"
    }
   },
   "outputs": [],
   "source": [
    "# Your work here\n",
    "# You can add cells as needed"
   ]
  },
  {
   "cell_type": "markdown",
   "metadata": {
    "slideshow": {
     "slide_type": "slide"
    }
   },
   "source": [
    "# Time Series\n",
    "- Time series is data that changes over time\n",
    "- When plotting such data, the value is placed in the Y axis with the time value on the X axis\n",
    "- Time can be period, day, date, week, month, year ..etc\n",
    "- Time values will be ordered"
   ]
  },
  {
   "cell_type": "markdown",
   "metadata": {
    "slideshow": {
     "slide_type": "slide"
    }
   },
   "source": [
    "# Plotting Time Series\n",
    "- Typically, line plots or scatter plots can be used\n",
    "- Possible to use other plots if they make sense and can show the message you are trying to convey\n",
    "    - Experiment to see what you can do\n",
    "- You can use seaborn tsplot, but it will be removed in the future\n",
    "- Use matplotlib plot_date\n"
   ]
  },
  {
   "cell_type": "code",
   "execution_count": 129,
   "metadata": {
    "slideshow": {
     "slide_type": "slide"
    }
   },
   "outputs": [],
   "source": [
    "# But first, remember to convert the date field to datetime object\n",
    "weather_df.date = pd.to_datetime(weather_df.date)"
   ]
  },
  {
   "cell_type": "code",
   "execution_count": 130,
   "metadata": {
    "slideshow": {
     "slide_type": "fragment"
    }
   },
   "outputs": [
    {
     "data": {
      "text/plain": [
       "[<matplotlib.lines.Line2D at 0x11a3244a8>]"
      ]
     },
     "execution_count": 130,
     "metadata": {},
     "output_type": "execute_result"
    },
    {
     "data": {
      "image/png": "[encoded data removed]",
      "text/plain": [
       "<matplotlib.figure.Figure at 0x11c1a42b0>"
      ]
     },
     "metadata": {},
     "output_type": "display_data"
    }
   ],
   "source": [
    "# to rotate the date by 50 degrees\n",
    "plt.xticks(rotation=50)\n",
    "\n",
    "plt.plot_date(x=weather_df.date, y=weather_df.temp_max, fmt='g-')"
   ]
  },
  {
   "cell_type": "markdown",
   "metadata": {
    "slideshow": {
     "slide_type": "slide"
    }
   },
   "source": [
    "# What is the fmt part?\n",
    "- Allows you to control how the values are drawn on the plot\n",
    "- You can set shapes, lines, and colors\n",
    "- `fmt='g-'` means green solid line\n",
    "- Remove it and run the plot again, see what happens"
   ]
  },
  {
   "cell_type": "markdown",
   "metadata": {
    "slideshow": {
     "slide_type": "slide"
    }
   },
   "source": [
    "# Example of fmt Strings \n",
    "| Character | Description |\n",
    "| --- | ---|\n",
    "|'-'|\tsolid line style|\n",
    "|'--'|\tdashed line style|\n",
    "|'-.'|\tdash-dot line style|\n",
    "|':'|\tdotted line style|\n",
    "|'.'|\tpoint marker|\n",
    "|','|\tpixel marker|\n",
    "|'o'|circle marker|\n",
    "\n",
    "- Complete list can be found [here](https://matplotlib.org/api/_as_gen/matplotlib.axes.Axes.plot.html#matplotlib.axes.Axes.plot)\n",
    "- You can even set the color"
   ]
  },
  {
   "cell_type": "markdown",
   "metadata": {
    "slideshow": {
     "slide_type": "slide"
    }
   },
   "source": [
    "# Your Turn\n",
    "Examin the documentation for [seaborn on aesthetics](https://seaborn.pydata.org/tutorial/aesthetics.html) and [matplotlib tutorials](https://matplotlib.org/tutorials/index.html) to modify the plots that we have made so far. Specifically, you need to select 4 different plot from above and perform the following:\n",
    "- Change the labels\n",
    "- Change the ticks\n",
    "- Change the title of the plot\n",
    "- Change the date format of a time series plot to be Day-Month\n",
    "    - Hint: see [this discussion](https://stackoverflow.com/questions/14946371/editing-the-date-formatting-of-x-axis-tick-labels-in-matplotlib) on how to do it\n",
    "- Change the ticks\n",
    "- Change the color pallet and style\n",
    "- **Bonus:** Try to add arrows and text to point at data points in the graph"
   ]
  },
  {
   "cell_type": "code",
   "execution_count": 1,
   "metadata": {
    "slideshow": {
     "slide_type": "slide"
    }
   },
   "outputs": [],
   "source": [
    "# Your work here\n",
    "# don't forget to move the plots you will work on here"
   ]
  }
 ],
 "metadata": {
  "anaconda-cloud": {},
  "celltoolbar": "Slideshow",
  "kernelspec": {
   "display_name": "Python 3",
   "language": "python",
   "name": "python3"
  },
  "language_info": {
   "codemirror_mode": {
    "name": "ipython",
    "version": 3
   },
   "file_extension": ".py",
   "mimetype": "text/x-python",
   "name": "python",
   "nbconvert_exporter": "python",
   "pygments_lexer": "ipython3",
   "version": "3.5.2"
  }
 },
 "nbformat": 4,
 "nbformat_minor": 1
}

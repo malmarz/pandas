{
 "cells": [
  {
   "cell_type": "markdown",
   "metadata": {},
   "source": [
    "# Using Tweepy to Fetch Large Data Sets\n",
    "Look at the following code, besure to understand what it does, then adapt it to your needs.\n",
    "\n",
    "Much of the code here is adaped from [Tweepy Best Practices](http://www.nirg.net/using-tweepy.html)"
   ]
  },
  {
   "cell_type": "markdown",
   "metadata": {},
   "source": [
    "# Let tweepy manage rate limiting for you\n",
    "\n",
    "instead of managing time.sleep by yourself, let tweepy manage it for you by changing the following setting on the API:\n",
    "\n",
    "- Set wait_on_rate_limit to True, as this will allow tweepy to automatically manage rate limiting for you\n",
    "- Set also wait_on_rate_limit_notify to True so that the API will print a message letting you know that it is waiting on rate limiting to end\n",
    "\n",
    "The API configuration will now look like this:"
   ]
  },
  {
   "cell_type": "code",
   "execution_count": null,
   "metadata": {},
   "outputs": [],
   "source": [
    "api = tweepy.API(auth,wait_on_rate_limit=True, wait_on_rate_limit_notify=True)"
   ]
  },
  {
   "cell_type": "markdown",
   "metadata": {},
   "source": [
    "# Configure the API to take into account some unepected connection errors\n",
    "\n",
    "Set the following options on the API configuration:\n",
    "\n",
    "- set retry_errors and give it the http errors that tweepy needs to retry on, like connection errors\n",
    "- set retry_count and retry_delay\n",
    "\n",
    "The added configurations look like this:"
   ]
  },
  {
   "cell_type": "code",
   "execution_count": null,
   "metadata": {},
   "outputs": [],
   "source": [
    "api = tweepy.API(auth,wait_on_rate_limit=True, wait_on_rate_limit_notify=True,\n",
    "                 # these are the new configurations\n",
    "                 retry_count=3, # retry 3 times\n",
    "                 retry_delay=5, # wait 5 seconds between retries\n",
    "                 retry_errors=set([401, 404, 500, 503]) # the errors that you retry on\n",
    "                )"
   ]
  },
  {
   "cell_type": "markdown",
   "metadata": {},
   "source": [
    "# Store progress, and remember to print some information to allow you to pickup where you stopped\n",
    "\n",
    "Twitter uses cursor to continue with fetching data where it left off\n",
    "\n",
    "If the cursor value is -1, it will start from the beginning\n",
    "\n",
    "If you print the value of next_cursor, you can use it to continue where you left off if you stop\n",
    "\n",
    "For that you place the cursor in a variable, and always print the next_page value on error\n",
    "\n",
    "Remember to always store the data you receive\n",
    "\n",
    "See how the final code looks like:"
   ]
  },
  {
   "cell_type": "code",
   "execution_count": 4,
   "metadata": {},
   "outputs": [
    {
     "name": "stdout",
     "output_type": "stream",
     "text": [
      "Rate limit reached. Sleeping for: 687\n",
      "error is  \n",
      "next_cursor is  -1\n"
     ]
    }
   ],
   "source": [
    "import pandas as pd\n",
    "import tweepy\n",
    "\n",
    "# lets add first key\n",
    "consumer_key = \"**HIDDEN**\"\n",
    "consumer_secret = \"**HIDDEN**\"\n",
    "access_token = \"**HIDDEN**\"\n",
    "access_token_secret = \"**HIDDEN**\"\n",
    "auth = tweepy.OAuthHandler(consumer_key, consumer_secret)\n",
    "auth.set_access_token(access_token, access_token_secret)\n",
    "\n",
    "\n",
    "# you can add more keys here, I will use only one\n",
    "\n",
    "# configuring the api instance\n",
    "api = tweepy.API(auth, # the keys list\n",
    "                 wait_on_rate_limit=True, # will manage rate limiting\n",
    "                 wait_on_rate_limit_notify=True, # will notify me of rate limiting\n",
    "                 # these are the new configurations\n",
    "                 retry_count=3, # retry 3 times\n",
    "                 retry_delay=5, # wait 5 seconds between retries\n",
    "                 retry_errors=set([401, 404, 500, 503]) # the errors that you retry on\n",
    "                )\n",
    "\n",
    "\n",
    "# put the cursor in a variable\n",
    "# you can set the limit of pages, for example 5 pages:\n",
    "#followers_cursor = tweepy.Cursor(api.followers, screen_name=\"zainkuwait\").pages()\n",
    "\n",
    "\n",
    "# but im going to fetch all the pages\n",
    "\n",
    "# notice that next_cursor is set to -1\n",
    "# change this value to the value printed in the error message\n",
    "# for next_cursor to continue where you left off\n",
    "next_cursor = -1 \n",
    "followers_cursor = tweepy.Cursor(api.followers, screen_name=\"zainkuwait\", cursor=next_cursor).pages()\n",
    "\n",
    "# this will hold the dataframe\n",
    "follower_df = None\n",
    "\n",
    "# now start fetching pages:\n",
    "try:\n",
    "    for page in followers_cursor:\n",
    "        # fetch the data that you want from the page\n",
    "        follower_data_list = [\n",
    "            {\n",
    "                # Remeber, User is an object not a dictionary\n",
    "                \"screen_name\": x.screen_name,\n",
    "                \"location\": x.location,\n",
    "                \"description\": x.description,\n",
    "                \"protected\": x.protected,\n",
    "                \"followers_count\": x.followers_count,\n",
    "                \"favourites_count\": x.favourites_count,\n",
    "                \"statuses_count\": x.statuses_count,\n",
    "                \"created_at\": x.created_at,\n",
    "            } for x in page\n",
    "        ]\n",
    "        # create a dataframe and append new data to it\n",
    "        if follower_df is None:\n",
    "            follower_df = pd.DataFrame(follower_data_list)\n",
    "        else:\n",
    "            follower_df = follower_df.append(pd.DataFrame(follower_data_list), ignore_index=True)\n",
    "# in case of any error, then store the dataframe, and print the next_cursor\n",
    "# with KeyboardInterrupt, even if u stop the cell, you save the data\n",
    "# and get the next_cursor\n",
    "except (Exception, KeyboardInterrupt) as e:\n",
    "    print(\"error is \",e)\n",
    "    print(\"next_cursor is \", followers_cursor.next_cursor)\n",
    "    # dont forget to store the dataframe after the loop is done\n",
    "    # so we do it outside\n",
    "\n",
    "if follower_df:\n",
    "    follower_df.to_csv(\"zain_followers.csv\")\n",
    "    \n",
    "    "
   ]
  },
  {
   "cell_type": "markdown",
   "metadata": {},
   "source": []
  }
 ],
 "metadata": {
  "kernelspec": {
   "display_name": "Python 3",
   "language": "python",
   "name": "python3"
  },
  "language_info": {
   "codemirror_mode": {
    "name": "ipython",
    "version": 3
   },
   "file_extension": ".py",
   "mimetype": "text/x-python",
   "name": "python",
   "nbconvert_exporter": "python",
   "pygments_lexer": "ipython3",
   "version": "3.5.2"
  }
 },
 "nbformat": 4,
 "nbformat_minor": 2
}

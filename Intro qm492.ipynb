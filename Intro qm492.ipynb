{
 "cells": [
  {
   "cell_type": "markdown",
   "metadata": {
    "slideshow": {
     "slide_type": "slide"
    }
   },
   "source": [
    "# Welcome to QM 492\n",
    "## Data Analysis and Visualization\n",
    "\n",
    "by Dr. Mohammad AlMarzouq\n",
    "\n",
    "Course website: [bit.ly/mis492_syl](http://bit.ly/mis492_syl)"
   ]
  },
  {
   "cell_type": "markdown",
   "metadata": {
    "slideshow": {
     "slide_type": "slide"
    }
   },
   "source": [
    "# Course Plan:\n",
    "- 8 weeks of course work.\n",
    "- 8 weeks of Project work and self learning.\n"
   ]
  },
  {
   "cell_type": "markdown",
   "metadata": {
    "slideshow": {
     "slide_type": "slide"
    }
   },
   "source": [
    "# Course Work Plan:\n",
    "- Week 1: Python primer.\n",
    "- Week 2: Pandas and dataframes.\n",
    "- Week 3: Loading/Storing data.\n",
    "- Week 4: External data sources (The internet).\n",
    "- Week 5: Exploring and cleaning Data."
   ]
  },
  {
   "cell_type": "markdown",
   "metadata": {
    "slideshow": {
     "slide_type": "slide"
    }
   },
   "source": [
    "# Course Work Plan (cont.):\n",
    "- Week 6: Reshaping data.\n",
    "- Week 7: Plotting and Visualization\n",
    "- Week 8: Topics to persue:\n",
    " + Natural Language Processing (NLP)\n",
    " + Machine Learning (ML)\n",
    " + Social Network Analysis (SNA)"
   ]
  },
  {
   "cell_type": "markdown",
   "metadata": {
    "slideshow": {
     "slide_type": "slide"
    }
   },
   "source": [
    "# Projects:\n",
    "- Midterm project:\n",
    " + Design to evaluate skills from week 1 to 7\n",
    " + Unified requirements"
   ]
  },
  {
   "cell_type": "markdown",
   "metadata": {
    "slideshow": {
     "slide_type": "slide"
    }
   },
   "source": [
    "# Projects (cont.):\n",
    "- Final Project:\n",
    " + Apply learned and self-learned skills\n",
    " + Phased:\n",
    "   1. Proposal (class presentation)\n",
    "   2. 1st Submission (meeting)\n",
    "   3. 2nd Submission (meeting)\n",
    "   4. Final Submission (class presentation)"
   ]
  },
  {
   "cell_type": "markdown",
   "metadata": {
    "slideshow": {
     "slide_type": "slide"
    }
   },
   "source": [
    "# Recommended resources: \n",
    "- [Think Python](http://greenteapress.com/wp/think-python-2e/): Your reference for the python language (Free online book)\n",
    "- [Python for Data Analysis](http://shop.oreilly.com/product/0636920050896.do): Excellent book on Pandas and data analysis and visualization (Paid)\n",
    "- [Programming Collective Intelligence](http://shop.oreilly.com/product/9780596529321.do): Best introductory book to making use of data (Paid)"
   ]
  },
  {
   "cell_type": "code",
   "execution_count": null,
   "metadata": {},
   "outputs": [],
   "source": []
  }
 ],
 "metadata": {
  "celltoolbar": "Slideshow",
  "kernelspec": {
   "display_name": "Python 3",
   "language": "python",
   "name": "python3"
  },
  "language_info": {
   "codemirror_mode": {
    "name": "ipython",
    "version": 3
   },
   "file_extension": ".py",
   "mimetype": "text/x-python",
   "name": "python",
   "nbconvert_exporter": "python",
   "pygments_lexer": "ipython3",
   "version": "3.5.2"
  }
 },
 "nbformat": 4,
 "nbformat_minor": 1
}
